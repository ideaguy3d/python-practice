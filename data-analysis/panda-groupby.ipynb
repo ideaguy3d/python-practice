{
 "cells": [
  {
   "cell_type": "code",
   "execution_count": 18,
   "metadata": {
    "collapsed": true
   },
   "outputs": [
    {
     "data": {
      "text/plain": "   i  fixed_acidity  volatile_acidity  citric_acid  residual_sugar  chlorides  \\\n0  0            7.4              0.70         0.00             1.9      0.076   \n1  1            7.8              0.88         0.00             2.6      0.098   \n2  2            7.8              0.76         0.04             2.3      0.092   \n3  3           11.2              0.28         0.56             1.9      0.075   \n4  4            7.4              0.70         0.00             1.9      0.076   \n\n   free_sulfur_dioxide  total_sulfur_dioxide  density    pH  sulphates  \\\n0                   11                    34   0.9978  3.51       0.56   \n1                   25                    67   0.9968  3.20       0.68   \n2                   15                    54   0.9970  3.26       0.65   \n3                   17                    60   0.9980  3.16       0.58   \n4                   11                    34   0.9978  3.51       0.56   \n\n   alcohol  quality  color  \n0      9.4        5  white  \n1      9.8        5  white  \n2      9.8        5  white  \n3      9.8        6  white  \n4      9.4        5  white  ",
      "text/html": "<div>\n<style scoped>\n    .dataframe tbody tr th:only-of-type {\n        vertical-align: middle;\n    }\n\n    .dataframe tbody tr th {\n        vertical-align: top;\n    }\n\n    .dataframe thead th {\n        text-align: right;\n    }\n</style>\n<table border=\"1\" class=\"dataframe\">\n  <thead>\n    <tr style=\"text-align: right;\">\n      <th></th>\n      <th>i</th>\n      <th>fixed_acidity</th>\n      <th>volatile_acidity</th>\n      <th>citric_acid</th>\n      <th>residual_sugar</th>\n      <th>chlorides</th>\n      <th>free_sulfur_dioxide</th>\n      <th>total_sulfur_dioxide</th>\n      <th>density</th>\n      <th>pH</th>\n      <th>sulphates</th>\n      <th>alcohol</th>\n      <th>quality</th>\n      <th>color</th>\n    </tr>\n  </thead>\n  <tbody>\n    <tr>\n      <th>0</th>\n      <td>0</td>\n      <td>7.4</td>\n      <td>0.70</td>\n      <td>0.00</td>\n      <td>1.9</td>\n      <td>0.076</td>\n      <td>11</td>\n      <td>34</td>\n      <td>0.9978</td>\n      <td>3.51</td>\n      <td>0.56</td>\n      <td>9.4</td>\n      <td>5</td>\n      <td>white</td>\n    </tr>\n    <tr>\n      <th>1</th>\n      <td>1</td>\n      <td>7.8</td>\n      <td>0.88</td>\n      <td>0.00</td>\n      <td>2.6</td>\n      <td>0.098</td>\n      <td>25</td>\n      <td>67</td>\n      <td>0.9968</td>\n      <td>3.20</td>\n      <td>0.68</td>\n      <td>9.8</td>\n      <td>5</td>\n      <td>white</td>\n    </tr>\n    <tr>\n      <th>2</th>\n      <td>2</td>\n      <td>7.8</td>\n      <td>0.76</td>\n      <td>0.04</td>\n      <td>2.3</td>\n      <td>0.092</td>\n      <td>15</td>\n      <td>54</td>\n      <td>0.9970</td>\n      <td>3.26</td>\n      <td>0.65</td>\n      <td>9.8</td>\n      <td>5</td>\n      <td>white</td>\n    </tr>\n    <tr>\n      <th>3</th>\n      <td>3</td>\n      <td>11.2</td>\n      <td>0.28</td>\n      <td>0.56</td>\n      <td>1.9</td>\n      <td>0.075</td>\n      <td>17</td>\n      <td>60</td>\n      <td>0.9980</td>\n      <td>3.16</td>\n      <td>0.58</td>\n      <td>9.8</td>\n      <td>6</td>\n      <td>white</td>\n    </tr>\n    <tr>\n      <th>4</th>\n      <td>4</td>\n      <td>7.4</td>\n      <td>0.70</td>\n      <td>0.00</td>\n      <td>1.9</td>\n      <td>0.076</td>\n      <td>11</td>\n      <td>34</td>\n      <td>0.9978</td>\n      <td>3.51</td>\n      <td>0.56</td>\n      <td>9.4</td>\n      <td>5</td>\n      <td>white</td>\n    </tr>\n  </tbody>\n</table>\n</div>"
     },
     "execution_count": 18,
     "metadata": {},
     "output_type": "execute_result"
    }
   ],
   "source": [
    "import pandas as panda\n",
    "wine_csv = 'data/wine_equality_edited.csv'\n",
    "df = panda.read_csv(wine_csv)\n",
    "df.head()"
   ]
  },
  {
   "cell_type": "code",
   "execution_count": 19,
   "outputs": [
    {
     "data": {
      "text/plain": "i                       24.500000\nfixed_acidity            7.510000\nvolatile_acidity         0.552000\ncitric_acid              0.193200\nresidual_sugar           2.644000\nchlorides                0.104140\nfree_sulfur_dioxide     15.560000\ntotal_sulfur_dioxide    54.340000\ndensity                  0.996818\npH                       3.336600\nsulphates                0.683600\nalcohol                  9.742000\nquality                  5.280000\ndtype: float64"
     },
     "execution_count": 19,
     "metadata": {},
     "output_type": "execute_result"
    }
   ],
   "source": [
    "df.mean()"
   ],
   "metadata": {
    "collapsed": false,
    "pycharm": {
     "name": "#%%\n"
    }
   }
  },
  {
   "cell_type": "code",
   "execution_count": 20,
   "outputs": [
    {
     "data": {
      "text/plain": "                i  fixed_acidity  volatile_acidity  citric_acid  \\\nquality                                                           \n4        35.50000       6.625000          0.712500     0.155000   \n5        23.21875       7.428125          0.561562     0.188438   \n6        27.20000       7.960000          0.489000     0.215000   \n7        17.00000       7.925000          0.472500     0.215000   \n\n         residual_sugar  chlorides  free_sulfur_dioxide  total_sulfur_dioxide  \\\nquality                                                                         \n4              2.700000   0.100000               9.5000              39.75000   \n5              2.521875   0.099031              15.5625              62.09375   \n6              3.360000   0.134200              17.0000              39.90000   \n7              1.775000   0.074000              18.0000              43.00000   \n\n          density        pH  sulphates   alcohol  \nquality                                           \n4        0.995600  3.510000   0.512500  10.30000  \n5        0.996866  3.317812   0.720625   9.60625  \n6        0.997370  3.334000   0.655000   9.88000  \n7        0.996275  3.320000   0.630000   9.92500  ",
      "text/html": "<div>\n<style scoped>\n    .dataframe tbody tr th:only-of-type {\n        vertical-align: middle;\n    }\n\n    .dataframe tbody tr th {\n        vertical-align: top;\n    }\n\n    .dataframe thead th {\n        text-align: right;\n    }\n</style>\n<table border=\"1\" class=\"dataframe\">\n  <thead>\n    <tr style=\"text-align: right;\">\n      <th></th>\n      <th>i</th>\n      <th>fixed_acidity</th>\n      <th>volatile_acidity</th>\n      <th>citric_acid</th>\n      <th>residual_sugar</th>\n      <th>chlorides</th>\n      <th>free_sulfur_dioxide</th>\n      <th>total_sulfur_dioxide</th>\n      <th>density</th>\n      <th>pH</th>\n      <th>sulphates</th>\n      <th>alcohol</th>\n    </tr>\n    <tr>\n      <th>quality</th>\n      <th></th>\n      <th></th>\n      <th></th>\n      <th></th>\n      <th></th>\n      <th></th>\n      <th></th>\n      <th></th>\n      <th></th>\n      <th></th>\n      <th></th>\n      <th></th>\n    </tr>\n  </thead>\n  <tbody>\n    <tr>\n      <th>4</th>\n      <td>35.50000</td>\n      <td>6.625000</td>\n      <td>0.712500</td>\n      <td>0.155000</td>\n      <td>2.700000</td>\n      <td>0.100000</td>\n      <td>9.5000</td>\n      <td>39.75000</td>\n      <td>0.995600</td>\n      <td>3.510000</td>\n      <td>0.512500</td>\n      <td>10.30000</td>\n    </tr>\n    <tr>\n      <th>5</th>\n      <td>23.21875</td>\n      <td>7.428125</td>\n      <td>0.561562</td>\n      <td>0.188438</td>\n      <td>2.521875</td>\n      <td>0.099031</td>\n      <td>15.5625</td>\n      <td>62.09375</td>\n      <td>0.996866</td>\n      <td>3.317812</td>\n      <td>0.720625</td>\n      <td>9.60625</td>\n    </tr>\n    <tr>\n      <th>6</th>\n      <td>27.20000</td>\n      <td>7.960000</td>\n      <td>0.489000</td>\n      <td>0.215000</td>\n      <td>3.360000</td>\n      <td>0.134200</td>\n      <td>17.0000</td>\n      <td>39.90000</td>\n      <td>0.997370</td>\n      <td>3.334000</td>\n      <td>0.655000</td>\n      <td>9.88000</td>\n    </tr>\n    <tr>\n      <th>7</th>\n      <td>17.00000</td>\n      <td>7.925000</td>\n      <td>0.472500</td>\n      <td>0.215000</td>\n      <td>1.775000</td>\n      <td>0.074000</td>\n      <td>18.0000</td>\n      <td>43.00000</td>\n      <td>0.996275</td>\n      <td>3.320000</td>\n      <td>0.630000</td>\n      <td>9.92500</td>\n    </tr>\n  </tbody>\n</table>\n</div>"
     },
     "execution_count": 20,
     "metadata": {},
     "output_type": "execute_result"
    }
   ],
   "source": [
    "df.groupby('quality').mean()"
   ],
   "metadata": {
    "collapsed": false,
    "pycharm": {
     "name": "#%%\n"
    }
   }
  },
  {
   "cell_type": "code",
   "execution_count": 21,
   "outputs": [
    {
     "data": {
      "text/plain": "                      i  fixed_acidity  volatile_acidity  citric_acid  \\\nquality color                                                           \n4       red    35.50000       6.625000          0.712500     0.155000   \n        white  35.50000       6.625000          0.712500     0.155000   \n5       red    23.21875       7.428125          0.561562     0.188438   \n        white  23.21875       7.428125          0.561562     0.188438   \n6       red    27.20000       7.960000          0.489000     0.215000   \n        white  27.20000       7.960000          0.489000     0.215000   \n7       red    17.00000       7.925000          0.472500     0.215000   \n        white  17.00000       7.925000          0.472500     0.215000   \n\n               residual_sugar  chlorides  free_sulfur_dioxide  \\\nquality color                                                   \n4       red          2.700000   0.100000               9.5000   \n        white        2.700000   0.100000               9.5000   \n5       red          2.521875   0.099031              15.5625   \n        white        2.521875   0.099031              15.5625   \n6       red          3.360000   0.134200              17.0000   \n        white        3.360000   0.134200              17.0000   \n7       red          1.775000   0.074000              18.0000   \n        white        1.775000   0.074000              18.0000   \n\n               total_sulfur_dioxide   density        pH  sulphates   alcohol  \nquality color                                                                 \n4       red                39.75000  0.995600  3.510000   0.512500  10.30000  \n        white              39.75000  0.995600  3.510000   0.512500  10.30000  \n5       red                62.09375  0.996866  3.317812   0.720625   9.60625  \n        white              62.09375  0.996866  3.317812   0.720625   9.60625  \n6       red                39.90000  0.997370  3.334000   0.655000   9.88000  \n        white              39.90000  0.997370  3.334000   0.655000   9.88000  \n7       red                43.00000  0.996275  3.320000   0.630000   9.92500  \n        white              43.00000  0.996275  3.320000   0.630000   9.92500  ",
      "text/html": "<div>\n<style scoped>\n    .dataframe tbody tr th:only-of-type {\n        vertical-align: middle;\n    }\n\n    .dataframe tbody tr th {\n        vertical-align: top;\n    }\n\n    .dataframe thead th {\n        text-align: right;\n    }\n</style>\n<table border=\"1\" class=\"dataframe\">\n  <thead>\n    <tr style=\"text-align: right;\">\n      <th></th>\n      <th></th>\n      <th>i</th>\n      <th>fixed_acidity</th>\n      <th>volatile_acidity</th>\n      <th>citric_acid</th>\n      <th>residual_sugar</th>\n      <th>chlorides</th>\n      <th>free_sulfur_dioxide</th>\n      <th>total_sulfur_dioxide</th>\n      <th>density</th>\n      <th>pH</th>\n      <th>sulphates</th>\n      <th>alcohol</th>\n    </tr>\n    <tr>\n      <th>quality</th>\n      <th>color</th>\n      <th></th>\n      <th></th>\n      <th></th>\n      <th></th>\n      <th></th>\n      <th></th>\n      <th></th>\n      <th></th>\n      <th></th>\n      <th></th>\n      <th></th>\n      <th></th>\n    </tr>\n  </thead>\n  <tbody>\n    <tr>\n      <th rowspan=\"2\" valign=\"top\">4</th>\n      <th>red</th>\n      <td>35.50000</td>\n      <td>6.625000</td>\n      <td>0.712500</td>\n      <td>0.155000</td>\n      <td>2.700000</td>\n      <td>0.100000</td>\n      <td>9.5000</td>\n      <td>39.75000</td>\n      <td>0.995600</td>\n      <td>3.510000</td>\n      <td>0.512500</td>\n      <td>10.30000</td>\n    </tr>\n    <tr>\n      <th>white</th>\n      <td>35.50000</td>\n      <td>6.625000</td>\n      <td>0.712500</td>\n      <td>0.155000</td>\n      <td>2.700000</td>\n      <td>0.100000</td>\n      <td>9.5000</td>\n      <td>39.75000</td>\n      <td>0.995600</td>\n      <td>3.510000</td>\n      <td>0.512500</td>\n      <td>10.30000</td>\n    </tr>\n    <tr>\n      <th rowspan=\"2\" valign=\"top\">5</th>\n      <th>red</th>\n      <td>23.21875</td>\n      <td>7.428125</td>\n      <td>0.561562</td>\n      <td>0.188438</td>\n      <td>2.521875</td>\n      <td>0.099031</td>\n      <td>15.5625</td>\n      <td>62.09375</td>\n      <td>0.996866</td>\n      <td>3.317812</td>\n      <td>0.720625</td>\n      <td>9.60625</td>\n    </tr>\n    <tr>\n      <th>white</th>\n      <td>23.21875</td>\n      <td>7.428125</td>\n      <td>0.561562</td>\n      <td>0.188438</td>\n      <td>2.521875</td>\n      <td>0.099031</td>\n      <td>15.5625</td>\n      <td>62.09375</td>\n      <td>0.996866</td>\n      <td>3.317812</td>\n      <td>0.720625</td>\n      <td>9.60625</td>\n    </tr>\n    <tr>\n      <th rowspan=\"2\" valign=\"top\">6</th>\n      <th>red</th>\n      <td>27.20000</td>\n      <td>7.960000</td>\n      <td>0.489000</td>\n      <td>0.215000</td>\n      <td>3.360000</td>\n      <td>0.134200</td>\n      <td>17.0000</td>\n      <td>39.90000</td>\n      <td>0.997370</td>\n      <td>3.334000</td>\n      <td>0.655000</td>\n      <td>9.88000</td>\n    </tr>\n    <tr>\n      <th>white</th>\n      <td>27.20000</td>\n      <td>7.960000</td>\n      <td>0.489000</td>\n      <td>0.215000</td>\n      <td>3.360000</td>\n      <td>0.134200</td>\n      <td>17.0000</td>\n      <td>39.90000</td>\n      <td>0.997370</td>\n      <td>3.334000</td>\n      <td>0.655000</td>\n      <td>9.88000</td>\n    </tr>\n    <tr>\n      <th rowspan=\"2\" valign=\"top\">7</th>\n      <th>red</th>\n      <td>17.00000</td>\n      <td>7.925000</td>\n      <td>0.472500</td>\n      <td>0.215000</td>\n      <td>1.775000</td>\n      <td>0.074000</td>\n      <td>18.0000</td>\n      <td>43.00000</td>\n      <td>0.996275</td>\n      <td>3.320000</td>\n      <td>0.630000</td>\n      <td>9.92500</td>\n    </tr>\n    <tr>\n      <th>white</th>\n      <td>17.00000</td>\n      <td>7.925000</td>\n      <td>0.472500</td>\n      <td>0.215000</td>\n      <td>1.775000</td>\n      <td>0.074000</td>\n      <td>18.0000</td>\n      <td>43.00000</td>\n      <td>0.996275</td>\n      <td>3.320000</td>\n      <td>0.630000</td>\n      <td>9.92500</td>\n    </tr>\n  </tbody>\n</table>\n</div>"
     },
     "execution_count": 21,
     "metadata": {},
     "output_type": "execute_result"
    }
   ],
   "source": [
    "df.groupby(['quality', 'color']).mean()"
   ],
   "metadata": {
    "collapsed": false,
    "pycharm": {
     "name": "#%%\n"
    }
   }
  },
  {
   "cell_type": "code",
   "execution_count": 22,
   "outputs": [
    {
     "data": {
      "text/plain": "   quality  color         i  fixed_acidity  volatile_acidity  citric_acid  \\\n0        4    red  35.50000       6.625000          0.712500     0.155000   \n1        4  white  35.50000       6.625000          0.712500     0.155000   \n2        5    red  23.21875       7.428125          0.561562     0.188438   \n3        5  white  23.21875       7.428125          0.561562     0.188438   \n4        6    red  27.20000       7.960000          0.489000     0.215000   \n5        6  white  27.20000       7.960000          0.489000     0.215000   \n6        7    red  17.00000       7.925000          0.472500     0.215000   \n7        7  white  17.00000       7.925000          0.472500     0.215000   \n\n   residual_sugar  chlorides  free_sulfur_dioxide  total_sulfur_dioxide  \\\n0        2.700000   0.100000               9.5000              39.75000   \n1        2.700000   0.100000               9.5000              39.75000   \n2        2.521875   0.099031              15.5625              62.09375   \n3        2.521875   0.099031              15.5625              62.09375   \n4        3.360000   0.134200              17.0000              39.90000   \n5        3.360000   0.134200              17.0000              39.90000   \n6        1.775000   0.074000              18.0000              43.00000   \n7        1.775000   0.074000              18.0000              43.00000   \n\n    density        pH  sulphates   alcohol  \n0  0.995600  3.510000   0.512500  10.30000  \n1  0.995600  3.510000   0.512500  10.30000  \n2  0.996866  3.317812   0.720625   9.60625  \n3  0.996866  3.317812   0.720625   9.60625  \n4  0.997370  3.334000   0.655000   9.88000  \n5  0.997370  3.334000   0.655000   9.88000  \n6  0.996275  3.320000   0.630000   9.92500  \n7  0.996275  3.320000   0.630000   9.92500  ",
      "text/html": "<div>\n<style scoped>\n    .dataframe tbody tr th:only-of-type {\n        vertical-align: middle;\n    }\n\n    .dataframe tbody tr th {\n        vertical-align: top;\n    }\n\n    .dataframe thead th {\n        text-align: right;\n    }\n</style>\n<table border=\"1\" class=\"dataframe\">\n  <thead>\n    <tr style=\"text-align: right;\">\n      <th></th>\n      <th>quality</th>\n      <th>color</th>\n      <th>i</th>\n      <th>fixed_acidity</th>\n      <th>volatile_acidity</th>\n      <th>citric_acid</th>\n      <th>residual_sugar</th>\n      <th>chlorides</th>\n      <th>free_sulfur_dioxide</th>\n      <th>total_sulfur_dioxide</th>\n      <th>density</th>\n      <th>pH</th>\n      <th>sulphates</th>\n      <th>alcohol</th>\n    </tr>\n  </thead>\n  <tbody>\n    <tr>\n      <th>0</th>\n      <td>4</td>\n      <td>red</td>\n      <td>35.50000</td>\n      <td>6.625000</td>\n      <td>0.712500</td>\n      <td>0.155000</td>\n      <td>2.700000</td>\n      <td>0.100000</td>\n      <td>9.5000</td>\n      <td>39.75000</td>\n      <td>0.995600</td>\n      <td>3.510000</td>\n      <td>0.512500</td>\n      <td>10.30000</td>\n    </tr>\n    <tr>\n      <th>1</th>\n      <td>4</td>\n      <td>white</td>\n      <td>35.50000</td>\n      <td>6.625000</td>\n      <td>0.712500</td>\n      <td>0.155000</td>\n      <td>2.700000</td>\n      <td>0.100000</td>\n      <td>9.5000</td>\n      <td>39.75000</td>\n      <td>0.995600</td>\n      <td>3.510000</td>\n      <td>0.512500</td>\n      <td>10.30000</td>\n    </tr>\n    <tr>\n      <th>2</th>\n      <td>5</td>\n      <td>red</td>\n      <td>23.21875</td>\n      <td>7.428125</td>\n      <td>0.561562</td>\n      <td>0.188438</td>\n      <td>2.521875</td>\n      <td>0.099031</td>\n      <td>15.5625</td>\n      <td>62.09375</td>\n      <td>0.996866</td>\n      <td>3.317812</td>\n      <td>0.720625</td>\n      <td>9.60625</td>\n    </tr>\n    <tr>\n      <th>3</th>\n      <td>5</td>\n      <td>white</td>\n      <td>23.21875</td>\n      <td>7.428125</td>\n      <td>0.561562</td>\n      <td>0.188438</td>\n      <td>2.521875</td>\n      <td>0.099031</td>\n      <td>15.5625</td>\n      <td>62.09375</td>\n      <td>0.996866</td>\n      <td>3.317812</td>\n      <td>0.720625</td>\n      <td>9.60625</td>\n    </tr>\n    <tr>\n      <th>4</th>\n      <td>6</td>\n      <td>red</td>\n      <td>27.20000</td>\n      <td>7.960000</td>\n      <td>0.489000</td>\n      <td>0.215000</td>\n      <td>3.360000</td>\n      <td>0.134200</td>\n      <td>17.0000</td>\n      <td>39.90000</td>\n      <td>0.997370</td>\n      <td>3.334000</td>\n      <td>0.655000</td>\n      <td>9.88000</td>\n    </tr>\n    <tr>\n      <th>5</th>\n      <td>6</td>\n      <td>white</td>\n      <td>27.20000</td>\n      <td>7.960000</td>\n      <td>0.489000</td>\n      <td>0.215000</td>\n      <td>3.360000</td>\n      <td>0.134200</td>\n      <td>17.0000</td>\n      <td>39.90000</td>\n      <td>0.997370</td>\n      <td>3.334000</td>\n      <td>0.655000</td>\n      <td>9.88000</td>\n    </tr>\n    <tr>\n      <th>6</th>\n      <td>7</td>\n      <td>red</td>\n      <td>17.00000</td>\n      <td>7.925000</td>\n      <td>0.472500</td>\n      <td>0.215000</td>\n      <td>1.775000</td>\n      <td>0.074000</td>\n      <td>18.0000</td>\n      <td>43.00000</td>\n      <td>0.996275</td>\n      <td>3.320000</td>\n      <td>0.630000</td>\n      <td>9.92500</td>\n    </tr>\n    <tr>\n      <th>7</th>\n      <td>7</td>\n      <td>white</td>\n      <td>17.00000</td>\n      <td>7.925000</td>\n      <td>0.472500</td>\n      <td>0.215000</td>\n      <td>1.775000</td>\n      <td>0.074000</td>\n      <td>18.0000</td>\n      <td>43.00000</td>\n      <td>0.996275</td>\n      <td>3.320000</td>\n      <td>0.630000</td>\n      <td>9.92500</td>\n    </tr>\n  </tbody>\n</table>\n</div>"
     },
     "execution_count": 22,
     "metadata": {},
     "output_type": "execute_result"
    }
   ],
   "source": [
    "df.groupby(['quality', 'color'], as_index=False)\\\n",
    "    .mean()"
   ],
   "metadata": {
    "collapsed": false,
    "pycharm": {
     "name": "#%%\n"
    }
   }
  },
  {
   "cell_type": "code",
   "execution_count": 23,
   "outputs": [
    {
     "data": {
      "text/plain": "   quality  color        pH\n0        4    red  3.510000\n1        4  white  3.510000\n2        5    red  3.317812\n3        5  white  3.317812\n4        6    red  3.334000\n5        6  white  3.334000\n6        7    red  3.320000\n7        7  white  3.320000",
      "text/html": "<div>\n<style scoped>\n    .dataframe tbody tr th:only-of-type {\n        vertical-align: middle;\n    }\n\n    .dataframe tbody tr th {\n        vertical-align: top;\n    }\n\n    .dataframe thead th {\n        text-align: right;\n    }\n</style>\n<table border=\"1\" class=\"dataframe\">\n  <thead>\n    <tr style=\"text-align: right;\">\n      <th></th>\n      <th>quality</th>\n      <th>color</th>\n      <th>pH</th>\n    </tr>\n  </thead>\n  <tbody>\n    <tr>\n      <th>0</th>\n      <td>4</td>\n      <td>red</td>\n      <td>3.510000</td>\n    </tr>\n    <tr>\n      <th>1</th>\n      <td>4</td>\n      <td>white</td>\n      <td>3.510000</td>\n    </tr>\n    <tr>\n      <th>2</th>\n      <td>5</td>\n      <td>red</td>\n      <td>3.317812</td>\n    </tr>\n    <tr>\n      <th>3</th>\n      <td>5</td>\n      <td>white</td>\n      <td>3.317812</td>\n    </tr>\n    <tr>\n      <th>4</th>\n      <td>6</td>\n      <td>red</td>\n      <td>3.334000</td>\n    </tr>\n    <tr>\n      <th>5</th>\n      <td>6</td>\n      <td>white</td>\n      <td>3.334000</td>\n    </tr>\n    <tr>\n      <th>6</th>\n      <td>7</td>\n      <td>red</td>\n      <td>3.320000</td>\n    </tr>\n    <tr>\n      <th>7</th>\n      <td>7</td>\n      <td>white</td>\n      <td>3.320000</td>\n    </tr>\n  </tbody>\n</table>\n</div>"
     },
     "execution_count": 23,
     "metadata": {},
     "output_type": "execute_result"
    }
   ],
   "source": [
    "df.groupby(\n",
    "    ['quality', 'color'], as_index=False\n",
    ")['pH'].mean()"
   ],
   "metadata": {
    "collapsed": false,
    "pycharm": {
     "name": "#%%\n"
    }
   }
  },
  {
   "cell_type": "code",
   "execution_count": 24,
   "outputs": [
    {
     "data": {
      "text/plain": "color\nred      5.28\nwhite    5.28\nName: quality, dtype: float64"
     },
     "execution_count": 24,
     "metadata": {},
     "output_type": "execute_result"
    }
   ],
   "source": [
    "# Find the mean quality of each wine type\n",
    "df.groupby('color').mean().quality"
   ],
   "metadata": {
    "collapsed": false,
    "pycharm": {
     "name": "#%%\n"
    }
   }
  },
  {
   "cell_type": "code",
   "execution_count": 25,
   "outputs": [
    {
     "data": {
      "text/plain": "count    100.00000\nmean       3.33660\nstd        0.14604\nmin        3.04000\n25%        3.25000\n50%        3.33500\n75%        3.42000\nmax        3.90000\nName: pH, dtype: float64"
     },
     "execution_count": 25,
     "metadata": {},
     "output_type": "execute_result"
    }
   ],
   "source": [
    "# View the min, 25%, 50%, 75%, max pH values\n",
    "df.describe().pH"
   ],
   "metadata": {
    "collapsed": false,
    "pycharm": {
     "name": "#%%\n"
    }
   }
  },
  {
   "cell_type": "code",
   "execution_count": 26,
   "outputs": [
    {
     "data": {
      "text/plain": "   i  fixed_acidity  volatile_acidity  citric_acid  residual_sugar  chlorides  \\\n0  0            7.4              0.70         0.00             1.9      0.076   \n1  1            7.8              0.88         0.00             2.6      0.098   \n2  2            7.8              0.76         0.04             2.3      0.092   \n3  3           11.2              0.28         0.56             1.9      0.075   \n4  4            7.4              0.70         0.00             1.9      0.076   \n\n   free_sulfur_dioxide  total_sulfur_dioxide  density    pH  sulphates  \\\n0                   11                    34   0.9978  3.51       0.56   \n1                   25                    67   0.9968  3.20       0.68   \n2                   15                    54   0.9970  3.26       0.65   \n3                   17                    60   0.9980  3.16       0.58   \n4                   11                    34   0.9978  3.51       0.56   \n\n   alcohol  quality  color acidity_levels  \n0      9.4        5  white            low  \n1      9.8        5  white           high  \n2      9.8        5  white       mod_high  \n3      9.8        6  white           high  \n4      9.4        5  white            low  ",
      "text/html": "<div>\n<style scoped>\n    .dataframe tbody tr th:only-of-type {\n        vertical-align: middle;\n    }\n\n    .dataframe tbody tr th {\n        vertical-align: top;\n    }\n\n    .dataframe thead th {\n        text-align: right;\n    }\n</style>\n<table border=\"1\" class=\"dataframe\">\n  <thead>\n    <tr style=\"text-align: right;\">\n      <th></th>\n      <th>i</th>\n      <th>fixed_acidity</th>\n      <th>volatile_acidity</th>\n      <th>citric_acid</th>\n      <th>residual_sugar</th>\n      <th>chlorides</th>\n      <th>free_sulfur_dioxide</th>\n      <th>total_sulfur_dioxide</th>\n      <th>density</th>\n      <th>pH</th>\n      <th>sulphates</th>\n      <th>alcohol</th>\n      <th>quality</th>\n      <th>color</th>\n      <th>acidity_levels</th>\n    </tr>\n  </thead>\n  <tbody>\n    <tr>\n      <th>0</th>\n      <td>0</td>\n      <td>7.4</td>\n      <td>0.70</td>\n      <td>0.00</td>\n      <td>1.9</td>\n      <td>0.076</td>\n      <td>11</td>\n      <td>34</td>\n      <td>0.9978</td>\n      <td>3.51</td>\n      <td>0.56</td>\n      <td>9.4</td>\n      <td>5</td>\n      <td>white</td>\n      <td>low</td>\n    </tr>\n    <tr>\n      <th>1</th>\n      <td>1</td>\n      <td>7.8</td>\n      <td>0.88</td>\n      <td>0.00</td>\n      <td>2.6</td>\n      <td>0.098</td>\n      <td>25</td>\n      <td>67</td>\n      <td>0.9968</td>\n      <td>3.20</td>\n      <td>0.68</td>\n      <td>9.8</td>\n      <td>5</td>\n      <td>white</td>\n      <td>high</td>\n    </tr>\n    <tr>\n      <th>2</th>\n      <td>2</td>\n      <td>7.8</td>\n      <td>0.76</td>\n      <td>0.04</td>\n      <td>2.3</td>\n      <td>0.092</td>\n      <td>15</td>\n      <td>54</td>\n      <td>0.9970</td>\n      <td>3.26</td>\n      <td>0.65</td>\n      <td>9.8</td>\n      <td>5</td>\n      <td>white</td>\n      <td>mod_high</td>\n    </tr>\n    <tr>\n      <th>3</th>\n      <td>3</td>\n      <td>11.2</td>\n      <td>0.28</td>\n      <td>0.56</td>\n      <td>1.9</td>\n      <td>0.075</td>\n      <td>17</td>\n      <td>60</td>\n      <td>0.9980</td>\n      <td>3.16</td>\n      <td>0.58</td>\n      <td>9.8</td>\n      <td>6</td>\n      <td>white</td>\n      <td>high</td>\n    </tr>\n    <tr>\n      <th>4</th>\n      <td>4</td>\n      <td>7.4</td>\n      <td>0.70</td>\n      <td>0.00</td>\n      <td>1.9</td>\n      <td>0.076</td>\n      <td>11</td>\n      <td>34</td>\n      <td>0.9978</td>\n      <td>3.51</td>\n      <td>0.56</td>\n      <td>9.4</td>\n      <td>5</td>\n      <td>white</td>\n      <td>low</td>\n    </tr>\n  </tbody>\n</table>\n</div>"
     },
     "execution_count": 26,
     "metadata": {},
     "output_type": "execute_result"
    }
   ],
   "source": [
    "# Bin edges that will be used to \"cut\" the data into groups\n",
    "bin_edges = [3.04,3.25,3.34,3.42,3.9]\n",
    "# Labels for the four acidity level groups\n",
    "bin_names = ['high', 'mod_high', 'medium', 'low']\n",
    "# create a new column\n",
    "df['acidity_levels'] = panda.cut(\n",
    "    df['pH'], bin_edges, labels=bin_names\n",
    ")\n",
    "df.head()"
   ],
   "metadata": {
    "collapsed": false,
    "pycharm": {
     "name": "#%%\n"
    }
   }
  },
  {
   "cell_type": "code",
   "execution_count": 27,
   "outputs": [
    {
     "data": {
      "text/plain": "acidity_levels\nhigh        5.307692\nmod_high    5.076923\nmedium      5.636364\nlow         5.083333\nName: quality, dtype: float64"
     },
     "execution_count": 27,
     "metadata": {},
     "output_type": "execute_result"
    }
   ],
   "source": [
    "df.groupby('acidity_levels').mean().quality"
   ],
   "metadata": {
    "collapsed": false,
    "pycharm": {
     "name": "#%%\n"
    }
   }
  },
  {
   "cell_type": "code",
   "execution_count": 28,
   "outputs": [],
   "source": [
    "df.to_csv(wine_csv, index=False)"
   ],
   "metadata": {
    "collapsed": false,
    "pycharm": {
     "name": "#%%\n"
    }
   }
  },
  {
   "cell_type": "code",
   "execution_count": 28,
   "outputs": [],
   "source": [],
   "metadata": {
    "collapsed": false,
    "pycharm": {
     "name": "#%%\n"
    }
   }
  }
 ],
 "metadata": {
  "kernelspec": {
   "display_name": "Python 3",
   "language": "python",
   "name": "python3"
  },
  "language_info": {
   "codemirror_mode": {
    "name": "ipython",
    "version": 2
   },
   "file_extension": ".py",
   "mimetype": "text/x-python",
   "name": "python",
   "nbconvert_exporter": "python",
   "pygments_lexer": "ipython2",
   "version": "2.7.6"
  }
 },
 "nbformat": 4,
 "nbformat_minor": 0
}