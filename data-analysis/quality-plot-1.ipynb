{
 "cells": [
  {
   "cell_type": "code",
   "execution_count": 37,
   "outputs": [
    {
     "name": "stderr",
     "output_type": "stream",
     "text": [
      "UsageError: Line magic function `%` not found.\n"
     ]
    }
   ],
   "source": [
    "#% matplotlib inline\n",
    "import pandas as panda\n",
    "import matplotlib.pyplot as plot\n",
    "import seaborn as sea\n",
    "\n",
    "wine_csv = 'data/wine_equality_edited.csv'\n",
    "wine_df = panda.read_csv(wine_csv)\n",
    "wine_df.head()\n"
   ],
   "metadata": {
    "collapsed": false,
    "pycharm": {
     "name": "#%%\n"
    }
   }
  },
  {
   "cell_type": "code",
   "execution_count": null,
   "outputs": [],
   "source": [
    "wine_df.groupby('color')['quality'].mean()"
   ],
   "metadata": {
    "collapsed": false,
    "pycharm": {
     "name": "#%%\n"
    }
   }
  },
  {
   "cell_type": "code",
   "execution_count": null,
   "outputs": [],
   "source": [
    "colors = ['red', 'grey']\n",
    "title = 'Avg Wine Quality by Color'\n",
    "wine_df.groupby('color')['quality'].mean().plot(\n",
    "    kind='bar', title=title, color=colors, alpha=.7\n",
    ")\n",
    "plot.xlabel('Colors', fontsize=18)\n",
    "plot.ylabel('Quality', fontsize=18)"
   ],
   "metadata": {
    "collapsed": false,
    "pycharm": {
     "name": "#%%\n"
    }
   }
  },
  {
   "cell_type": "code",
   "execution_count": null,
   "outputs": [],
   "source": [
    "counts = wine_df.groupby(['quality', 'color']).count()['pH']\n",
    "counts.plot(kind='bar', title=title, color=colors, alpha=.7)\n",
    "plot.xlabel('Quality & Color', fontsize=18, color='white')\n",
    "plot.ylabel('Count', fontsize=18, color='white')"
   ],
   "metadata": {
    "collapsed": false,
    "pycharm": {
     "name": "#%%\n"
    }
   }
  },
  {
   "cell_type": "code",
   "execution_count": null,
   "outputs": [],
   "source": [
    "totals = wine_df.groupby('color').count()['pH']\n",
    "proportions = counts / totals\n",
    "proportions.plot(kind='bar', title=title, color=colors, alpha=.7)\n",
    "plot.xlabel('Quality and Color', fontsize=18, color='white')\n",
    "plot.ylabel('Proportion', fontsize=18, color='white')"
   ],
   "metadata": {
    "collapsed": false,
    "pycharm": {
     "name": "#%%\n"
    }
   }
  },
  {
   "cell_type": "code",
   "execution_count": null,
   "outputs": [],
   "source": [
    "\n"
   ],
   "metadata": {
    "collapsed": false,
    "pycharm": {
     "name": "#%%\n"
    }
   }
  }
 ],
 "metadata": {
  "kernelspec": {
   "display_name": "Python 3",
   "language": "python",
   "name": "python3"
  },
  "language_info": {
   "codemirror_mode": {
    "name": "ipython",
    "version": 2
   },
   "file_extension": ".py",
   "mimetype": "text/x-python",
   "name": "python",
   "nbconvert_exporter": "python",
   "pygments_lexer": "ipython2",
   "version": "2.7.6"
  }
 },
 "nbformat": 4,
 "nbformat_minor": 0
}