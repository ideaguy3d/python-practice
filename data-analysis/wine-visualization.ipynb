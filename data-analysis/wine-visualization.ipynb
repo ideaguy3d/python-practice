{
 "cells": [
  {
   "cell_type": "code",
   "execution_count": 22,
   "metadata": {
    "collapsed": true
   },
   "outputs": [
    {
     "data": {
      "text/plain": "   i  fixed_acidity  volatile_acidity  citric_acid  residual_sugar  chlorides  \\\n0  0            7.4              0.70         0.00             1.9      0.076   \n1  1            7.8              0.88         0.00             2.6      0.098   \n2  2            7.8              0.76         0.04             2.3      0.092   \n3  3           11.2              0.28         0.56             1.9      0.075   \n4  4            7.4              0.70         0.00             1.9      0.076   \n\n   free_sulfur_dioxide  total_sulfur_dioxide  density    pH  sulphates  \\\n0                   11                    34   0.9978  3.51       0.56   \n1                   25                    67   0.9968  3.20       0.68   \n2                   15                    54   0.9970  3.26       0.65   \n3                   17                    60   0.9980  3.16       0.58   \n4                   11                    34   0.9978  3.51       0.56   \n\n   alcohol  quality  color acidity_levels  \n0      9.4        5  white            low  \n1      9.8        5  white           high  \n2      9.8        5  white       mod_high  \n3      9.8        6  white           high  \n4      9.4        5  white            low  ",
      "text/html": "<div>\n<style scoped>\n    .dataframe tbody tr th:only-of-type {\n        vertical-align: middle;\n    }\n\n    .dataframe tbody tr th {\n        vertical-align: top;\n    }\n\n    .dataframe thead th {\n        text-align: right;\n    }\n</style>\n<table border=\"1\" class=\"dataframe\">\n  <thead>\n    <tr style=\"text-align: right;\">\n      <th></th>\n      <th>i</th>\n      <th>fixed_acidity</th>\n      <th>volatile_acidity</th>\n      <th>citric_acid</th>\n      <th>residual_sugar</th>\n      <th>chlorides</th>\n      <th>free_sulfur_dioxide</th>\n      <th>total_sulfur_dioxide</th>\n      <th>density</th>\n      <th>pH</th>\n      <th>sulphates</th>\n      <th>alcohol</th>\n      <th>quality</th>\n      <th>color</th>\n      <th>acidity_levels</th>\n    </tr>\n  </thead>\n  <tbody>\n    <tr>\n      <th>0</th>\n      <td>0</td>\n      <td>7.4</td>\n      <td>0.70</td>\n      <td>0.00</td>\n      <td>1.9</td>\n      <td>0.076</td>\n      <td>11</td>\n      <td>34</td>\n      <td>0.9978</td>\n      <td>3.51</td>\n      <td>0.56</td>\n      <td>9.4</td>\n      <td>5</td>\n      <td>white</td>\n      <td>low</td>\n    </tr>\n    <tr>\n      <th>1</th>\n      <td>1</td>\n      <td>7.8</td>\n      <td>0.88</td>\n      <td>0.00</td>\n      <td>2.6</td>\n      <td>0.098</td>\n      <td>25</td>\n      <td>67</td>\n      <td>0.9968</td>\n      <td>3.20</td>\n      <td>0.68</td>\n      <td>9.8</td>\n      <td>5</td>\n      <td>white</td>\n      <td>high</td>\n    </tr>\n    <tr>\n      <th>2</th>\n      <td>2</td>\n      <td>7.8</td>\n      <td>0.76</td>\n      <td>0.04</td>\n      <td>2.3</td>\n      <td>0.092</td>\n      <td>15</td>\n      <td>54</td>\n      <td>0.9970</td>\n      <td>3.26</td>\n      <td>0.65</td>\n      <td>9.8</td>\n      <td>5</td>\n      <td>white</td>\n      <td>mod_high</td>\n    </tr>\n    <tr>\n      <th>3</th>\n      <td>3</td>\n      <td>11.2</td>\n      <td>0.28</td>\n      <td>0.56</td>\n      <td>1.9</td>\n      <td>0.075</td>\n      <td>17</td>\n      <td>60</td>\n      <td>0.9980</td>\n      <td>3.16</td>\n      <td>0.58</td>\n      <td>9.8</td>\n      <td>6</td>\n      <td>white</td>\n      <td>high</td>\n    </tr>\n    <tr>\n      <th>4</th>\n      <td>4</td>\n      <td>7.4</td>\n      <td>0.70</td>\n      <td>0.00</td>\n      <td>1.9</td>\n      <td>0.076</td>\n      <td>11</td>\n      <td>34</td>\n      <td>0.9978</td>\n      <td>3.51</td>\n      <td>0.56</td>\n      <td>9.4</td>\n      <td>5</td>\n      <td>white</td>\n      <td>low</td>\n    </tr>\n  </tbody>\n</table>\n</div>"
     },
     "execution_count": 22,
     "metadata": {},
     "output_type": "execute_result"
    }
   ],
   "source": [
    "import pandas as panda\n",
    "import matplotlib.pyplot as plot\n",
    "\n",
    "wine_csv = 'data/wine_equality_edited.csv'\n",
    "df = panda.read_csv(wine_csv)\n",
    "df.head()"
   ]
  },
  {
   "cell_type": "markdown",
   "source": [
    "### Do wines with more alcohol receive better ratings?"
   ],
   "metadata": {
    "collapsed": false,
    "pycharm": {
     "name": "#%% md\n"
    }
   }
  },
  {
   "cell_type": "code",
   "execution_count": 23,
   "outputs": [
    {
     "data": {
      "text/plain": "Text(0, 0.5, 'Average Quality Rating')"
     },
     "execution_count": 23,
     "metadata": {},
     "output_type": "execute_result"
    },
    {
     "data": {
      "text/plain": "<Figure size 432x288 with 1 Axes>",
      "image/png": "[encoded data removed]"
     },
     "metadata": {
      "needs_background": "light"
     },
     "output_type": "display_data"
    }
   ],
   "source": [
    "median = df['alcohol'].median()\n",
    "low = df.query(f'alcohol < {median}')\n",
    "high = df.query(f'alcohol >= {median}')\n",
    "\n",
    "mean_quality_low = low['quality'].mean()\n",
    "mean_quality_high = high['quality'].mean()\n",
    "\n",
    "title = 'Average Quality Rating by Alcohol content'\n",
    "locations = [1,2]\n",
    "heights = [mean_quality_low, mean_quality_high]\n",
    "labels = ['Low', 'High']\n",
    "plot.bar(locations, heights, tick_label=labels)\n",
    "plot.title(title)\n",
    "plot.xlabel('Alcohol content')\n",
    "plot.ylabel('Average Quality Rating')"
   ],
   "metadata": {
    "collapsed": false,
    "pycharm": {
     "name": "#%%\n"
    }
   }
  },
  {
   "cell_type": "markdown",
   "source": [
    "### Do sweeter wines receive higher ratings?"
   ],
   "metadata": {
    "collapsed": false,
    "pycharm": {
     "name": "#%% md\n"
    }
   }
  },
  {
   "cell_type": "code",
   "execution_count": 24,
   "outputs": [
    {
     "data": {
      "text/plain": "Text(0, 0.5, 'Average Quality Rating')"
     },
     "execution_count": 24,
     "metadata": {},
     "output_type": "execute_result"
    },
    {
     "data": {
      "text/plain": "<Figure size 432x288 with 1 Axes>",
      "image/png": "[encoded data removed]"
     },
     "metadata": {
      "needs_background": "light"
     },
     "output_type": "display_data"
    }
   ],
   "source": [
    "rs = 'residual_sugar'\n",
    "median = df.residual_sugar.median()\n",
    "low = df.query(f'{rs} < {median}')\n",
    "high = df.query(f'{rs} >= {median}')\n",
    "\n",
    "mean_quality_low = low.quality.mean()\n",
    "mean_quality_high = high.quality.mean()\n",
    "\n",
    "title = 'Average Quality Ratings by Residual Sugar'\n",
    "x_axis_points = [1,2]\n",
    "y_axis_points = [mean_quality_low, mean_quality_high]\n",
    "labels = ['low sugar', 'high sugar']\n",
    "plot.bar(x_axis_points, y_axis_points, tick_label=labels)\n",
    "plot.title(title, color='white')\n",
    "plot.xlabel('Residual Sugar', color='white')\n",
    "plot.ylabel('Average Quality Rating', color='white')"
   ],
   "metadata": {
    "collapsed": false,
    "pycharm": {
     "name": "#%%\n"
    }
   }
  },
  {
   "cell_type": "markdown",
   "source": [
    "### What level of acidity receives the highest avg rating?"
   ],
   "metadata": {
    "collapsed": false,
    "pycharm": {
     "name": "#%% md\n"
    }
   }
  },
  {
   "cell_type": "code",
   "execution_count": 25,
   "outputs": [
    {
     "data": {
      "text/plain": "Text(0, 0.5, 'Average Quality Rating')"
     },
     "execution_count": 25,
     "metadata": {},
     "output_type": "execute_result"
    },
    {
     "data": {
      "text/plain": "<Figure size 432x288 with 1 Axes>",
      "image/png": "[encoded data removed]"
     },
     "metadata": {
      "needs_background": "light"
     },
     "output_type": "display_data"
    }
   ],
   "source": [
    "al = 'acidity_levels'\n",
    "acidity_level_quality_means = df.groupby(al).quality.mean()\n",
    "\n",
    "x_axis_points = [2, 3, 1, 4]\n",
    "y_axis_points = acidity_level_quality_means\n",
    "labels = acidity_level_quality_means.index.str.replace('_', ' ').str.title()\n",
    "\n",
    "plot.bar(x_axis_points, y_axis_points, tick_label=labels)\n",
    "plot.title('Average Quality Rating by Acidity Level', color='white')\n",
    "plot.xlabel('Acidity Level', color='white')\n",
    "plot.ylabel('Average Quality Rating', color='white')"
   ],
   "metadata": {
    "collapsed": false,
    "pycharm": {
     "name": "#%%\n"
    }
   }
  },
  {
   "cell_type": "code",
   "execution_count": 25,
   "outputs": [],
   "source": [],
   "metadata": {
    "collapsed": false,
    "pycharm": {
     "name": "#%%\n"
    }
   }
  }
 ],
 "metadata": {
  "kernelspec": {
   "display_name": "Python 3",
   "language": "python",
   "name": "python3"
  },
  "language_info": {
   "codemirror_mode": {
    "name": "ipython",
    "version": 2
   },
   "file_extension": ".py",
   "mimetype": "text/x-python",
   "name": "python",
   "nbconvert_exporter": "python",
   "pygments_lexer": "ipython2",
   "version": "2.7.6"
  }
 },
 "nbformat": 4,
 "nbformat_minor": 0
}