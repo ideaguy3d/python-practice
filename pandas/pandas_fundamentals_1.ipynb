{
 "cells": [
  {
   "cell_type": "code",
   "execution_count": 1,
   "outputs": [],
   "source": [
    "import numpy as np\n",
    "import pandas"
   ],
   "metadata": {
    "collapsed": false,
    "pycharm": {
     "name": "#%%\n"
    }
   }
  },
  {
   "cell_type": "markdown",
   "source": [
    "## Re-indexing"
   ],
   "metadata": {
    "collapsed": false,
    "pycharm": {
     "name": "#%% md\n"
    }
   }
  },
  {
   "cell_type": "code",
   "metadata": {
    "collapsed": true,
    "pycharm": {
     "name": "#%%\n"
    }
   },
   "source": [
    "# Series Objects\n",
    "\"\"\"\n",
    ".reindex(index, method)\n",
    "\"\"\"\n",
    "\n",
    "obj = pandas.Series(np.arange(4), index=['d', 'b', 'a', 'c'])\n",
    "obj_reindex = obj.reindex(['d', 'b', 'a', 'c', 'e'])\n",
    "o = [\n",
    "    '','obj',\n",
    "    obj, '','obj.reindex(index)',\n",
    "    obj_reindex, '', 'obj.sort_index()',\n",
    "    obj_reindex.sort_index(), '','',  # from the next section\n",
    "]\n",
    "o"
   ],
   "execution_count": 2,
   "outputs": [
    {
     "data": {
      "text/plain": "['',\n 'obj',\n d    0\n b    1\n a    2\n c    3\n dtype: int64,\n '',\n 'obj.reindex(index)',\n d    0.0\n b    1.0\n a    2.0\n c    3.0\n e    NaN\n dtype: float64,\n '',\n 'obj.sort_index()',\n a    2.0\n b    1.0\n c    3.0\n d    0.0\n e    NaN\n dtype: float64,\n '',\n '']"
     },
     "execution_count": 2,
     "metadata": {},
     "output_type": "execute_result"
    }
   ]
  },
  {
   "cell_type": "markdown",
   "source": [
    "## Sorting & Ranking"
   ],
   "metadata": {
    "collapsed": false,
    "pycharm": {
     "name": "#%% md\n"
    }
   }
  },
  {
   "cell_type": "code",
   "execution_count": 3,
   "outputs": [
    {
     "data": {
      "text/plain": "['',\n 'frame',\n        d  a  b  c\n three  1  2  3  4\n one    5  6  7  8,\n '',\n 'frame.sort_index()',\n        d  a  b  c\n one    5  6  7  8\n three  1  2  3  4,\n '',\n 'frame.sort_index(axis=1)',\n        a  b  c  d\n three  2  3  4  1\n one    6  7  8  5,\n '',\n 'obj',\n 0    4\n 1    7\n 2   -3\n 3    2\n dtype: int64,\n '',\n 'obj.sort_values()',\n 2   -3\n 3    2\n 0    4\n 1    7\n dtype: int64]"
     },
     "execution_count": 3,
     "metadata": {},
     "output_type": "execute_result"
    }
   ],
   "source": [
    "# methods to _rem\n",
    "\"\"\"\n",
    ".sort_index(axis)\n",
    ".sort_values()\n",
    "\"\"\"\n",
    "frame = pandas.DataFrame(np.arange(8).reshape(2, 4) + 1,\n",
    "                         index=['three', 'one'],\n",
    "                         columns=['d', 'a', 'b', 'c'])\n",
    "frame2 = pandas.DataFrame({'b': [4,7,-3,2], 'a': [0,1,0,1]})\n",
    "obj = pandas.Series([4,7,-3,2])\n",
    "o = [\n",
    "    '','frame',\n",
    "    frame, '','frame.sort_index()',\n",
    "    frame.sort_index(), '','frame.sort_index(axis=1)',\n",
    "    frame.sort_index(axis=1), '','obj',\n",
    "    obj, '','obj.sort_values()',\n",
    "    obj.sort_values()\n",
    "]\n",
    "o"
   ],
   "metadata": {
    "collapsed": false,
    "pycharm": {
     "name": "#%%\n"
    }
   }
  },
  {
   "cell_type": "code",
   "execution_count": 3,
   "outputs": [],
   "source": [],
   "metadata": {
    "collapsed": false,
    "pycharm": {
     "name": "#%%\n"
    }
   }
  }
 ],
 "metadata": {
  "kernelspec": {
   "display_name": "Python 3",
   "language": "python",
   "name": "python3"
  },
  "language_info": {
   "codemirror_mode": {
    "name": "ipython",
    "version": 2
   },
   "file_extension": ".py",
   "mimetype": "text/x-python",
   "name": "python",
   "nbconvert_exporter": "python",
   "pygments_lexer": "ipython2",
   "version": "2.7.6"
  }
 },
 "nbformat": 4,
 "nbformat_minor": 0
}