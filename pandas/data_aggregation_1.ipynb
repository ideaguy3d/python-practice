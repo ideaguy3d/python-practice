{
 "cells": [
  {
   "cell_type": "code",
   "execution_count": 1,
   "metadata": {
    "collapsed": true
   },
   "outputs": [
    {
     "data": {
      "text/plain": "[  key1 key2     data1     data2\n 0    a  one  0.583269 -0.480127\n 1    a  two -1.822070 -0.854452\n 2    b  one  0.820525 -0.264516\n 3    b  two  0.822191 -0.889029\n 4    a  one -0.110067 -0.918224,\n '',\n '.mean()',\n key1\n a   -0.449623\n b    0.821358\n Name: data1, dtype: float64,\n '',\n 'df[\"data1\"].groupby(df[\"key1\"])',\n key1  key2\n a     one     0.236601\n       two    -1.822070\n b     one     0.820525\n       two     0.822191\n Name: data1, dtype: float64,\n '',\n '',\n key2       one       two\n key1                    \n a     0.236601 -1.822070\n b     0.820525  0.822191,\n '',\n '',\n California  2005   -1.822070\n             2006    0.820525\n Ohio        2005    0.702730\n             2006   -0.110067\n Name: data1, dtype: float64,\n '',\n '',\n          data1     data2\n key1                    \n a    -0.449623 -0.750934\n b     0.821358 -0.576772,\n '',\n 'df.groupby([\"key1\", \"key2\"]).mean()',\n               data1     data2\n key1 key2                    \n a    one   0.236601 -0.699176\n      two  -1.822070 -0.854452\n b    one   0.820525 -0.264516\n      two   0.822191 -0.889029,\n '',\n 'df.groupby([\"key1\", \"key2\"]).size()',\n key1  key2\n a     one     2\n       two     1\n b     one     1\n       two     1\n dtype: int64,\n '',\n '']"
     },
     "execution_count": 1,
     "metadata": {},
     "output_type": "execute_result"
    }
   ],
   "source": [
    "import pandas\n",
    "import numpy as np\n",
    "import re\n",
    "\n",
    "df = pandas.DataFrame({'key1' : ['a', 'a', 'b', 'b', 'a'],\n",
    "                       'key2' : ['one', 'two', 'one', 'two', 'one'],\n",
    "                       'data1' : np.random.randn(5), 'data2' : np.random.randn(5)})\n",
    "grouped = df['data1'].groupby(df['key1'])\n",
    "means = df['data1'].groupby([df['key1'], df['key2']]).mean()\n",
    "states = np.array(['Ohio', 'California', 'California', 'Ohio', 'Ohio'])\n",
    "years = np.array([2005, 2005, 2006, 2005, 2006])\n",
    "o  = [\n",
    "    df, '','.mean()',\n",
    "    grouped.mean(), '','df[\"data1\"].groupby(df[\"key1\"])',\n",
    "    means, '','',\n",
    "    means.unstack(), '','',\n",
    "    df['data1'].groupby([states, years]).mean(), '','',\n",
    "    # use a simple column name\n",
    "    df.groupby('key1').mean(), '', \n",
    "    'df.groupby([\"key1\", \"key2\"]).mean()',\n",
    "    df.groupby(['key1', 'key2']).mean(), '', \n",
    "    'df.groupby([\"key1\", \"key2\"]).size()',\n",
    "    df.groupby(['key1', 'key2']).size(), '','',\n",
    "]\n",
    "o"
   ]
  },
  {
   "cell_type": "markdown",
   "source": [
    "## Iterating Over Groups"
   ],
   "metadata": {
    "collapsed": false,
    "pycharm": {
     "name": "#%% md\n"
    }
   }
  },
  {
   "cell_type": "code",
   "execution_count": 2,
   "outputs": [
    {
     "data": {
      "text/plain": "  key1 key2     data1     data2\n0    a  one  0.583269 -0.480127\n1    a  two -1.822070 -0.854452\n2    b  one  0.820525 -0.264516\n3    b  two  0.822191 -0.889029\n4    a  one -0.110067 -0.918224",
      "text/html": "<div>\n<style scoped>\n    .dataframe tbody tr th:only-of-type {\n        vertical-align: middle;\n    }\n\n    .dataframe tbody tr th {\n        vertical-align: top;\n    }\n\n    .dataframe thead th {\n        text-align: right;\n    }\n</style>\n<table border=\"1\" class=\"dataframe\">\n  <thead>\n    <tr style=\"text-align: right;\">\n      <th></th>\n      <th>key1</th>\n      <th>key2</th>\n      <th>data1</th>\n      <th>data2</th>\n    </tr>\n  </thead>\n  <tbody>\n    <tr>\n      <th>0</th>\n      <td>a</td>\n      <td>one</td>\n      <td>0.583269</td>\n      <td>-0.480127</td>\n    </tr>\n    <tr>\n      <th>1</th>\n      <td>a</td>\n      <td>two</td>\n      <td>-1.822070</td>\n      <td>-0.854452</td>\n    </tr>\n    <tr>\n      <th>2</th>\n      <td>b</td>\n      <td>one</td>\n      <td>0.820525</td>\n      <td>-0.264516</td>\n    </tr>\n    <tr>\n      <th>3</th>\n      <td>b</td>\n      <td>two</td>\n      <td>0.822191</td>\n      <td>-0.889029</td>\n    </tr>\n    <tr>\n      <th>4</th>\n      <td>a</td>\n      <td>one</td>\n      <td>-0.110067</td>\n      <td>-0.918224</td>\n    </tr>\n  </tbody>\n</table>\n</div>"
     },
     "execution_count": 2,
     "metadata": {},
     "output_type": "execute_result"
    }
   ],
   "source": [
    "df"
   ],
   "metadata": {
    "collapsed": false,
    "pycharm": {
     "name": "#%%\n"
    }
   }
  },
  {
   "cell_type": "code",
   "execution_count": 3,
   "outputs": [
    {
     "name": "stdout",
     "output_type": "stream",
     "text": [
      "name: a, \n",
      "group:\n",
      "  key1 key2     data1     data2\n",
      "0    a  one  0.583269 -0.480127\n",
      "1    a  two -1.822070 -0.854452\n",
      "4    a  one -0.110067 -0.918224\n",
      "name: b, \n",
      "group:\n",
      "  key1 key2     data1     data2\n",
      "2    b  one  0.820525 -0.264516\n",
      "3    b  two  0.822191 -0.889029\n"
     ]
    }
   ],
   "source": [
    "for name, group in df.groupby('key1'):\n",
    "    print(\"name: \"+name+\", \\ngroup:\")\n",
    "    print(group)"
   ],
   "metadata": {
    "collapsed": false,
    "pycharm": {
     "name": "#%%\n"
    }
   }
  },
  {
   "cell_type": "code",
   "execution_count": 4,
   "outputs": [
    {
     "name": "stdout",
     "output_type": "stream",
     "text": [
      "k1: a, k2: one, \n",
      "group:\n",
      "  key1 key2     data1     data2\n",
      "0    a  one  0.583269 -0.480127\n",
      "4    a  one -0.110067 -0.918224\n",
      "k1: a, k2: two, \n",
      "group:\n",
      "  key1 key2    data1     data2\n",
      "1    a  two -1.82207 -0.854452\n",
      "k1: b, k2: one, \n",
      "group:\n",
      "  key1 key2     data1     data2\n",
      "2    b  one  0.820525 -0.264516\n",
      "k1: b, k2: two, \n",
      "group:\n",
      "  key1 key2     data1     data2\n",
      "3    b  two  0.822191 -0.889029\n"
     ]
    }
   ],
   "source": [
    "for (k1, k2), group in df.groupby(['key1', 'key2']):\n",
    "    print(f'k1: {k1}, k2: {k2}, \\ngroup:')\n",
    "    print(group)"
   ],
   "metadata": {
    "collapsed": false,
    "pycharm": {
     "name": "#%%\n"
    }
   }
  },
  {
   "cell_type": "code",
   "execution_count": 5,
   "outputs": [
    {
     "name": "stdout",
     "output_type": "stream",
     "text": [
      "\n",
      "\n",
      "k1: a, k2: one\n",
      "  key1 key2     data1     data2\n",
      "0    a  one  0.583269 -0.480127\n",
      "4    a  one -0.110067 -0.918224\n",
      "\n",
      "\n",
      "k1: a, k2: two\n",
      "  key1 key2    data1     data2\n",
      "1    a  two -1.82207 -0.854452\n",
      "\n",
      "\n",
      "k1: b, k2: one\n",
      "  key1 key2     data1     data2\n",
      "2    b  one  0.820525 -0.264516\n",
      "\n",
      "\n",
      "k1: b, k2: two\n",
      "  key1 key2     data1     data2\n",
      "3    b  two  0.822191 -0.889029\n"
     ]
    },
    {
     "data": {
      "text/plain": "['g1a',\n <pandas.core.groupby.generic.SeriesGroupBy object at 0x7f965d2f64c0>,\n 'g1b',\n <pandas.core.groupby.generic.SeriesGroupBy object at 0x7f965d2f6370>,\n 'g2a',\n <pandas.core.groupby.generic.DataFrameGroupBy object at 0x7f965d2f6fd0>,\n 'g2b',\n <pandas.core.groupby.generic.DataFrameGroupBy object at 0x7f965d42fb80>,\n 'g3a',\n               data2\n key1 key2          \n a    one  -0.699176\n      two  -0.854452\n b    one  -0.264516\n      two  -0.889029]"
     },
     "execution_count": 5,
     "metadata": {},
     "output_type": "execute_result"
    }
   ],
   "source": [
    "for (k1, k2), group in df.groupby(['key1', 'key2']):\n",
    "    print(f\"\\n\\nk1: {k1}, k2: {k2}\")\n",
    "    print(group)\n",
    "\n",
    "one_liner = dict(list(df.groupby('key1', axis=0)))\n",
    "\n",
    "# are equivalent\n",
    "g1a = df.groupby('key1')['data1']\n",
    "g1b = df['data1'].groupby(df['key1'])\n",
    "# are equivalent\n",
    "g2a = df.groupby('key1')[['data1']]\n",
    "g2b = df[['data1']].groupby(df['key1'])\n",
    "\n",
    "g3a = df.groupby(['key1', 'key2'])[['data2']].mean()\n",
    "\n",
    "o = [\n",
    "    'g1a', g1a,\n",
    "    'g1b', g1b,\n",
    "    'g2a', g2a,\n",
    "    'g2b', g2b,\n",
    "    'g3a', g3a\n",
    "]\n",
    "o"
   ],
   "metadata": {
    "collapsed": false,
    "pycharm": {
     "name": "#%%\n"
    }
   }
  },
  {
   "cell_type": "markdown",
   "source": [
    "## Grouping with Dicts and Series"
   ],
   "metadata": {
    "collapsed": false,
    "pycharm": {
     "name": "#%% md\n"
    }
   }
  },
  {
   "cell_type": "code",
   "execution_count": 6,
   "outputs": [
    {
     "data": {
      "text/plain": "               a         b         c         d         e\nJoe    -0.029188  0.687223  2.458366 -0.794209  1.407477\nSteve  -0.765251 -0.093360 -0.839493 -0.926503 -0.581823\nWes     0.335183  0.041830       NaN       NaN  0.538323\nJim     0.647030 -1.306387  1.505366  1.047923  1.942102\nTravis -1.370521  0.450508 -0.306474  0.425125 -0.708397",
      "text/html": "<div>\n<style scoped>\n    .dataframe tbody tr th:only-of-type {\n        vertical-align: middle;\n    }\n\n    .dataframe tbody tr th {\n        vertical-align: top;\n    }\n\n    .dataframe thead th {\n        text-align: right;\n    }\n</style>\n<table border=\"1\" class=\"dataframe\">\n  <thead>\n    <tr style=\"text-align: right;\">\n      <th></th>\n      <th>a</th>\n      <th>b</th>\n      <th>c</th>\n      <th>d</th>\n      <th>e</th>\n    </tr>\n  </thead>\n  <tbody>\n    <tr>\n      <th>Joe</th>\n      <td>-0.029188</td>\n      <td>0.687223</td>\n      <td>2.458366</td>\n      <td>-0.794209</td>\n      <td>1.407477</td>\n    </tr>\n    <tr>\n      <th>Steve</th>\n      <td>-0.765251</td>\n      <td>-0.093360</td>\n      <td>-0.839493</td>\n      <td>-0.926503</td>\n      <td>-0.581823</td>\n    </tr>\n    <tr>\n      <th>Wes</th>\n      <td>0.335183</td>\n      <td>0.041830</td>\n      <td>NaN</td>\n      <td>NaN</td>\n      <td>0.538323</td>\n    </tr>\n    <tr>\n      <th>Jim</th>\n      <td>0.647030</td>\n      <td>-1.306387</td>\n      <td>1.505366</td>\n      <td>1.047923</td>\n      <td>1.942102</td>\n    </tr>\n    <tr>\n      <th>Travis</th>\n      <td>-1.370521</td>\n      <td>0.450508</td>\n      <td>-0.306474</td>\n      <td>0.425125</td>\n      <td>-0.708397</td>\n    </tr>\n  </tbody>\n</table>\n</div>"
     },
     "execution_count": 6,
     "metadata": {},
     "output_type": "execute_result"
    }
   ],
   "source": [
    "people = pandas.DataFrame(np.random.randn(5, 5), columns=['a', 'b', 'c', 'd', 'e'],\n",
    "                          index=['Joe', 'Steve', 'Wes', 'Jim', 'Travis'])\n",
    "people.iloc[2:3, [2,3]] = np.nan\n",
    "people"
   ],
   "metadata": {
    "collapsed": false,
    "pycharm": {
     "name": "#%%\n"
    }
   }
  },
  {
   "cell_type": "code",
   "execution_count": 7,
   "outputs": [
    {
     "data": {
      "text/plain": "[            blue       red\n Joe     1.664157  2.065511\n Steve  -1.765996 -1.440434\n Wes     0.000000  0.915335\n Jim     2.553289  1.282745\n Travis  0.118651 -1.628410,\n '',\n '',\n         blue  red\n Joe        2    3\n Steve      2    3\n Wes        0    3\n Jim        2    3\n Travis     2    3,\n '',\n '']"
     },
     "execution_count": 7,
     "metadata": {},
     "output_type": "execute_result"
    }
   ],
   "source": [
    "mapping = {\n",
    "    'a': 'red',\n",
    "    'b': 'red',\n",
    "    'c': 'blue',\n",
    "    'd': 'blue',\n",
    "    'e': 'red',\n",
    "    'f' : 'orange'\n",
    "}\n",
    "map_series = pandas.Series(mapping)\n",
    "o = [\n",
    "    people.groupby(mapping, axis=1).sum(), '','',\n",
    "    people.groupby(map_series, axis=1).count(), '','',\n",
    "]\n",
    "o"
   ],
   "metadata": {
    "collapsed": false,
    "pycharm": {
     "name": "#%%\n"
    }
   }
  },
  {
   "cell_type": "markdown",
   "source": [
    "## Grouping with Functions"
   ],
   "metadata": {
    "collapsed": false
   }
  },
  {
   "cell_type": "code",
   "execution_count": 8,
   "outputs": [
    {
     "data": {
      "text/plain": "[          a         b         c         d         e\n 3  0.953025 -0.577335  3.963731  0.253715  3.887902\n 5 -0.765251 -0.093360 -0.839493 -0.926503 -0.581823\n 6 -1.370521  0.450508 -0.306474  0.425125 -0.708397,\n '',\n '',\n               a         b         c         d         e\n 3 one -0.029188  0.041830  2.458366 -0.794209  0.538323\n   two  0.647030 -1.306387  1.505366  1.047923  1.942102\n 5 one -0.765251 -0.093360 -0.839493 -0.926503 -0.581823\n 6 two -1.370521  0.450508 -0.306474  0.425125 -0.708397,\n '',\n '']"
     },
     "execution_count": 8,
     "metadata": {},
     "output_type": "execute_result"
    }
   ],
   "source": [
    "key_list = ['one', 'one', 'one', 'two', 'two']\n",
    "o = [\n",
    "    people.groupby(len).sum(), '','',\n",
    "    people.groupby([len, key_list]).min(), '','',\n",
    "]\n",
    "o"
   ],
   "metadata": {
    "collapsed": false,
    "pycharm": {
     "name": "#%%\n"
    }
   }
  },
  {
   "cell_type": "markdown",
   "source": [
    "## Grouping by Index Levels"
   ],
   "metadata": {
    "collapsed": false
   }
  },
  {
   "cell_type": "code",
   "execution_count": 9,
   "outputs": [
    {
     "data": {
      "text/plain": "['',\n '',\n cty          US                            JP          \n tenor         1         3         5         1         3\n 0      1.745668 -0.350485  1.060154 -1.159785 -0.150891\n 1     -0.891322  1.941048  1.556550 -0.869757  0.286392\n 2     -0.445934 -1.363256 -1.120042 -0.030304 -0.978301\n 3      1.159759 -1.468242 -0.122778 -0.266320  0.429568,\n '',\n '',\n cty        JP        US\n 0   -1.310676  2.455337\n 1   -0.583365  2.606276\n 2   -1.008604 -2.929232\n 3    0.163248 -0.431261]"
     },
     "execution_count": 9,
     "metadata": {},
     "output_type": "execute_result"
    }
   ],
   "source": [
    "columns = pandas.MultiIndex.from_arrays([['US', 'US', 'US', 'JP', 'JP'],\n",
    "                                         [1, 3, 5, 1, 3]],\n",
    "                                        names=['cty', 'tenor'])\n",
    "hier_df = pandas.DataFrame(np.random.randn(4, 5), columns=columns)\n",
    "o = [\n",
    "    '','',\n",
    "    hier_df, '','',\n",
    "    hier_df.groupby(level='cty', axis=1).sum()\n",
    "]\n",
    "o"
   ],
   "metadata": {
    "collapsed": false,
    "pycharm": {
     "name": "#%%\n"
    }
   }
  },
  {
   "cell_type": "markdown",
   "source": [
    "# Data Aggregation"
   ],
   "metadata": {
    "collapsed": false
   }
  },
  {
   "cell_type": "code",
   "execution_count": 10,
   "outputs": [
    {
     "data": {
      "text/plain": "  key1 key2     data1     data2\n0    a  one  0.583269 -0.480127\n1    a  two -1.822070 -0.854452\n2    b  one  0.820525 -0.264516\n3    b  two  0.822191 -0.889029\n4    a  one -0.110067 -0.918224",
      "text/html": "<div>\n<style scoped>\n    .dataframe tbody tr th:only-of-type {\n        vertical-align: middle;\n    }\n\n    .dataframe tbody tr th {\n        vertical-align: top;\n    }\n\n    .dataframe thead th {\n        text-align: right;\n    }\n</style>\n<table border=\"1\" class=\"dataframe\">\n  <thead>\n    <tr style=\"text-align: right;\">\n      <th></th>\n      <th>key1</th>\n      <th>key2</th>\n      <th>data1</th>\n      <th>data2</th>\n    </tr>\n  </thead>\n  <tbody>\n    <tr>\n      <th>0</th>\n      <td>a</td>\n      <td>one</td>\n      <td>0.583269</td>\n      <td>-0.480127</td>\n    </tr>\n    <tr>\n      <th>1</th>\n      <td>a</td>\n      <td>two</td>\n      <td>-1.822070</td>\n      <td>-0.854452</td>\n    </tr>\n    <tr>\n      <th>2</th>\n      <td>b</td>\n      <td>one</td>\n      <td>0.820525</td>\n      <td>-0.264516</td>\n    </tr>\n    <tr>\n      <th>3</th>\n      <td>b</td>\n      <td>two</td>\n      <td>0.822191</td>\n      <td>-0.889029</td>\n    </tr>\n    <tr>\n      <th>4</th>\n      <td>a</td>\n      <td>one</td>\n      <td>-0.110067</td>\n      <td>-0.918224</td>\n    </tr>\n  </tbody>\n</table>\n</div>"
     },
     "execution_count": 10,
     "metadata": {},
     "output_type": "execute_result"
    }
   ],
   "source": [
    "df"
   ],
   "metadata": {
    "collapsed": false,
    "pycharm": {
     "name": "#%%\n"
    }
   }
  },
  {
   "cell_type": "code",
   "execution_count": 11,
   "outputs": [
    {
     "data": {
      "text/plain": "['',\n 'grouped.quantile(0.9)',\n          data1     data2\n key1                    \n a     0.444602 -0.554992\n b     0.822025 -0.326967,\n '',\n 'grouped.agg(peak_to_peak)',\n          data1     data2\n key1                    \n a     2.405340  0.438096\n b     0.001666  0.624513]"
     },
     "execution_count": 11,
     "metadata": {},
     "output_type": "execute_result"
    }
   ],
   "source": [
    "\"\"\"\n",
    ".quantile()\n",
    ".agg()\n",
    ".describe()\n",
    "\"\"\"\n",
    "\n",
    "def peak_to_peak(arr):\n",
    "    return arr.max() - arr.min()\n",
    "\n",
    "grouped = df.groupby('key1')\n",
    "o = [\n",
    "    grouped, '','grouped.quantile(0.9)',\n",
    "    grouped.quantile(0.9), '','grouped.agg(peak_to_peak)',\n",
    "    grouped.agg(peak_to_peak), '', 'grouped.describe()',\n",
    "    grouped.describe()\n",
    "]\n",
    "o"
   ],
   "metadata": {
    "collapsed": false,
    "pycharm": {
     "name": "#%%\n"
    }
   }
  },
  {
   "cell_type": "markdown",
   "source": [
    "## Column-Wise and Multiple Function Application"
   ],
   "metadata": {
    "collapsed": false
   }
  },
  {
   "cell_type": "code",
   "execution_count": null,
   "outputs": [],
   "source": [
    "\"\"\"\n",
    ".groupby().agg(tuples)\n",
    ".groupby().agg(dictionary)\n",
    "\"\"\""
   ],
   "metadata": {
    "collapsed": false,
    "pycharm": {
     "name": "#%%\n"
    }
   }
  },
  {
   "cell_type": "markdown",
   "source": [
    "## Returning Aggregated Data Without Row Indexes"
   ],
   "metadata": {
    "collapsed": false,
    "pycharm": {
     "name": "#%% md\n"
    }
   }
  },
  {
   "cell_type": "code",
   "execution_count": 12,
   "outputs": [],
   "source": [
    "# as_index=False to .groupby()\n",
    "g = df.groupby(['key1', 'key2'], as_index=False)"
   ],
   "metadata": {
    "collapsed": false,
    "pycharm": {
     "name": "#%%\n"
    }
   }
  },
  {
   "cell_type": "markdown",
   "source": [
    "# Apply: General split-apply-combine"
   ],
   "metadata": {
    "collapsed": false
   }
  },
  {
   "cell_type": "code",
   "execution_count": 13,
   "outputs": [],
   "source": [
    "\"\"\"\n",
    "\n",
    ".groupby().apply(function_ref) // internally uses pandas.concat()\n",
    "\n",
    "to pass in additional params e.g.\n",
    "tips.groupby(['smoker', 'day'])\n",
    "    .apply(top, n=1, column='total_bill') // 'top' is the function\n",
    "\n",
    "can use .unstack() on a .describe()\n",
    "result = tips.groupby('smoker')['tip_pct'].describe()\n",
    "result.unstack('smoker')\n",
    "\n",
    "\"\"\"\n",
    "\n",
    "def top(dataframe, n=5, column='tip_pct'):\n",
    "    return df.sort_values(by=column)[-n:]"
   ],
   "metadata": {
    "collapsed": false,
    "pycharm": {
     "name": "#%%\n"
    }
   }
  },
  {
   "cell_type": "markdown",
   "source": [
    "## Suppressing the Group Keys"
   ],
   "metadata": {
    "collapsed": false,
    "pycharm": {
     "name": "#%% md\n"
    }
   }
  },
  {
   "cell_type": "code",
   "execution_count": null,
   "outputs": [],
   "source": [
    "\"\"\"\n",
    "\n",
    "Can pass group_keys=False to .groupby()\n",
    "tips.groupby('smoker', group_keys=False).apply(top)\n",
    "\n",
    "\"\"\""
   ],
   "metadata": {
    "collapsed": false,
    "pycharm": {
     "name": "#%%\n"
    }
   }
  },
  {
   "cell_type": "markdown",
   "source": [
    "## Quantile and Bucket Analysis"
   ],
   "metadata": {
    "collapsed": false
   }
  },
  {
   "cell_type": "code",
   "execution_count": 14,
   "outputs": [],
   "source": [
    "\"\"\"\n",
    "\n",
    "- We can pass a categorical object created by .cut() \"equal-length\"\n",
    "quartiles = pd.cut(frame.data1, 4)\n",
    "grouped = frame.data2.groupby(quartiles)\n",
    "grouped.apply(get_stats).unstack() // get_stats() is beneath this multi-line comment\n",
    "\n",
    "- using .qcut() \"equal-size\"\n",
    "grouping = pd.qcut(frame.data1, 10, labels=False)\n",
    "grouped = frame.data2.groupby(grouping)\n",
    "grouped.apply(get_stats).unstack()\n",
    "\n",
    "\"\"\"\n",
    "\n",
    "def get_stats(s_group):\n",
    "    return {'min': s_group.min(), 'max': s_group.max(),\n",
    "            'count': s_group.count(), 'mean': s_group.mean()}"
   ],
   "metadata": {
    "collapsed": false,
    "pycharm": {
     "name": "#%%\n"
    }
   }
  },
  {
   "cell_type": "markdown",
   "source": [
    "## Example: Filling missing Values with Group specific values"
   ],
   "metadata": {
    "collapsed": false
   }
  },
  {
   "cell_type": "code",
   "execution_count": 15,
   "outputs": [],
   "source": [
    "# code"
   ],
   "metadata": {
    "collapsed": false,
    "pycharm": {
     "name": "#%%\n"
    }
   }
  },
  {
   "cell_type": "markdown",
   "source": [
    "## Example: Random Sampling and Permutation"
   ],
   "metadata": {
    "collapsed": false
   }
  },
  {
   "cell_type": "code",
   "execution_count": 16,
   "outputs": [],
   "source": [
    "# code"
   ],
   "metadata": {
    "collapsed": false,
    "pycharm": {
     "name": "#%%\n"
    }
   }
  },
  {
   "cell_type": "markdown",
   "source": [
    "## Example: Group Weighted Average and Correlation"
   ],
   "metadata": {
    "collapsed": false
   }
  },
  {
   "cell_type": "code",
   "execution_count": 17,
   "outputs": [],
   "source": [
    "# code"
   ],
   "metadata": {
    "collapsed": false,
    "pycharm": {
     "name": "#%%\n"
    }
   }
  },
  {
   "cell_type": "markdown",
   "source": [
    "## Example: Group-Wise Linear Regression"
   ],
   "metadata": {
    "collapsed": false
   }
  },
  {
   "cell_type": "code",
   "execution_count": 18,
   "outputs": [],
   "source": [
    "# code"
   ],
   "metadata": {
    "collapsed": false,
    "pycharm": {
     "name": "#%%\n"
    }
   }
  },
  {
   "cell_type": "markdown",
   "source": [
    "# Pivot Tables and Cross Tabulation\n",
    "## Cross Tabulations: Crosstab"
   ],
   "metadata": {
    "collapsed": false
   }
  },
  {
   "cell_type": "code",
   "execution_count": 19,
   "outputs": [],
   "source": [
    "# code"
   ],
   "metadata": {
    "collapsed": false,
    "pycharm": {
     "name": "#%%\n"
    }
   }
  }
 ],
 "metadata": {
  "kernelspec": {
   "display_name": "Python 3",
   "language": "python",
   "name": "python3"
  },
  "language_info": {
   "codemirror_mode": {
    "name": "ipython",
    "version": 2
   },
   "file_extension": ".py",
   "mimetype": "text/x-python",
   "name": "python",
   "nbconvert_exporter": "python",
   "pygments_lexer": "ipython2",
   "version": "2.7.6"
  }
 },
 "nbformat": 4,
 "nbformat_minor": 0
}