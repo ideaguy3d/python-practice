{
 "cells": [
  {
   "cell_type": "code",
   "execution_count": 46,
   "metadata": {
    "collapsed": true
   },
   "outputs": [
    {
     "data": {
      "text/plain": "[  key1 key2  data1  data2\n 0    a  one      2      6\n 1    a  two      2      7\n 2    b  one      3      8\n 3    b  two      4      9\n 4    a  one      5     10,\n '',\n '',\n 'grouped.mean()',\n key1\n a    3.0\n b    3.5\n Name: data1, dtype: float64,\n '',\n '',\n 'means',\n key1  key2\n a     one     3.5\n       two     2.0\n b     one     3.0\n       two     4.0\n Name: data1, dtype: float64,\n '',\n '',\n 'means.unstack()',\n key2  one  two\n key1          \n a     3.5  2.0\n b     3.0  4.0,\n '',\n '',\n \"df['data1'].groupby([states, years]).mean()\",\n California  2005    2\n             2006    3\n Ohio        2005    3\n             2006    5\n Name: data1, dtype: int64,\n '',\n '',\n       data1     data2\n key1                 \n a       3.0  7.666667\n b       3.5  8.500000,\n '',\n 'df.groupby([\"key1\", \"key2\"]).mean()',\n            data1  data2\n key1 key2              \n a    one     3.5    8.0\n      two     2.0    7.0\n b    one     3.0    8.0\n      two     4.0    9.0,\n '',\n 'df.groupby([\"key1\", \"key2\"]).size()',\n key1  key2\n a     one     2\n       two     1\n b     one     1\n       two     1\n dtype: int64,\n '',\n '']"
     },
     "execution_count": 46,
     "metadata": {},
     "output_type": "execute_result"
    }
   ],
   "source": [
    "import pandas\n",
    "import numpy as np\n",
    "import re\n",
    "\n",
    "df = pandas.DataFrame({'key1': ['a', 'a', 'b', 'b', 'a'],\n",
    "                       'key2': ['one', 'two', 'one', 'two', 'one'],\n",
    "                       # np.random.randn(5)\n",
    "                       'data1': [2, 2, 3, 4, 5], 'data2': [6, 7, 8, 9, 10]})\n",
    "grouped = df['data1'].groupby(df['key1'])\n",
    "means = df['data1'].groupby([df['key1'], df['key2']]).mean()\n",
    "states = np.array(['Ohio', 'California', 'California', 'Ohio', 'Ohio'])\n",
    "years = np.array([2005, 2005, 2006, 2005, 2006])\n",
    "o = [\n",
    "    df, '', '',\n",
    "    'grouped.mean()',\n",
    "    grouped.mean(), '', '',\n",
    "    'means',\n",
    "    means, '', '',\n",
    "    'means.unstack()',\n",
    "    means.unstack(), '', '',\n",
    "    \"df['data1'].groupby([states, years]).mean()\",\n",
    "    df['data1'].groupby([states, years]).mean(), '', '',\n",
    "    # use a simple column name\n",
    "    df.groupby('key1').mean(), '', 'df.groupby([\"key1\", \"key2\"]).mean()',\n",
    "    df.groupby(['key1', 'key2']).mean(), '', 'df.groupby([\"key1\", \"key2\"]).size()',\n",
    "    # using groupby().size()\n",
    "    df.groupby(['key1', 'key2']).size(), '', '',\n",
    "]\n",
    "o"
   ]
  },
  {
   "cell_type": "markdown",
   "source": [
    "## Iterating Over Groups"
   ],
   "metadata": {
    "collapsed": false,
    "pycharm": {
     "name": "#%% md\n"
    }
   }
  },
  {
   "cell_type": "code",
   "execution_count": 47,
   "outputs": [
    {
     "data": {
      "text/plain": "  key1 key2  data1  data2\n0    a  one      2      6\n1    a  two      2      7\n2    b  one      3      8\n3    b  two      4      9\n4    a  one      5     10",
      "text/html": "<div>\n<style scoped>\n    .dataframe tbody tr th:only-of-type {\n        vertical-align: middle;\n    }\n\n    .dataframe tbody tr th {\n        vertical-align: top;\n    }\n\n    .dataframe thead th {\n        text-align: right;\n    }\n</style>\n<table border=\"1\" class=\"dataframe\">\n  <thead>\n    <tr style=\"text-align: right;\">\n      <th></th>\n      <th>key1</th>\n      <th>key2</th>\n      <th>data1</th>\n      <th>data2</th>\n    </tr>\n  </thead>\n  <tbody>\n    <tr>\n      <th>0</th>\n      <td>a</td>\n      <td>one</td>\n      <td>2</td>\n      <td>6</td>\n    </tr>\n    <tr>\n      <th>1</th>\n      <td>a</td>\n      <td>two</td>\n      <td>2</td>\n      <td>7</td>\n    </tr>\n    <tr>\n      <th>2</th>\n      <td>b</td>\n      <td>one</td>\n      <td>3</td>\n      <td>8</td>\n    </tr>\n    <tr>\n      <th>3</th>\n      <td>b</td>\n      <td>two</td>\n      <td>4</td>\n      <td>9</td>\n    </tr>\n    <tr>\n      <th>4</th>\n      <td>a</td>\n      <td>one</td>\n      <td>5</td>\n      <td>10</td>\n    </tr>\n  </tbody>\n</table>\n</div>"
     },
     "execution_count": 47,
     "metadata": {},
     "output_type": "execute_result"
    }
   ],
   "source": [
    "df"
   ],
   "metadata": {
    "collapsed": false,
    "pycharm": {
     "name": "#%%\n"
    }
   }
  },
  {
   "cell_type": "code",
   "execution_count": 48,
   "outputs": [
    {
     "name": "stdout",
     "output_type": "stream",
     "text": [
      "name: a, \n",
      "group:\n",
      "  key1 key2  data1  data2\n",
      "0    a  one      2      6\n",
      "1    a  two      2      7\n",
      "4    a  one      5     10\n",
      "name: b, \n",
      "group:\n",
      "  key1 key2  data1  data2\n",
      "2    b  one      3      8\n",
      "3    b  two      4      9\n"
     ]
    }
   ],
   "source": [
    "for name, group in df.groupby('key1'):\n",
    "    print(\"name: \" + name + \", \\ngroup:\")\n",
    "    print(group)"
   ],
   "metadata": {
    "collapsed": false,
    "pycharm": {
     "name": "#%%\n"
    }
   }
  },
  {
   "cell_type": "code",
   "execution_count": 49,
   "outputs": [
    {
     "name": "stdout",
     "output_type": "stream",
     "text": [
      "k1: a, k2: one, \n",
      "group:\n",
      "  key1 key2  data1  data2\n",
      "0    a  one      2      6\n",
      "4    a  one      5     10\n",
      "k1: a, k2: two, \n",
      "group:\n",
      "  key1 key2  data1  data2\n",
      "1    a  two      2      7\n",
      "k1: b, k2: one, \n",
      "group:\n",
      "  key1 key2  data1  data2\n",
      "2    b  one      3      8\n",
      "k1: b, k2: two, \n",
      "group:\n",
      "  key1 key2  data1  data2\n",
      "3    b  two      4      9\n"
     ]
    }
   ],
   "source": [
    "for (k1, k2), group in df.groupby(['key1', 'key2']):\n",
    "    print(f'k1: {k1}, k2: {k2}, \\ngroup:')\n",
    "    print(group)"
   ],
   "metadata": {
    "collapsed": false,
    "pycharm": {
     "name": "#%%\n"
    }
   }
  },
  {
   "cell_type": "code",
   "execution_count": 50,
   "outputs": [
    {
     "name": "stdout",
     "output_type": "stream",
     "text": [
      "\n",
      "\n",
      "k1: a, k2: one\n",
      "  key1 key2  data1  data2\n",
      "0    a  one      2      6\n",
      "4    a  one      5     10\n",
      "\n",
      "\n",
      "k1: a, k2: two\n",
      "  key1 key2  data1  data2\n",
      "1    a  two      2      7\n",
      "\n",
      "\n",
      "k1: b, k2: one\n",
      "  key1 key2  data1  data2\n",
      "2    b  one      3      8\n",
      "\n",
      "\n",
      "k1: b, k2: two\n",
      "  key1 key2  data1  data2\n",
      "3    b  two      4      9\n"
     ]
    },
    {
     "data": {
      "text/plain": "['g1a',\n <pandas.core.groupby.generic.SeriesGroupBy object at 0x7f9e9eb0c2b0>,\n 'g1b',\n <pandas.core.groupby.generic.SeriesGroupBy object at 0x7f9e9eb0c3d0>,\n 'g2a',\n <pandas.core.groupby.generic.DataFrameGroupBy object at 0x7f9e9eb0c280>,\n 'g2b',\n <pandas.core.groupby.generic.DataFrameGroupBy object at 0x7f9e9eb61970>,\n 'g3a',\n            data2\n key1 key2       \n a    one       8\n      two       7\n b    one       8\n      two       9]"
     },
     "execution_count": 50,
     "metadata": {},
     "output_type": "execute_result"
    }
   ],
   "source": [
    "\n",
    "for (k1, k2), group in df.groupby(['key1', 'key2']):\n",
    "    print(f\"\\n\\nk1: {k1}, k2: {k2}\")\n",
    "    print(group)\n",
    "\n",
    "one_liner = dict(list(df.groupby('key1', axis=0)))\n",
    "\n",
    "# are equivalent\n",
    "g1a = df.groupby('key1')['data1']\n",
    "g1b = df['data1'].groupby(df['key1'])\n",
    "# are equivalent\n",
    "g2a = df.groupby('key1')[['data1']]\n",
    "g2b = df[['data1']].groupby(df['key1'])\n",
    "\n",
    "g3a = df.groupby(['key1', 'key2'])[['data2']].mean()\n",
    "\n",
    "grps = [\n",
    "    'g1a', g1a,\n",
    "    'g1b', g1b,\n",
    "    'g2a', g2a,\n",
    "    'g2b', g2b,\n",
    "    'g3a', g3a\n",
    "]\n",
    "grps"
   ],
   "metadata": {
    "collapsed": false,
    "pycharm": {
     "name": "#%%\n"
    }
   }
  },
  {
   "cell_type": "markdown",
   "source": [
    "## Grouping with Dicts and Series"
   ],
   "metadata": {
    "collapsed": false,
    "pycharm": {
     "name": "#%% md\n"
    }
   }
  },
  {
   "cell_type": "code",
   "execution_count": 51,
   "outputs": [
    {
     "data": {
      "text/plain": "               a         b         c         d         e\nJoe    -1.764000  0.376083  0.021800 -0.626431  0.099864\nSteve  -0.009525  0.228257  0.454674 -1.764388 -1.368883\nWes     1.384065 -1.242892       NaN       NaN  1.082347\nJim     1.478778  0.845218  0.312265  0.312396  0.075188\nTravis -0.243493  2.709913 -1.285328  0.715103  0.840480",
      "text/html": "<div>\n<style scoped>\n    .dataframe tbody tr th:only-of-type {\n        vertical-align: middle;\n    }\n\n    .dataframe tbody tr th {\n        vertical-align: top;\n    }\n\n    .dataframe thead th {\n        text-align: right;\n    }\n</style>\n<table border=\"1\" class=\"dataframe\">\n  <thead>\n    <tr style=\"text-align: right;\">\n      <th></th>\n      <th>a</th>\n      <th>b</th>\n      <th>c</th>\n      <th>d</th>\n      <th>e</th>\n    </tr>\n  </thead>\n  <tbody>\n    <tr>\n      <th>Joe</th>\n      <td>-1.764000</td>\n      <td>0.376083</td>\n      <td>0.021800</td>\n      <td>-0.626431</td>\n      <td>0.099864</td>\n    </tr>\n    <tr>\n      <th>Steve</th>\n      <td>-0.009525</td>\n      <td>0.228257</td>\n      <td>0.454674</td>\n      <td>-1.764388</td>\n      <td>-1.368883</td>\n    </tr>\n    <tr>\n      <th>Wes</th>\n      <td>1.384065</td>\n      <td>-1.242892</td>\n      <td>NaN</td>\n      <td>NaN</td>\n      <td>1.082347</td>\n    </tr>\n    <tr>\n      <th>Jim</th>\n      <td>1.478778</td>\n      <td>0.845218</td>\n      <td>0.312265</td>\n      <td>0.312396</td>\n      <td>0.075188</td>\n    </tr>\n    <tr>\n      <th>Travis</th>\n      <td>-0.243493</td>\n      <td>2.709913</td>\n      <td>-1.285328</td>\n      <td>0.715103</td>\n      <td>0.840480</td>\n    </tr>\n  </tbody>\n</table>\n</div>"
     },
     "execution_count": 51,
     "metadata": {},
     "output_type": "execute_result"
    }
   ],
   "source": [
    "people = pandas.DataFrame(np.random.randn(5, 5), columns=['a', 'b', 'c', 'd', 'e'],\n",
    "                          index=['Joe', 'Steve', 'Wes', 'Jim', 'Travis'])\n",
    "people.iloc[2:3, [2, 3]] = np.nan\n",
    "people"
   ],
   "metadata": {
    "collapsed": false,
    "pycharm": {
     "name": "#%%\n"
    }
   }
  },
  {
   "cell_type": "code",
   "execution_count": 52,
   "outputs": [
    {
     "data": {
      "text/plain": "[            blue       red\n Joe    -0.604631 -1.288053\n Steve  -1.309714 -1.150151\n Wes     0.000000  1.223521\n Jim     0.624661  2.399183\n Travis -0.570225  3.306899,\n '',\n '',\n         blue  red\n Joe        2    3\n Steve      2    3\n Wes        0    3\n Jim        2    3\n Travis     2    3,\n '',\n '']"
     },
     "execution_count": 52,
     "metadata": {},
     "output_type": "execute_result"
    }
   ],
   "source": [
    "mapping = {\n",
    "    'a': 'red',\n",
    "    'b': 'red',\n",
    "    'c': 'blue',\n",
    "    'd': 'blue',\n",
    "    'e': 'red',\n",
    "    'f': 'orange'\n",
    "}\n",
    "map_series = pandas.Series(mapping)\n",
    "o = [\n",
    "    people.groupby(mapping, axis=1).sum(), '', '',\n",
    "    people.groupby(map_series, axis=1).count(), '', '',\n",
    "]\n",
    "o"
   ],
   "metadata": {
    "collapsed": false,
    "pycharm": {
     "name": "#%%\n"
    }
   }
  },
  {
   "cell_type": "markdown",
   "source": [
    "## Grouping with Functions"
   ],
   "metadata": {
    "collapsed": false
   }
  },
  {
   "cell_type": "code",
   "execution_count": 53,
   "outputs": [
    {
     "data": {
      "text/plain": "[          a         b         c         d         e\n 3  1.098842 -0.021591  0.334065 -0.314035  1.257399\n 5 -0.009525  0.228257  0.454674 -1.764388 -1.368883\n 6 -0.243493  2.709913 -1.285328  0.715103  0.840480,\n '',\n '',\n               a         b         c         d         e\n 3 one -1.764000 -1.242892  0.021800 -0.626431  0.099864\n   two  1.478778  0.845218  0.312265  0.312396  0.075188\n 5 one -0.009525  0.228257  0.454674 -1.764388 -1.368883\n 6 two -0.243493  2.709913 -1.285328  0.715103  0.840480,\n '',\n '']"
     },
     "execution_count": 53,
     "metadata": {},
     "output_type": "execute_result"
    }
   ],
   "source": [
    "key_list = ['one', 'one', 'one', 'two', 'two']\n",
    "o = [\n",
    "    people.groupby(len).sum(), '', '',\n",
    "    people.groupby([len, key_list]).min(), '', '',\n",
    "]\n",
    "o"
   ],
   "metadata": {
    "collapsed": false,
    "pycharm": {
     "name": "#%%\n"
    }
   }
  },
  {
   "cell_type": "markdown",
   "source": [
    "## Grouping by Index Levels"
   ],
   "metadata": {
    "collapsed": false
   }
  },
  {
   "cell_type": "code",
   "execution_count": 54,
   "outputs": [
    {
     "data": {
      "text/plain": "['',\n '',\n cty          US                            JP          \n tenor         1         3         5         1         3\n 0      0.374574 -0.507799 -1.082090  0.379630  0.727375\n 1      0.391274 -1.325102  0.158865 -0.396938 -0.816429\n 2      0.796225  0.657276  2.289078  0.568782 -1.117907\n 3     -1.149917  0.142983 -0.548200 -0.140059 -0.275473,\n '',\n '',\n cty        JP        US\n 0    1.107005 -1.215315\n 1   -1.213368 -0.774964\n 2   -0.549126  3.742579\n 3   -0.415533 -1.555133]"
     },
     "execution_count": 54,
     "metadata": {},
     "output_type": "execute_result"
    }
   ],
   "source": [
    "columns = pandas.MultiIndex.from_arrays([['US', 'US', 'US', 'JP', 'JP'],\n",
    "                                         [1, 3, 5, 1, 3]],\n",
    "                                        names=['cty', 'tenor'])\n",
    "hier_df = pandas.DataFrame(np.random.randn(4, 5), columns=columns)\n",
    "o = [\n",
    "    '', '',\n",
    "    hier_df, '', '',\n",
    "    hier_df.groupby(level='cty', axis=1).sum()\n",
    "]\n",
    "o"
   ],
   "metadata": {
    "collapsed": false,
    "pycharm": {
     "name": "#%%\n"
    }
   }
  },
  {
   "cell_type": "markdown",
   "source": [
    "# Data Aggregation"
   ],
   "metadata": {
    "collapsed": false
   }
  },
  {
   "cell_type": "code",
   "execution_count": 55,
   "outputs": [
    {
     "data": {
      "text/plain": "  key1 key2  data1  data2\n0    a  one      2      6\n1    a  two      2      7\n2    b  one      3      8\n3    b  two      4      9\n4    a  one      5     10",
      "text/html": "<div>\n<style scoped>\n    .dataframe tbody tr th:only-of-type {\n        vertical-align: middle;\n    }\n\n    .dataframe tbody tr th {\n        vertical-align: top;\n    }\n\n    .dataframe thead th {\n        text-align: right;\n    }\n</style>\n<table border=\"1\" class=\"dataframe\">\n  <thead>\n    <tr style=\"text-align: right;\">\n      <th></th>\n      <th>key1</th>\n      <th>key2</th>\n      <th>data1</th>\n      <th>data2</th>\n    </tr>\n  </thead>\n  <tbody>\n    <tr>\n      <th>0</th>\n      <td>a</td>\n      <td>one</td>\n      <td>2</td>\n      <td>6</td>\n    </tr>\n    <tr>\n      <th>1</th>\n      <td>a</td>\n      <td>two</td>\n      <td>2</td>\n      <td>7</td>\n    </tr>\n    <tr>\n      <th>2</th>\n      <td>b</td>\n      <td>one</td>\n      <td>3</td>\n      <td>8</td>\n    </tr>\n    <tr>\n      <th>3</th>\n      <td>b</td>\n      <td>two</td>\n      <td>4</td>\n      <td>9</td>\n    </tr>\n    <tr>\n      <th>4</th>\n      <td>a</td>\n      <td>one</td>\n      <td>5</td>\n      <td>10</td>\n    </tr>\n  </tbody>\n</table>\n</div>"
     },
     "execution_count": 55,
     "metadata": {},
     "output_type": "execute_result"
    }
   ],
   "source": [
    "df"
   ],
   "metadata": {
    "collapsed": false,
    "pycharm": {
     "name": "#%%\n"
    }
   }
  },
  {
   "cell_type": "code",
   "execution_count": 56,
   "outputs": [
    {
     "data": {
      "text/plain": "['',\n 'grouped.quantile(0.9)',\n       data1  data2\n key1              \n a       4.4    9.4\n b       3.9    8.9,\n '',\n 'grouped.agg(peak_to_peak)',\n       data1  data2\n key1              \n a         3      4\n b         1      1,\n      data1                                           data2            \\\n      count mean       std  min   25%  50%   75%  max count      mean   \n key1                                                                   \n a      3.0  3.0  1.732051  2.0  2.00  2.0  3.50  5.0   3.0  7.666667   \n b      2.0  3.5  0.707107  3.0  3.25  3.5  3.75  4.0   2.0  8.500000   \n \n                                             \n            std  min   25%  50%   75%   max  \n key1                                        \n a     2.081666  6.0  6.50  7.0  8.50  10.0  \n b     0.707107  8.0  8.25  8.5  8.75   9.0  ]"
     },
     "execution_count": 56,
     "metadata": {},
     "output_type": "execute_result"
    }
   ],
   "source": [
    "\"\"\"\n",
    ".quantile()\n",
    ".agg()\n",
    ".describe()\n",
    "\"\"\"\n",
    "\n",
    "\n",
    "def peak_to_peak(arr):\n",
    "    return arr.max() - arr.min()\n",
    "\n",
    "\n",
    "grouped = df.groupby('key1')\n",
    "o = [\n",
    "    '', 'grouped.quantile(0.9)',\n",
    "    grouped.quantile(0.9), '', 'grouped.agg(peak_to_peak)',\n",
    "    grouped.agg(peak_to_peak),\n",
    "    grouped.describe()\n",
    "]\n",
    "o"
   ],
   "metadata": {
    "collapsed": false,
    "pycharm": {
     "name": "#%%\n"
    }
   }
  },
  {
   "cell_type": "markdown",
   "source": [
    "## Column-Wise and Multiple Function Application"
   ],
   "metadata": {
    "collapsed": false
   }
  },
  {
   "cell_type": "code",
   "execution_count": 57,
   "outputs": [
    {
     "data": {
      "text/plain": "'\\n.groupby().agg(tuples)\\n.groupby().agg(dictionary)\\n'"
     },
     "execution_count": 57,
     "metadata": {},
     "output_type": "execute_result"
    }
   ],
   "source": [
    "\"\"\"\n",
    ".groupby().agg(tuples)\n",
    ".groupby().agg(dictionary)\n",
    "\"\"\""
   ],
   "metadata": {
    "collapsed": false,
    "pycharm": {
     "name": "#%%\n"
    }
   }
  },
  {
   "cell_type": "markdown",
   "source": [
    "## Returning Aggregated Data Without Row Indexes"
   ],
   "metadata": {
    "collapsed": false,
    "pycharm": {
     "name": "#%% md\n"
    }
   }
  },
  {
   "cell_type": "code",
   "execution_count": 58,
   "outputs": [],
   "source": [
    "# as_index=False to .groupby()\n",
    "g = df.groupby(['key1', 'key2'], as_index=False)"
   ],
   "metadata": {
    "collapsed": false,
    "pycharm": {
     "name": "#%%\n"
    }
   }
  },
  {
   "cell_type": "markdown",
   "source": [
    "# Apply: General split-apply-combine"
   ],
   "metadata": {
    "collapsed": false
   }
  },
  {
   "cell_type": "code",
   "execution_count": 59,
   "outputs": [],
   "source": [
    "\"\"\"\n",
    "\n",
    ".groupby().apply(function_ref) // internally uses pandas.concat()\n",
    "\n",
    "to pass in additional params e.g.\n",
    "tips.groupby(['smoker', 'day'])\n",
    "    .apply(top, n=1, column='total_bill') // 'top' is the function\n",
    "\n",
    "can use .unstack() on a .describe()\n",
    "result = tips.groupby('smoker')['tip_pct'].describe()\n",
    "result.unstack('smoker')\n",
    "\n",
    "\"\"\"\n",
    "\n",
    "\n",
    "def top(dataframe, n=5, column='tip_pct'):\n",
    "    return df.sort_values(by=column)[-n:]"
   ],
   "metadata": {
    "collapsed": false,
    "pycharm": {
     "name": "#%%\n"
    }
   }
  },
  {
   "cell_type": "markdown",
   "source": [
    "## Suppressing the Group Keys"
   ],
   "metadata": {
    "collapsed": false,
    "pycharm": {
     "name": "#%% md\n"
    }
   }
  },
  {
   "cell_type": "code",
   "execution_count": 60,
   "outputs": [
    {
     "data": {
      "text/plain": "\"\\n\\nCan pass group_keys=False to .groupby()\\ntips.groupby('smoker', group_keys=False).apply(top)\\n\\n\""
     },
     "execution_count": 60,
     "metadata": {},
     "output_type": "execute_result"
    }
   ],
   "source": [
    "\"\"\"\n",
    "\n",
    "Can pass group_keys=False to .groupby()\n",
    "tips.groupby('smoker', group_keys=False).apply(top)\n",
    "\n",
    "\"\"\""
   ],
   "metadata": {
    "collapsed": false,
    "pycharm": {
     "name": "#%%\n"
    }
   }
  },
  {
   "cell_type": "markdown",
   "source": [
    "## Quantile and Bucket Analysis"
   ],
   "metadata": {
    "collapsed": false
   }
  },
  {
   "cell_type": "code",
   "execution_count": 61,
   "outputs": [],
   "source": [
    "\"\"\"\n",
    "\n",
    "- We can pass a categorical object created by .cut() \"equal-length\"\n",
    "quartiles = pd.cut(frame.data1, 4)\n",
    "grouped = frame.data2.groupby(quartiles)\n",
    "grouped.apply(get_stats).unstack() // get_stats() is beneath this multi-line comment\n",
    "\n",
    "- using .qcut() \"equal-size\"\n",
    "grouping = pd.qcut(frame.data1, 10, labels=False)\n",
    "grouped = frame.data2.groupby(grouping)\n",
    "grouped.apply(get_stats).unstack()\n",
    "\n",
    "\"\"\"\n",
    "\n",
    "\n",
    "def get_stats(group):\n",
    "    return {'min': group.min(), 'max': group.max(),\n",
    "            'count': group.count(), 'mean': group.mean()}"
   ],
   "metadata": {
    "collapsed": false,
    "pycharm": {
     "name": "#%%\n"
    }
   }
  },
  {
   "cell_type": "markdown",
   "source": [
    "## Example: Filling missing Values with Group specific values"
   ],
   "metadata": {
    "collapsed": false
   }
  },
  {
   "cell_type": "code",
   "execution_count": 62,
   "outputs": [],
   "source": [
    "# code"
   ],
   "metadata": {
    "collapsed": false,
    "pycharm": {
     "name": "#%%\n"
    }
   }
  },
  {
   "cell_type": "markdown",
   "source": [
    "## Example: Random Sampling and Permutation"
   ],
   "metadata": {
    "collapsed": false
   }
  },
  {
   "cell_type": "code",
   "execution_count": 63,
   "outputs": [],
   "source": [
    "# code"
   ],
   "metadata": {
    "collapsed": false,
    "pycharm": {
     "name": "#%%\n"
    }
   }
  },
  {
   "cell_type": "markdown",
   "source": [
    "## Example: Group Weighted Average and Correlation"
   ],
   "metadata": {
    "collapsed": false
   }
  },
  {
   "cell_type": "code",
   "execution_count": 64,
   "outputs": [],
   "source": [
    "# code"
   ],
   "metadata": {
    "collapsed": false,
    "pycharm": {
     "name": "#%%\n"
    }
   }
  },
  {
   "cell_type": "markdown",
   "source": [
    "## Example: Group-Wise Linear Regression"
   ],
   "metadata": {
    "collapsed": false
   }
  },
  {
   "cell_type": "code",
   "execution_count": 65,
   "outputs": [],
   "source": [
    "# code"
   ],
   "metadata": {
    "collapsed": false,
    "pycharm": {
     "name": "#%%\n"
    }
   }
  },
  {
   "cell_type": "markdown",
   "source": [
    "# Pivot Tables and Cross Tabulation\n",
    "## Cross Tabulations: Crosstab"
   ],
   "metadata": {
    "collapsed": false
   }
  },
  {
   "cell_type": "code",
   "execution_count": 66,
   "outputs": [],
   "source": [
    "# code"
   ],
   "metadata": {
    "collapsed": false,
    "pycharm": {
     "name": "#%%\n"
    }
   }
  }
 ],
 "metadata": {
  "kernelspec": {
   "display_name": "Python 3",
   "language": "python",
   "name": "python3"
  },
  "language_info": {
   "codemirror_mode": {
    "name": "ipython",
    "version": 2
   },
   "file_extension": ".py",
   "mimetype": "text/x-python",
   "name": "python",
   "nbconvert_exporter": "python",
   "pygments_lexer": "ipython2",
   "version": "2.7.6"
  }
 },
 "nbformat": 4,
 "nbformat_minor": 0
}