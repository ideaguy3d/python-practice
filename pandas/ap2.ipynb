{
 "cells": [
  {
   "cell_type": "markdown",
   "source": [
    "# Handling Missing Data"
   ],
   "metadata": {
    "collapsed": false,
    "pycharm": {
     "name": "#%% md\n"
    }
   }
  },
  {
   "cell_type": "code",
   "execution_count": 3,
   "outputs": [
    {
     "data": {
      "text/plain": "0    False\n1    False\n2     True\n3    False\ndtype: bool"
     },
     "execution_count": 3,
     "metadata": {},
     "output_type": "execute_result"
    }
   ],
   "source": [
    "import pandas\n",
    "import numpy as np\n",
    "from numpy import nan as NA\n",
    "\n",
    "string_data = pandas.Series(['aardvark', 'artichoke', np.nan, 'avocado'])\n",
    "# .isnull() will return a boolean array\n",
    "string_data.isnull()"
   ],
   "metadata": {
    "collapsed": false,
    "pycharm": {
     "name": "#%%\n"
    }
   }
  },
  {
   "cell_type": "markdown",
   "source": [
    "## Filtering Out Missing Data & Filling in Missing Data"
   ],
   "metadata": {
    "collapsed": false,
    "pycharm": {
     "name": "#%% md\n"
    }
   }
  },
  {
   "cell_type": "code",
   "execution_count": 7,
   "outputs": [
    {
     "data": {
      "text/plain": "[0    1.0\n 2    3.5\n 4    7.0\n dtype: float64,\n '',\n 'data[data.notnull()]',\n 0    1.0\n 2    3.5\n 4    7.0\n dtype: float64,\n '',\n '']"
     },
     "execution_count": 7,
     "metadata": {},
     "output_type": "execute_result"
    }
   ],
   "source": [
    "# Series\n",
    "data = pandas.Series([1, NA, 3.5, NA, 7])\n",
    "clean = [\n",
    "    data.dropna(), '','data[data.notnull()]',\n",
    "    data[data.notnull()], '',''\n",
    "]\n",
    "clean"
   ],
   "metadata": {
    "collapsed": false,
    "pycharm": {
     "name": "#%%\n"
    }
   }
  },
  {
   "cell_type": "code",
   "execution_count": 17,
   "outputs": [
    {
     "data": {
      "text/plain": "[     0    1    2\n 0  1.0  6.5  3.0\n 1  1.0  NaN  NaN\n 2  NaN  NaN  NaN\n 3  NaN  6.5  3.0,\n '',\n '',\n      0    1    2\n 0  1.0  6.5  3.0,\n '',\n 'data.dropna(how=\"all\")',\n      0    1    2\n 0  1.0  6.5  3.0\n 1  1.0  NaN  NaN\n 3  NaN  6.5  3.0,\n '',\n 'df',\n           0         1         2\n 0 -0.791521       NaN       NaN\n 1 -0.269018       NaN       NaN\n 2 -0.469925       NaN  1.772218\n 3  0.397856       NaN -0.042834\n 4  0.918176  0.428277 -0.639774\n 5 -1.191737  2.444555  0.108843\n 6  0.166983  0.932011 -2.659369\n 7  0.008653  1.319615 -0.197740,\n '',\n 'df.dropna(thresh=\"2\")',\n           0         1         2\n 2 -0.469925       NaN  1.772218\n 3  0.397856       NaN -0.042834\n 4  0.918176  0.428277 -0.639774\n 5 -1.191737  2.444555  0.108843\n 6  0.166983  0.932011 -2.659369\n 7  0.008653  1.319615 -0.197740,\n '',\n 'df.fillna(0)',\n           0         1         2\n 0 -0.791521  0.000000  0.000000\n 1 -0.269018  0.000000  0.000000\n 2 -0.469925  0.000000  1.772218\n 3  0.397856  0.000000 -0.042834\n 4  0.918176  0.428277 -0.639774\n 5 -1.191737  2.444555  0.108843\n 6  0.166983  0.932011 -2.659369\n 7  0.008653  1.319615 -0.197740,\n '',\n 'df.fillna({1:0.5, 2:0}',\n           0         1         2\n 0 -0.791521  0.500000  0.000000\n 1 -0.269018  0.500000  0.000000\n 2 -0.469925  0.500000  1.772218\n 3  0.397856  0.500000 -0.042834\n 4  0.918176  0.428277 -0.639774\n 5 -1.191737  2.444555  0.108843\n 6  0.166983  0.932011 -2.659369\n 7  0.008653  1.319615 -0.197740,\n '',\n '.fillna(data2.mean())',\n           0         1         2\n 0 -0.791521  5.333333  5.333333\n 1 -0.269018  5.333333  5.333333\n 2 -0.469925  5.333333  1.772218\n 3  0.397856  5.333333 -0.042834\n 4  0.918176  0.428277 -0.639774\n 5 -1.191737  2.444555  0.108843\n 6  0.166983  0.932011 -2.659369\n 7  0.008653  1.319615 -0.197740]"
     },
     "execution_count": 17,
     "metadata": {},
     "output_type": "execute_result"
    }
   ],
   "source": [
    "# DataFrame's\n",
    "data = pandas.DataFrame([[1., 6.5, 3.], [1., NA, NA], [NA, NA, NA], [NA, 6.5, 3.]])\n",
    "data2 = pandas.Series([1., NA, 5, NA, 10])\n",
    "df = pandas.DataFrame(np.random.randn(8,3))\n",
    "df.iloc[:4, 1] = NA\n",
    "df.iloc[:2, 2] = NA\n",
    "clean = [\n",
    "    data, '','',\n",
    "    data.dropna(), '','data.dropna(how=\"all\")',\n",
    "    data.dropna(how='all'), '','df',\n",
    "    df, '','df.dropna(thresh=\"2\")',\n",
    "    df.dropna(thresh=2), '','df.fillna(0)',\n",
    "    df.fillna(0), '','df.fillna({1:0.5, 2:0}',\n",
    "    df.fillna({1:0.5, 2:0}), '','.fillna(data2.mean())',\n",
    "    df.fillna(data2.mean())\n",
    "]\n",
    "clean"
   ],
   "metadata": {
    "collapsed": false,
    "pycharm": {
     "name": "#%%\n"
    }
   }
  },
  {
   "cell_type": "markdown",
   "source": [
    "# Data Transformations\n",
    "## Removing Dupes"
   ],
   "metadata": {
    "collapsed": false,
    "pycharm": {
     "name": "#%% md\n"
    }
   }
  },
  {
   "cell_type": "code",
   "execution_count": 21,
   "outputs": [
    {
     "data": {
      "text/plain": "[    k1  k2  v1\n 0  one   1   0\n 1  two   1   1\n 2  one   2   2\n 3  two   3   3\n 4  one   3   4\n 5  two   4   5\n 6  two   4   6,\n '',\n 'data.duplicated()',\n 0    False\n 1    False\n 2    False\n 3    False\n 4    False\n 5    False\n 6    False\n dtype: bool,\n '',\n 'data.drop_duplicate()',\n     k1  k2  v1\n 0  one   1   0\n 1  two   1   1\n 2  one   2   2\n 3  two   3   3\n 4  one   3   4\n 5  two   4   5\n 6  two   4   6,\n '',\n '',\n     k1  k2  v1\n 0  one   1   0\n 1  two   1   1,\n '',\n '',\n     k1  k2  v1\n 0  one   1   0\n 1  two   1   1\n 2  one   2   2\n 3  two   3   3\n 4  one   3   4\n 6  two   4   6]"
     },
     "execution_count": 21,
     "metadata": {},
     "output_type": "execute_result"
    }
   ],
   "source": [
    "data = pandas.DataFrame({'k1': ['one', 'two'] * 3 + ['two'], 'k2': [1, 1, 2, 3, 3, 4, 4]})\n",
    "data['v1'] = range(7)\n",
    "v = [\n",
    "    data, '','data.duplicated()',\n",
    "    data.duplicated(), '','data.drop_duplicate()',\n",
    "    data.drop_duplicates(), '','',\n",
    "    data.drop_duplicates(['k1']), '','',\n",
    "    data.drop_duplicates(['k1', 'k2'], keep='last')\n",
    "]\n",
    "v"
   ],
   "metadata": {
    "collapsed": false,
    "pycharm": {
     "name": "#%%\n"
    }
   }
  },
  {
   "cell_type": "markdown",
   "source": [
    "## Transforming Data Using Functions"
   ],
   "metadata": {
    "collapsed": false,
    "pycharm": {
     "name": "#%% md\n"
    }
   }
  },
  {
   "cell_type": "code",
   "execution_count": 24,
   "outputs": [
    {
     "data": {
      "text/plain": "[          food  ounces  animal\n 0        bacon     4.0     pig\n 1  pulled pork     3.0     pig\n 2        bacon    12.0     pig\n 3     Pastrami     6.0     cow\n 4  corned beef     7.5     cow\n 5        Bacon     8.0     pig\n 6     pastrami     3.0     cow\n 7    honey ham     5.0     pig\n 8     nova lox     6.0  salmon,\n '',\n '',\n 0          bacon\n 1    pulled pork\n 2          bacon\n 3       Pastrami\n 4    corned beef\n 5          Bacon\n 6       pastrami\n 7      honey ham\n 8       nova lox\n Name: food, dtype: object,\n '',\n 'lower_lambda',\n 0       pig\n 1       pig\n 2       pig\n 3       cow\n 4       cow\n 5       pig\n 6       cow\n 7       pig\n 8    salmon\n Name: food, dtype: object]"
     },
     "execution_count": 24,
     "metadata": {},
     "output_type": "execute_result"
    }
   ],
   "source": [
    "data = pandas.DataFrame(\n",
    "    {'food': ['bacon', 'pulled pork', 'bacon', 'Pastrami', 'corned beef', 'Bacon', 'pastrami', 'honey ham', 'nova lox'],\n",
    "     'ounces': [4, 3, 12, 6, 7.5, 8, 3, 5, 6]}\n",
    ")\n",
    "meat_to_animal = {\n",
    "    'bacon': 'pig',\n",
    "    'pulled pork': 'pig',\n",
    "    'pastrami': 'cow',\n",
    "    'corned beef': 'cow',\n",
    "    'honey ham': 'pig',\n",
    "    'nova lox': 'salmon'\n",
    "}\n",
    "lowercased = data['food'].str.lower()\n",
    "data['animal'] = lowercased.map(meat_to_animal)\n",
    "lowercase_lambda = data['food'].map(lambda x: meat_to_animal[x.lower()])\n",
    "o = [\n",
    "    data, '','',\n",
    "    data['food'], '','lower_lambda',\n",
    "    lowercase_lambda\n",
    "]\n",
    "o"
   ],
   "metadata": {
    "collapsed": false,
    "pycharm": {
     "name": "#%%\n"
    }
   }
  },
  {
   "cell_type": "markdown",
   "source": [
    "## Replacing Values"
   ],
   "metadata": {
    "collapsed": false
   }
  },
  {
   "cell_type": "code",
   "execution_count": 27,
   "outputs": [
    {
     "data": {
      "text/plain": "[0       1.0\n 1       NaN\n 2       2.0\n 3       NaN\n 4   -1000.0\n 5       3.0\n dtype: float64,\n '',\n '',\n 0    1.0\n 1    NaN\n 2    2.0\n 3    NaN\n 4    NaN\n 5    3.0\n dtype: float64,\n '',\n '',\n 0    1.0\n 1    NaN\n 2    2.0\n 3    NaN\n 4    0.0\n 5    3.0\n dtype: float64]"
     },
     "execution_count": 27,
     "metadata": {},
     "output_type": "execute_result"
    }
   ],
   "source": [
    "data = pandas.Series([1., -999., 2., -999., -1000., 3.])\n",
    "o = [\n",
    "    data.replace(-999, np.nan), '','',\n",
    "    data.replace([-999, -1000], np.nan), '','',\n",
    "    data.replace({-999: np.nan, -1000: 0})\n",
    "]\n",
    "o"
   ],
   "metadata": {
    "collapsed": false,
    "pycharm": {
     "name": "#%%\n"
    }
   }
  },
  {
   "cell_type": "markdown",
   "source": [
    "## Renaming Axis Indexes"
   ],
   "metadata": {
    "collapsed": false
   }
  },
  {
   "cell_type": "code",
   "execution_count": 29,
   "outputs": [
    {
     "data": {
      "text/plain": "[Index(['OHIO', 'COLO', 'NEW '], dtype='object'),\n '',\n '',\n       one  two  three  four\n OHIO    0    1      2     3\n COLO    4    5      6     7\n NEW     8    9     10    11,\n '',\n 'data.rename(index=str.title, column=str.upper)',\n       ONE  TWO  THREE  FOUR\n Ohio    0    1      2     3\n Colo    4    5      6     7\n New     8    9     10    11,\n '',\n 'data.rename(index={\"NEW \": \"TEXAS\"}, columns: {\"three\":\"foobar\"})',\n        one  two  foobar  four\n OHIO     0    1       2     3\n COLO     4    5       6     7\n TEXAS    8    9      10    11]"
     },
     "execution_count": 29,
     "metadata": {},
     "output_type": "execute_result"
    }
   ],
   "source": [
    "data = pandas.DataFrame(np.arange(12).reshape((3, 4)),\n",
    "                        index=['Ohio', 'Colorado', 'New York'],\n",
    "                        columns=['one', 'two', 'three', 'four'])\n",
    "transform = lambda x: x[:4].upper()\n",
    "data.index = data.index.map(transform)\n",
    "o = [\n",
    "    data.index.map(transform), '','',\n",
    "    data, '','data.rename(index=str.title, column=str.upper)',\n",
    "    data.rename(index=str.title, columns=str.upper), '','data.rename(index={\"NEW \": \"TEXAS\"}, columns: {\"three\":\"foobar\"})',\n",
    "    data.rename(index={'NEW ': 'TEXAS'}, columns={'three': 'foobar'})\n",
    "]\n",
    "o"
   ],
   "metadata": {
    "collapsed": false,
    "pycharm": {
     "name": "#%%\n"
    }
   }
  },
  {
   "cell_type": "markdown",
   "source": [
    "## Discretization & Binning"
   ],
   "metadata": {
    "collapsed": false
   }
  },
  {
   "cell_type": "code",
   "execution_count": 47,
   "outputs": [
    {
     "data": {
      "text/plain": "['categories',\n [(18, 25], (18, 25], (18, 25], (25, 35], (18, 25], ..., (25, 35], (60, 100], (35, 60], (35, 60], (25, 35]]\n Length: 12\n Categories (4, interval[int64]): [(18, 25] < (25, 35] < (35, 60] < (60, 100]],\n '',\n '.code',\n array([0, 0, 0, 1, 0, 0, 2, 1, 3, 2, 2, 1], dtype=int8),\n '',\n '.categories',\n IntervalIndex([(18, 25], (25, 35], (35, 60], (60, 100]],\n               closed='right',\n               dtype='interval[int64]'),\n '',\n 'pandas.value_counts(cats)',\n (18, 25]     5\n (25, 35]     3\n (35, 60]     3\n (60, 100]    1\n dtype: int64,\n '',\n 'pandas.cut(ages, bins, labels=group_names)',\n ['Youth', 'Youth', 'Youth', 'YoungAdult', 'Youth', ..., 'YoungAdult', 'Senior', 'MiddleAged', 'MiddleAged', 'YoungAdult']\n Length: 12\n Categories (4, object): ['Youth' < 'YoungAdult' < 'MiddleAged' < 'Senior'],\n '',\n 'data',\n array([ 1,  2,  3,  4,  5,  6,  7,  8,  9, 10, 11, 12, 13, 14, 15, 16]),\n '',\n 'pandas.cut(data, 4)',\n [(1.0, 4.8], (1.0, 4.8], (1.0, 4.8], (1.0, 4.8], (4.8, 8.5], ..., (8.5, 12.2], (12.2, 16.0], (12.2, 16.0], (12.2, 16.0], (12.2, 16.0]]\n Length: 16\n Categories (4, interval[float64]): [(1.0, 4.8] < (4.8, 8.5] < (8.5, 12.2] < (12.2, 16.0]],\n '',\n '',\n [(-0.698, 0.00908], (-3.6229999999999998, -0.698], (0.638, 3.564], (-0.698, 0.00908], (-3.6229999999999998, -0.698], ..., (0.00908, 0.638], (0.00908, 0.638], (0.638, 3.564], (-0.698, 0.00908], (-3.6229999999999998, -0.698]]\n Length: 1600\n Categories (4, interval[float64]): [(-3.6229999999999998, -0.698] < (-0.698, 0.00908] < (0.00908, 0.638] < (0.638, 3.564]],\n '',\n '',\n (-3.302, -0.648]    250\n (-0.648, 0.0239]    250\n (0.0239, 0.721]     250\n (0.721, 3.089]      250\n dtype: int64,\n '',\n '']"
     },
     "execution_count": 47,
     "metadata": {},
     "output_type": "execute_result"
    }
   ],
   "source": [
    "ages = [20, 22, 25, 27, 21, 23, 37, 31, 61, 45, 41, 32]\n",
    "bins = [18, 25, 35, 60, 100]\n",
    "# .cut() actually does the discretization\n",
    "cats = pandas.cut(ages, bins)\n",
    "group_names = ['Youth', 'YoungAdult', 'MiddleAged', 'Senior']\n",
    "name_cats = pandas.cut(ages, bins, labels=group_names)\n",
    "data = np.arange(16) + 1\n",
    "discretize = [\n",
    "    'categories',\n",
    "    cats, '','.code',\n",
    "    cats.codes, '','.categories',\n",
    "    cats.categories, '','pandas.value_counts(cats)',\n",
    "    pandas.value_counts(cats), '','pandas.cut(ages, bins, labels=group_names)',\n",
    "    name_cats, '', 'data',\n",
    "    data, '','pandas.cut(data, 4)',\n",
    "    pandas.cut(data, 4, precision=1), '','',\n",
    "    pandas.qcut(np.random.randn(1600), 4), '','',\n",
    "    pandas.value_counts(pandas.qcut(np.random.randn(1000), 4)), '','',\n",
    "    #pandas.qcut(data, [1,4,8,12,16])\n",
    "]\n",
    "discretize"
   ],
   "metadata": {
    "collapsed": false,
    "pycharm": {
     "name": "#%%\n"
    }
   }
  },
  {
   "cell_type": "markdown",
   "source": [
    "## Detecting & Filtering Outliers"
   ],
   "metadata": {
    "collapsed": false
   }
  },
  {
   "cell_type": "code",
   "execution_count": 51,
   "outputs": [
    {
     "data": {
      "text/plain": "['data.describe()',\n                  0            1            2            3\n count  1000.000000  1000.000000  1000.000000  1000.000000\n mean     -0.034751    -0.029958     0.006481     0.023851\n std       0.971793     0.976588     0.997318     0.990872\n min      -2.817455    -2.953818    -3.000000    -3.000000\n 25%      -0.689653    -0.662738    -0.655261    -0.692755\n 50%      -0.019004    -0.017435     0.055985     0.043285\n 75%       0.643153     0.641272     0.685920     0.715960\n max       3.000000     2.986516     3.000000     2.706008,\n '',\n 'col[np.abs(col) > 3]',\n Series([], Name: 2, dtype: float64),\n '',\n '',\n Empty DataFrame\n Columns: [0, 1, 2, 3]\n Index: [],\n '',\n '']"
     },
     "execution_count": 51,
     "metadata": {},
     "output_type": "execute_result"
    }
   ],
   "source": [
    "data = pandas.DataFrame(np.random.randn(1000, 4))\n",
    "col = data[2]\n",
    "# cap data from -3 to 3\n",
    "data[np.abs(data) > 3] = np.sign(data) * 3\n",
    "o = [\n",
    "   'data.describe()',\n",
    "    data.describe(), '','col[np.abs(col) > 3]',\n",
    "    col[np.abs(col) > 3], '','',\n",
    "    data[(np.abs(data) > 3).any(1)], '','',\n",
    "\n",
    "]\n",
    "o"
   ],
   "metadata": {
    "collapsed": false,
    "pycharm": {
     "name": "#%%\n"
    }
   }
  },
  {
   "cell_type": "markdown",
   "source": [
    "## Permutation & Random Sampling"
   ],
   "metadata": {
    "collapsed": false
   }
  },
  {
   "cell_type": "code",
   "execution_count": null,
   "outputs": [],
   "source": [
    "df = pandas.DataFrame(np.arange(5 * 4).reshape((5, 4)))\n",
    "sampler = np.random.permutation(5)\n",
    "o = [\n",
    "        \n",
    "]\n",
    "o"
   ],
   "metadata": {
    "collapsed": false,
    "pycharm": {
     "name": "#%%\n"
    }
   }
  },
  {
   "cell_type": "markdown",
   "source": [
    "## Computing Indicator/Dummy Variables"
   ],
   "metadata": {
    "collapsed": false
   }
  },
  {
   "cell_type": "code",
   "execution_count": null,
   "outputs": [],
   "source": [
    "#"
   ],
   "metadata": {
    "collapsed": false,
    "pycharm": {
     "name": "#%%\n"
    }
   }
  },
  {
   "cell_type": "markdown",
   "source": [
    "# String Manipulation\n",
    "## String Object Methods"
   ],
   "metadata": {
    "collapsed": false
   }
  },
  {
   "cell_type": "code",
   "execution_count": null,
   "outputs": [],
   "source": [
    "#"
   ],
   "metadata": {
    "collapsed": false,
    "pycharm": {
     "name": "#%%\n"
    }
   }
  },
  {
   "cell_type": "markdown",
   "source": [
    "## Regular Expressions"
   ],
   "metadata": {
    "collapsed": false
   }
  },
  {
   "cell_type": "code",
   "execution_count": null,
   "outputs": [],
   "source": [
    "#"
   ],
   "metadata": {
    "collapsed": false,
    "pycharm": {
     "name": "#%%\n"
    }
   }
  },
  {
   "cell_type": "markdown",
   "source": [
    "## Vectorized String Functions in pandas"
   ],
   "metadata": {
    "collapsed": false
   }
  },
  {
   "cell_type": "code",
   "execution_count": null,
   "outputs": [],
   "source": [
    "#"
   ],
   "metadata": {
    "collapsed": false,
    "pycharm": {
     "name": "#%%\n"
    }
   }
  },
  {
   "cell_type": "markdown",
   "source": [
    "##"
   ],
   "metadata": {
    "collapsed": false
   }
  }
 ],
 "metadata": {
  "kernelspec": {
   "display_name": "Python 3",
   "language": "python",
   "name": "python3"
  },
  "language_info": {
   "codemirror_mode": {
    "name": "ipython",
    "version": 2
   },
   "file_extension": ".py",
   "mimetype": "text/x-python",
   "name": "python",
   "nbconvert_exporter": "python",
   "pygments_lexer": "ipython2",
   "version": "2.7.6"
  }
 },
 "nbformat": 4,
 "nbformat_minor": 0
}