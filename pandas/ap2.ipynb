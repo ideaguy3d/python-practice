{
 "cells": [
  {
   "cell_type": "markdown",
   "source": [
    "# Handling Missing Data"
   ],
   "metadata": {
    "collapsed": false,
    "pycharm": {
     "name": "#%% md\n"
    }
   }
  },
  {
   "cell_type": "code",
   "execution_count": 2,
   "outputs": [
    {
     "data": {
      "text/plain": "0    False\n1    False\n2     True\n3    False\ndtype: bool"
     },
     "execution_count": 2,
     "metadata": {},
     "output_type": "execute_result"
    }
   ],
   "source": [
    "import pandas\n",
    "import numpy as np\n",
    "from numpy import nan as NA\n",
    "\n",
    "string_data = pandas.Series(['aardvark', 'artichoke', np.nan, 'avocado'])\n",
    "# .isnull() will return a boolean array\n",
    "string_data.isnull()"
   ],
   "metadata": {
    "collapsed": false,
    "pycharm": {
     "name": "#%%\n"
    }
   }
  },
  {
   "cell_type": "markdown",
   "source": [
    "## Filtering Out Missing Data & Filling in Missing Data"
   ],
   "metadata": {
    "collapsed": false,
    "pycharm": {
     "name": "#%% md\n"
    }
   }
  },
  {
   "cell_type": "code",
   "execution_count": 3,
   "outputs": [
    {
     "data": {
      "text/plain": "[0    1.0\n 2    3.5\n 4    7.0\n dtype: float64,\n '',\n 0     True\n 1    False\n 2     True\n 3    False\n 4     True\n dtype: bool,\n '',\n 0    1.0\n 2    3.5\n 4    7.0\n dtype: float64,\n '',\n '']"
     },
     "execution_count": 3,
     "metadata": {},
     "output_type": "execute_result"
    }
   ],
   "source": [
    "# Series\n",
    "data = pandas.Series([1, NA, 3.5, NA, 7])\n",
    "clean = [\n",
    "    data.dropna(), '',\n",
    "    data.notnull(), '',\n",
    "    #'data[data.notnull()]',\n",
    "    data[data.notnull()], '',''\n",
    "]\n",
    "clean"
   ],
   "metadata": {
    "collapsed": false,
    "pycharm": {
     "name": "#%%\n"
    }
   }
  },
  {
   "cell_type": "code",
   "execution_count": 4,
   "outputs": [
    {
     "data": {
      "text/plain": "[     0    1    2\n 0  1.0  6.5  3.0\n 1  1.0  NaN  NaN\n 2  NaN  NaN  NaN\n 3  NaN  6.5  3.0,\n '',\n '',\n      0    1    2\n 0  1.0  6.5  3.0,\n '',\n 'data.dropna(how=\"all\")',\n      0    1    2\n 0  1.0  6.5  3.0\n 1  1.0  NaN  NaN\n 3  NaN  6.5  3.0,\n '',\n 'df',\n           0         1         2\n 0 -0.872606       NaN       NaN\n 1 -0.483353       NaN       NaN\n 2  0.684414       NaN  0.814573\n 3 -0.065617       NaN  0.532207\n 4 -0.559647 -0.085671 -0.594866\n 5 -1.353506  0.460475  0.601185\n 6 -1.697671 -0.536230  0.419726\n 7 -0.382343  0.443254  0.973331,\n '',\n 'df.dropna(thresh=\"2\")',\n           0         1         2\n 2  0.684414       NaN  0.814573\n 3 -0.065617       NaN  0.532207\n 4 -0.559647 -0.085671 -0.594866\n 5 -1.353506  0.460475  0.601185\n 6 -1.697671 -0.536230  0.419726\n 7 -0.382343  0.443254  0.973331,\n '',\n 'df.fillna(0)',\n           0         1         2\n 0 -0.872606  0.000000  0.000000\n 1 -0.483353  0.000000  0.000000\n 2  0.684414  0.000000  0.814573\n 3 -0.065617  0.000000  0.532207\n 4 -0.559647 -0.085671 -0.594866\n 5 -1.353506  0.460475  0.601185\n 6 -1.697671 -0.536230  0.419726\n 7 -0.382343  0.443254  0.973331,\n '',\n 'df.fillna({1:0.5, 2:0}',\n           0         1         2\n 0 -0.872606  0.500000  0.000000\n 1 -0.483353  0.500000  0.000000\n 2  0.684414  0.500000  0.814573\n 3 -0.065617  0.500000  0.532207\n 4 -0.559647 -0.085671 -0.594866\n 5 -1.353506  0.460475  0.601185\n 6 -1.697671 -0.536230  0.419726\n 7 -0.382343  0.443254  0.973331,\n '',\n '.fillna(data2.mean())',\n           0         1         2\n 0 -0.872606  5.333333  5.333333\n 1 -0.483353  5.333333  5.333333\n 2  0.684414  5.333333  0.814573\n 3 -0.065617  5.333333  0.532207\n 4 -0.559647 -0.085671 -0.594866\n 5 -1.353506  0.460475  0.601185\n 6 -1.697671 -0.536230  0.419726\n 7 -0.382343  0.443254  0.973331]"
     },
     "execution_count": 4,
     "metadata": {},
     "output_type": "execute_result"
    }
   ],
   "source": [
    "# DataFrame's\n",
    "data = pandas.DataFrame([[1., 6.5, 3.], [1., NA, NA], [NA, NA, NA], [NA, 6.5, 3.]])\n",
    "data2 = pandas.Series([1., NA, 5, NA, 10])\n",
    "df = pandas.DataFrame(np.random.randn(8,3))\n",
    "df.iloc[:4, 1] = NA\n",
    "df.iloc[:2, 2] = NA\n",
    "clean = [\n",
    "    data, '','',\n",
    "    data.dropna(), '','data.dropna(how=\"all\")',\n",
    "    data.dropna(how='all'), '','df',\n",
    "    df, '','df.dropna(thresh=\"2\")',\n",
    "    df.dropna(thresh=2), '','df.fillna(0)',\n",
    "    df.fillna(0), '','df.fillna({1:0.5, 2:0}',\n",
    "    df.fillna({1:0.5, 2:0}), '','.fillna(data2.mean())',\n",
    "    df.fillna(data2.mean())\n",
    "]\n",
    "clean"
   ],
   "metadata": {
    "collapsed": false,
    "pycharm": {
     "name": "#%%\n"
    }
   }
  },
  {
   "cell_type": "markdown",
   "source": [
    "# Data Transformations\n",
    "## Removing Dupes"
   ],
   "metadata": {
    "collapsed": false,
    "pycharm": {
     "name": "#%% md\n"
    }
   }
  },
  {
   "cell_type": "code",
   "execution_count": 5,
   "outputs": [
    {
     "data": {
      "text/plain": "[    k1  k2  v1\n 0  one   1   0\n 1  two   1   1\n 2  one   2   2\n 3  two   3   3\n 4  one   3   4\n 5  two   4   5\n 6  two   4   6,\n '',\n 'data.duplicated()',\n 0    False\n 1    False\n 2    False\n 3    False\n 4    False\n 5    False\n 6    False\n dtype: bool,\n '',\n 'data.drop_duplicate()',\n     k1  k2  v1\n 0  one   1   0\n 1  two   1   1\n 2  one   2   2\n 3  two   3   3\n 4  one   3   4\n 5  two   4   5\n 6  two   4   6,\n '',\n '',\n     k1  k2  v1\n 0  one   1   0\n 1  two   1   1,\n '',\n '',\n     k1  k2  v1\n 0  one   1   0\n 1  two   1   1\n 2  one   2   2\n 3  two   3   3\n 4  one   3   4\n 6  two   4   6]"
     },
     "execution_count": 5,
     "metadata": {},
     "output_type": "execute_result"
    }
   ],
   "source": [
    "data = pandas.DataFrame({'k1': ['one', 'two'] * 3 + ['two'], 'k2': [1, 1, 2, 3, 3, 4, 4]})\n",
    "data['v1'] = range(7)\n",
    "v = [\n",
    "    data, '','data.duplicated()',\n",
    "    data.duplicated(), '','data.drop_duplicate()',\n",
    "    data.drop_duplicates(), '','',\n",
    "    data.drop_duplicates(['k1']), '','',\n",
    "    data.drop_duplicates(['k1', 'k2'], keep='last')\n",
    "]\n",
    "v"
   ],
   "metadata": {
    "collapsed": false,
    "pycharm": {
     "name": "#%%\n"
    }
   }
  },
  {
   "cell_type": "markdown",
   "source": [
    "## Transforming Data Using Functions"
   ],
   "metadata": {
    "collapsed": false,
    "pycharm": {
     "name": "#%% md\n"
    }
   }
  },
  {
   "cell_type": "code",
   "execution_count": 6,
   "outputs": [
    {
     "data": {
      "text/plain": "[          food  ounces  animal\n 0        bacon     4.0     pig\n 1  pulled pork     3.0     pig\n 2        bacon    12.0     pig\n 3     Pastrami     6.0     cow\n 4  corned beef     7.5     cow\n 5        Bacon     8.0     pig\n 6     pastrami     3.0     cow\n 7    honey ham     5.0     pig\n 8     nova lox     6.0  salmon,\n '',\n '',\n 0          bacon\n 1    pulled pork\n 2          bacon\n 3       Pastrami\n 4    corned beef\n 5          Bacon\n 6       pastrami\n 7      honey ham\n 8       nova lox\n Name: food, dtype: object,\n '',\n 'lower_lambda',\n 0       pig\n 1       pig\n 2       pig\n 3       cow\n 4       cow\n 5       pig\n 6       cow\n 7       pig\n 8    salmon\n Name: food, dtype: object]"
     },
     "execution_count": 6,
     "metadata": {},
     "output_type": "execute_result"
    }
   ],
   "source": [
    "data = pandas.DataFrame(\n",
    "    {'food': ['bacon', 'pulled pork', 'bacon', 'Pastrami', 'corned beef', 'Bacon', 'pastrami', 'honey ham', 'nova lox'],\n",
    "     'ounces': [4, 3, 12, 6, 7.5, 8, 3, 5, 6]}\n",
    ")\n",
    "meat_to_animal = {\n",
    "    'bacon': 'pig',\n",
    "    'pulled pork': 'pig',\n",
    "    'pastrami': 'cow',\n",
    "    'corned beef': 'cow',\n",
    "    'honey ham': 'pig',\n",
    "    'nova lox': 'salmon'\n",
    "}\n",
    "lowercased = data['food'].str.lower()\n",
    "data['animal'] = lowercased.map(meat_to_animal)\n",
    "lowercase_lambda = data['food'].map(lambda x: meat_to_animal[x.lower()])\n",
    "o = [\n",
    "    data, '','',\n",
    "    data['food'], '','lower_lambda',\n",
    "    lowercase_lambda\n",
    "]\n",
    "o"
   ],
   "metadata": {
    "collapsed": false,
    "pycharm": {
     "name": "#%%\n"
    }
   }
  },
  {
   "cell_type": "markdown",
   "source": [
    "## Replacing Values"
   ],
   "metadata": {
    "collapsed": false
   }
  },
  {
   "cell_type": "code",
   "execution_count": 7,
   "outputs": [
    {
     "data": {
      "text/plain": "[0       1.0\n 1       NaN\n 2       2.0\n 3       NaN\n 4   -1000.0\n 5       3.0\n dtype: float64,\n '',\n '',\n 0    1.0\n 1    NaN\n 2    2.0\n 3    NaN\n 4    NaN\n 5    3.0\n dtype: float64,\n '',\n '',\n 0    1.0\n 1    NaN\n 2    2.0\n 3    NaN\n 4    0.0\n 5    3.0\n dtype: float64]"
     },
     "execution_count": 7,
     "metadata": {},
     "output_type": "execute_result"
    }
   ],
   "source": [
    "data = pandas.Series([1., -999., 2., -999., -1000., 3.])\n",
    "o = [\n",
    "    data.replace(-999, np.nan), '','',\n",
    "    data.replace([-999, -1000], np.nan), '','',\n",
    "    data.replace({-999: np.nan, -1000: 0})\n",
    "]\n",
    "o"
   ],
   "metadata": {
    "collapsed": false,
    "pycharm": {
     "name": "#%%\n"
    }
   }
  },
  {
   "cell_type": "markdown",
   "source": [
    "## Renaming Axis Indexes"
   ],
   "metadata": {
    "collapsed": false
   }
  },
  {
   "cell_type": "code",
   "execution_count": 8,
   "outputs": [
    {
     "data": {
      "text/plain": "[Index(['OHIO', 'COLO', 'NEW '], dtype='object'),\n '',\n '',\n       one  two  three  four\n OHIO    0    1      2     3\n COLO    4    5      6     7\n NEW     8    9     10    11,\n '',\n 'data.rename(index=str.title, column=str.upper)',\n       ONE  TWO  THREE  FOUR\n Ohio    0    1      2     3\n Colo    4    5      6     7\n New     8    9     10    11,\n '',\n 'data.rename(index={\"NEW \": \"TEXAS\"}, columns: {\"three\":\"foobar\"})',\n        one  two  foobar  four\n OHIO     0    1       2     3\n COLO     4    5       6     7\n TEXAS    8    9      10    11]"
     },
     "execution_count": 8,
     "metadata": {},
     "output_type": "execute_result"
    }
   ],
   "source": [
    "data = pandas.DataFrame(np.arange(12).reshape((3, 4)),\n",
    "                        index=['Ohio', 'Colorado', 'New York'],\n",
    "                        columns=['one', 'two', 'three', 'four'])\n",
    "transform = lambda x: x[:4].upper()\n",
    "data.index = data.index.map(transform)\n",
    "o = [\n",
    "    data.index.map(transform), '','',\n",
    "    data, '','data.rename(index=str.title, column=str.upper)',\n",
    "    data.rename(index=str.title, columns=str.upper), '','data.rename(index={\"NEW \": \"TEXAS\"}, columns: {\"three\":\"foobar\"})',\n",
    "    data.rename(index={'NEW ': 'TEXAS'}, columns={'three': 'foobar'})\n",
    "]\n",
    "o"
   ],
   "metadata": {
    "collapsed": false,
    "pycharm": {
     "name": "#%%\n"
    }
   }
  },
  {
   "cell_type": "markdown",
   "source": [
    "## Discretization & Binning"
   ],
   "metadata": {
    "collapsed": false
   }
  },
  {
   "cell_type": "code",
   "execution_count": 9,
   "outputs": [
    {
     "data": {
      "text/plain": "['categories',\n [(18, 25], (18, 25], (18, 25], (25, 35], (18, 25], ..., (25, 35], (60, 100], (35, 60], (35, 60], (25, 35]]\n Length: 12\n Categories (4, interval[int64]): [(18, 25] < (25, 35] < (35, 60] < (60, 100]],\n '',\n '.code',\n array([0, 0, 0, 1, 0, 0, 2, 1, 3, 2, 2, 1], dtype=int8),\n '',\n '.categories',\n IntervalIndex([(18, 25], (25, 35], (35, 60], (60, 100]],\n               closed='right',\n               dtype='interval[int64]'),\n '',\n 'pandas.value_counts(cats)',\n (18, 25]     5\n (25, 35]     3\n (35, 60]     3\n (60, 100]    1\n dtype: int64,\n '',\n 'pandas.cut(ages, bins, labels=group_names)',\n ['Youth', 'Youth', 'Youth', 'YoungAdult', 'Youth', ..., 'YoungAdult', 'Senior', 'MiddleAged', 'MiddleAged', 'YoungAdult']\n Length: 12\n Categories (4, object): ['Youth' < 'YoungAdult' < 'MiddleAged' < 'Senior'],\n '',\n 'data',\n array([ 1,  2,  3,  4,  5,  6,  7,  8,  9, 10, 11, 12, 13, 14, 15, 16]),\n '',\n 'pandas.cut(data, 4)',\n [(1.0, 4.8], (1.0, 4.8], (1.0, 4.8], (1.0, 4.8], (4.8, 8.5], ..., (8.5, 12.2], (12.2, 16.0], (12.2, 16.0], (12.2, 16.0], (12.2, 16.0]]\n Length: 16\n Categories (4, interval[float64]): [(1.0, 4.8] < (4.8, 8.5] < (8.5, 12.2] < (12.2, 16.0]],\n '',\n '',\n [(-3.04, -0.676], (-0.676, 0.0122], (-3.04, -0.676], (0.687, 2.947], (0.687, 2.947], ..., (-3.04, -0.676], (-0.676, 0.0122], (-3.04, -0.676], (0.0122, 0.687], (-0.676, 0.0122]]\n Length: 1600\n Categories (4, interval[float64]): [(-3.04, -0.676] < (-0.676, 0.0122] < (0.0122, 0.687] < (0.687, 2.947]],\n '',\n '',\n (-2.984, -0.743]     250\n (-0.743, -0.0163]    250\n (-0.0163, 0.662]     250\n (0.662, 3.816]       250\n dtype: int64,\n '',\n '']"
     },
     "execution_count": 9,
     "metadata": {},
     "output_type": "execute_result"
    }
   ],
   "source": [
    "ages = [20, 22, 25, 27, 21, 23, 37, 31, 61, 45, 41, 32]\n",
    "bins = [18, 25, 35, 60, 100]\n",
    "# .cut() actually does the discretization\n",
    "cats = pandas.cut(ages, bins)\n",
    "group_names = ['Youth', 'YoungAdult', 'MiddleAged', 'Senior']\n",
    "name_cats = pandas.cut(ages, bins, labels=group_names)\n",
    "data = np.arange(16) + 1\n",
    "discretize = [\n",
    "    'categories',\n",
    "    cats, '','.code',\n",
    "    cats.codes, '','.categories',\n",
    "    cats.categories, '','pandas.value_counts(cats)',\n",
    "    pandas.value_counts(cats), '','pandas.cut(ages, bins, labels=group_names)',\n",
    "    name_cats, '', 'data',\n",
    "    data, '','pandas.cut(data, 4)',\n",
    "    pandas.cut(data, 4, precision=1), '','',\n",
    "    pandas.qcut(np.random.randn(1600), 4), '','',\n",
    "    pandas.value_counts(pandas.qcut(np.random.randn(1000), 4)), '','',\n",
    "    #pandas.qcut(data, [1,4,8,12,16])\n",
    "]\n",
    "discretize"
   ],
   "metadata": {
    "collapsed": false,
    "pycharm": {
     "name": "#%%\n"
    }
   }
  },
  {
   "cell_type": "markdown",
   "source": [
    "## Detecting & Filtering Outliers"
   ],
   "metadata": {
    "collapsed": false
   }
  },
  {
   "cell_type": "code",
   "execution_count": 10,
   "outputs": [
    {
     "data": {
      "text/plain": "['data.describe()',\n                  0            1            2            3\n count  1000.000000  1000.000000  1000.000000  1000.000000\n mean      0.004901    -0.004986    -0.042917    -0.024211\n std       1.015553     0.977183     0.994862     0.973795\n min      -3.000000    -2.825738    -3.000000    -3.000000\n 25%      -0.673988    -0.645208    -0.676057    -0.669358\n 50%       0.033830    -0.006873     0.006813    -0.027704\n 75%       0.695905     0.637040     0.617594     0.574886\n max       3.000000     2.933857     2.904150     3.000000,\n '',\n 'col[np.abs(col) > 3]',\n Series([], Name: 2, dtype: float64),\n '',\n '',\n Empty DataFrame\n Columns: [0, 1, 2, 3]\n Index: [],\n '',\n '']"
     },
     "execution_count": 10,
     "metadata": {},
     "output_type": "execute_result"
    }
   ],
   "source": [
    "data = pandas.DataFrame(np.random.randn(1000, 4))\n",
    "col = data[2]\n",
    "# cap data from -3 to 3\n",
    "data[np.abs(data) > 3] = np.sign(data) * 3\n",
    "o = [\n",
    "   'data.describe()',\n",
    "    data.describe(), '','col[np.abs(col) > 3]',\n",
    "    col[np.abs(col) > 3], '','',\n",
    "    data[(np.abs(data) > 3).any(1)], '','',\n",
    "\n",
    "]\n",
    "o"
   ],
   "metadata": {
    "collapsed": false,
    "pycharm": {
     "name": "#%%\n"
    }
   }
  },
  {
   "cell_type": "markdown",
   "source": [
    "## Permutation & Random Sampling"
   ],
   "metadata": {
    "collapsed": false
   }
  },
  {
   "cell_type": "code",
   "execution_count": 11,
   "outputs": [
    {
     "data": {
      "text/plain": "[    0   1   2   3\n 0   0   1   2   3\n 2   8   9  10  11\n 4  16  17  18  19\n 3  12  13  14  15\n 1   4   5   6   7,\n '',\n '',\n     0   1   2   3\n 0   0   1   2   3\n 1   4   5   6   7\n 3  12  13  14  15,\n '',\n '',\n 0    5\n 0    5\n 0    5\n 2   -1\n 4    4\n 2   -1\n 3    6\n 4    4\n 3    6\n 2   -1\n dtype: int64,\n '',\n '']"
     },
     "execution_count": 11,
     "metadata": {},
     "output_type": "execute_result"
    }
   ],
   "source": [
    "# .permutation(), .take(), .sample()\n",
    "df = pandas.DataFrame(np.arange(5 * 4).reshape((5, 4)))\n",
    "sampler = np.random.permutation(5)\n",
    "choices = pandas.Series([5, 7, -1, 6, 4])\n",
    "draws = choices.sample(n=10, replace=True)\n",
    "o = [\n",
    "    df.take(sampler), '','',\n",
    "    # select a random subset\n",
    "    df.sample(3), '','',\n",
    "    draws, '','',\n",
    "]\n",
    "o"
   ],
   "metadata": {
    "collapsed": false,
    "pycharm": {
     "name": "#%%\n"
    }
   }
  },
  {
   "cell_type": "markdown",
   "source": [
    "## Computing Indicator/Dummy Variables"
   ],
   "metadata": {
    "collapsed": false
   }
  },
  {
   "cell_type": "code",
   "execution_count": 12,
   "outputs": [
    {
     "data": {
      "text/plain": "[  key  data1\n 0   b      0\n 1   b      1\n 2   a      2\n 3   c      3\n 4   a      4\n 5   b      5,\n '',\n '',\n    a  b  c\n 0  0  1  0\n 1  0  1  0\n 2  1  0  0\n 3  0  0  1\n 4  1  0  0\n 5  0  1  0,\n '',\n '',\n    key_a  key_b  key_c\n 0      0      1      0\n 1      0      1      0\n 2      1      0      0\n 3      0      0      1\n 4      1      0      0\n 5      0      1      0,\n '',\n 'df[\"data1\"]',\n 0    0\n 1    1\n 2    2\n 3    3\n 4    4\n 5    5\n Name: data1, dtype: int64,\n '',\n \"df[['data1']]\",\n    data1\n 0      0\n 1      1\n 2      2\n 3      3\n 4      4\n 5      5,\n '',\n '.join(dummies)',\n    data1  key_a  key_b  key_c\n 0      0      0      1      0\n 1      1      0      1      0\n 2      2      1      0      0\n 3      3      0      0      1\n 4      4      1      0      0\n 5      5      0      1      0]"
     },
     "execution_count": 12,
     "metadata": {},
     "output_type": "execute_result"
    }
   ],
   "source": [
    "#\n",
    "df = pandas.DataFrame({'key': ['b', 'b', 'a', 'c', 'a', 'b'], 'data1': range(6)})\n",
    "dummies = pandas.get_dummies(df['key'], prefix='key')\n",
    "o = [\n",
    "    df, '','',\n",
    "    pandas.get_dummies(df['key']), '','',\n",
    "    dummies, '','df[\"data1\"]',\n",
    "    df['data1'], '',\"df[['data1']]\",\n",
    "    df[['data1']], '','.join(dummies)',\n",
    "    df[['data1']].join(dummies)\n",
    "]\n",
    "o"
   ],
   "metadata": {
    "collapsed": false,
    "pycharm": {
     "name": "#%%\n"
    }
   }
  },
  {
   "cell_type": "markdown",
   "source": [
    "## Vectorized String Functions in pandas"
   ],
   "metadata": {
    "collapsed": false
   }
  },
  {
   "cell_type": "code",
   "execution_count": 13,
   "outputs": [
    {
     "data": {
      "text/plain": "[Dave     dave@google.com\n Steve    steve@gmail.com\n Rob        rob@gmail.com\n Wes                  NaN\n dtype: object,\n '',\n '',\n Dave     False\n Steve    False\n Rob      False\n Wes       True\n dtype: bool,\n '',\n '',\n Dave     False\n Steve     True\n Rob       True\n Wes        NaN\n dtype: object,\n '',\n '',\n Dave     [(dave, google, com)]\n Steve    [(steve, gmail, com)]\n Rob        [(rob, gmail, com)]\n Wes                        NaN\n dtype: object,\n '',\n '',\n Dave      True\n Steve     True\n Rob       True\n Wes      False\n dtype: bool,\n '',\n 'data[matches]',\n Dave     dave@google.com\n Steve    steve@gmail.com\n Rob        rob@gmail.com\n dtype: object,\n '',\n 'data.str[:5]',\n Dave     dave@\n Steve    steve\n Rob      rob@g\n Wes        NaN\n dtype: object,\n '',\n '']"
     },
     "execution_count": 13,
     "metadata": {},
     "output_type": "execute_result"
    }
   ],
   "source": [
    "import re\n",
    "#\n",
    "data = {'Dave': 'dave@google.com', 'Steve': 'steve@gmail.com', 'Rob': 'rob@gmail.com', 'Wes': np.nan}\n",
    "data = pandas.Series(data)\n",
    "pattern = '([A-Z0-9._%+-]+)@([A-Z0-9.-]+)\\\\.([A-Z]{2,4})'\n",
    "matches = data.str.match(pattern, flags=re.IGNORECASE).fillna(False)\n",
    "o = [\n",
    "    data, '','',\n",
    "    data.isnull(), '','',\n",
    "    data.str.contains('gmail'), '','',\n",
    "    data.str.findall(pattern, flags=re.IGNORECASE), '','',\n",
    "    matches, '','data[matches]',\n",
    "    data[matches], '','data.str[:5]',\n",
    "    data.str[:5], '',''\n",
    "]\n",
    "o"
   ],
   "metadata": {
    "collapsed": false,
    "pycharm": {
     "name": "#%%\n"
    }
   }
  },
  {
   "cell_type": "markdown",
   "source": [
    "##"
   ],
   "metadata": {
    "collapsed": false
   }
  }
 ],
 "metadata": {
  "kernelspec": {
   "display_name": "Python 3",
   "language": "python",
   "name": "python3"
  },
  "language_info": {
   "codemirror_mode": {
    "name": "ipython",
    "version": 2
   },
   "file_extension": ".py",
   "mimetype": "text/x-python",
   "name": "python",
   "nbconvert_exporter": "python",
   "pygments_lexer": "ipython2",
   "version": "2.7.6"
  }
 },
 "nbformat": 4,
 "nbformat_minor": 0
}