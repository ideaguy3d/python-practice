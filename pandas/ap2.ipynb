{
 "cells": [
  {
   "cell_type": "markdown",
   "source": [
    "# Handling Missing Data"
   ],
   "metadata": {
    "collapsed": false,
    "pycharm": {
     "name": "#%% md\n"
    }
   }
  },
  {
   "cell_type": "code",
   "execution_count": 3,
   "outputs": [
    {
     "data": {
      "text/plain": "0    False\n1    False\n2     True\n3    False\ndtype: bool"
     },
     "execution_count": 3,
     "metadata": {},
     "output_type": "execute_result"
    }
   ],
   "source": [
    "import pandas\n",
    "import numpy as np\n",
    "from numpy import nan as NA\n",
    "\n",
    "string_data = pandas.Series(['aardvark', 'artichoke', np.nan, 'avocado'])\n",
    "# .isnull() will return a boolean array\n",
    "string_data.isnull()"
   ],
   "metadata": {
    "collapsed": false,
    "pycharm": {
     "name": "#%%\n"
    }
   }
  },
  {
   "cell_type": "markdown",
   "source": [
    "## Filtering Out Missing Data & Filling in Missing Data"
   ],
   "metadata": {
    "collapsed": false,
    "pycharm": {
     "name": "#%% md\n"
    }
   }
  },
  {
   "cell_type": "code",
   "execution_count": 7,
   "outputs": [
    {
     "data": {
      "text/plain": "[0    1.0\n 2    3.5\n 4    7.0\n dtype: float64,\n '',\n 'data[data.notnull()]',\n 0    1.0\n 2    3.5\n 4    7.0\n dtype: float64,\n '',\n '']"
     },
     "execution_count": 7,
     "metadata": {},
     "output_type": "execute_result"
    }
   ],
   "source": [
    "# Series\n",
    "data = pandas.Series([1, NA, 3.5, NA, 7])\n",
    "clean = [\n",
    "    data.dropna(), '','data[data.notnull()]',\n",
    "    data[data.notnull()], '',''\n",
    "]\n",
    "clean"
   ],
   "metadata": {
    "collapsed": false,
    "pycharm": {
     "name": "#%%\n"
    }
   }
  },
  {
   "cell_type": "code",
   "execution_count": 17,
   "outputs": [
    {
     "data": {
      "text/plain": "[     0    1    2\n 0  1.0  6.5  3.0\n 1  1.0  NaN  NaN\n 2  NaN  NaN  NaN\n 3  NaN  6.5  3.0,\n '',\n '',\n      0    1    2\n 0  1.0  6.5  3.0,\n '',\n 'data.dropna(how=\"all\")',\n      0    1    2\n 0  1.0  6.5  3.0\n 1  1.0  NaN  NaN\n 3  NaN  6.5  3.0,\n '',\n 'df',\n           0         1         2\n 0 -0.791521       NaN       NaN\n 1 -0.269018       NaN       NaN\n 2 -0.469925       NaN  1.772218\n 3  0.397856       NaN -0.042834\n 4  0.918176  0.428277 -0.639774\n 5 -1.191737  2.444555  0.108843\n 6  0.166983  0.932011 -2.659369\n 7  0.008653  1.319615 -0.197740,\n '',\n 'df.dropna(thresh=\"2\")',\n           0         1         2\n 2 -0.469925       NaN  1.772218\n 3  0.397856       NaN -0.042834\n 4  0.918176  0.428277 -0.639774\n 5 -1.191737  2.444555  0.108843\n 6  0.166983  0.932011 -2.659369\n 7  0.008653  1.319615 -0.197740,\n '',\n 'df.fillna(0)',\n           0         1         2\n 0 -0.791521  0.000000  0.000000\n 1 -0.269018  0.000000  0.000000\n 2 -0.469925  0.000000  1.772218\n 3  0.397856  0.000000 -0.042834\n 4  0.918176  0.428277 -0.639774\n 5 -1.191737  2.444555  0.108843\n 6  0.166983  0.932011 -2.659369\n 7  0.008653  1.319615 -0.197740,\n '',\n 'df.fillna({1:0.5, 2:0}',\n           0         1         2\n 0 -0.791521  0.500000  0.000000\n 1 -0.269018  0.500000  0.000000\n 2 -0.469925  0.500000  1.772218\n 3  0.397856  0.500000 -0.042834\n 4  0.918176  0.428277 -0.639774\n 5 -1.191737  2.444555  0.108843\n 6  0.166983  0.932011 -2.659369\n 7  0.008653  1.319615 -0.197740,\n '',\n '.fillna(data2.mean())',\n           0         1         2\n 0 -0.791521  5.333333  5.333333\n 1 -0.269018  5.333333  5.333333\n 2 -0.469925  5.333333  1.772218\n 3  0.397856  5.333333 -0.042834\n 4  0.918176  0.428277 -0.639774\n 5 -1.191737  2.444555  0.108843\n 6  0.166983  0.932011 -2.659369\n 7  0.008653  1.319615 -0.197740]"
     },
     "execution_count": 17,
     "metadata": {},
     "output_type": "execute_result"
    }
   ],
   "source": [
    "# DataFrame's\n",
    "data = pandas.DataFrame([[1., 6.5, 3.], [1., NA, NA], [NA, NA, NA], [NA, 6.5, 3.]])\n",
    "data2 = pandas.Series([1., NA, 5, NA, 10])\n",
    "df = pandas.DataFrame(np.random.randn(8,3))\n",
    "df.iloc[:4, 1] = NA\n",
    "df.iloc[:2, 2] = NA\n",
    "clean = [\n",
    "    data, '','',\n",
    "    data.dropna(), '','data.dropna(how=\"all\")',\n",
    "    data.dropna(how='all'), '','df',\n",
    "    df, '','df.dropna(thresh=\"2\")',\n",
    "    df.dropna(thresh=2), '','df.fillna(0)',\n",
    "    df.fillna(0), '','df.fillna({1:0.5, 2:0}',\n",
    "    df.fillna({1:0.5, 2:0}), '','.fillna(data2.mean())',\n",
    "    df.fillna(data2.mean())\n",
    "]\n",
    "clean"
   ],
   "metadata": {
    "collapsed": false,
    "pycharm": {
     "name": "#%%\n"
    }
   }
  },
  {
   "cell_type": "markdown",
   "source": [
    "# Data Transformations\n",
    "## Removing Dupes "
   ],
   "metadata": {
    "collapsed": false,
    "pycharm": {
     "name": "#%% md\n"
    }
   }
  },
  {
   "cell_type": "code",
   "execution_count": 19,
   "outputs": [],
   "source": [
    "#"
   ],
   "metadata": {
    "collapsed": false,
    "pycharm": {
     "name": "#%%\n"
    }
   }
  },
  {
   "cell_type": "markdown",
   "source": [
    "##"
   ],
   "metadata": {
    "collapsed": false,
    "pycharm": {
     "name": "#%% md\n"
    }
   }
  }
 ],
 "metadata": {
  "kernelspec": {
   "display_name": "Python 3",
   "language": "python",
   "name": "python3"
  },
  "language_info": {
   "codemirror_mode": {
    "name": "ipython",
    "version": 2
   },
   "file_extension": ".py",
   "mimetype": "text/x-python",
   "name": "python",
   "nbconvert_exporter": "python",
   "pygments_lexer": "ipython2",
   "version": "2.7.6"
  }
 },
 "nbformat": 4,
 "nbformat_minor": 0
}