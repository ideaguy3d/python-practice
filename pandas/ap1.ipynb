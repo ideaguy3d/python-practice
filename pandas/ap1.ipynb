{
 "cells": [
  {
   "cell_type": "code",
   "execution_count": 2,
   "metadata": {},
   "outputs": [
    {
     "name": "stdout",
     "output_type": "stream",
     "text": [
      "35000 \n",
      "\n",
      "71000 \n",
      "\n",
      "16000 \n",
      "\n",
      "5000 \n",
      "\n"
     ]
    },
    {
     "data": {
      "text/plain": "Ohio      35000\nTexas     71000\nOregon    16000\nUtah       5000\ndtype: int64"
     },
     "execution_count": 2,
     "metadata": {},
     "output_type": "execute_result"
    }
   ],
   "source": [
    "import pandas\n",
    "import numpy as np\n",
    "import pprint\n",
    "\n",
    "pretty = pprint.PrettyPrinter(indent=4)\n",
    "\n",
    "obj2 = pandas.Series([4, 7, -5, 2], index=['a', 'b', 'c', 'd'])\n",
    "\n",
    "sdata = {'Ohio': 35000, 'Texas': 71000, 'Oregon': 16000, 'Utah': 5000}\n",
    "states = ['California', 'Ohio', 'Oregon', 'Texas']\n",
    "obj3 = pandas.Series(sdata)\n",
    "\n",
    "for elem in obj3:\n",
    "    print(elem, '\\n')\n",
    "\n",
    "obj3"
   ]
  },
  {
   "cell_type": "code",
   "execution_count": 3,
   "outputs": [
    {
     "data": {
      "text/plain": "       year   state  pop  debt\none    2000    Ohio  1.5    19\ntwo    2001    Ohio  1.7    19\nthree  2002    Ohio  3.6    19\nfour   2001  Nevada  2.4    19\nfive   2002  Nevada  2.9    19\nsix    2003  Nevada  3.2    19",
      "text/html": "<div>\n<style scoped>\n    .dataframe tbody tr th:only-of-type {\n        vertical-align: middle;\n    }\n\n    .dataframe tbody tr th {\n        vertical-align: top;\n    }\n\n    .dataframe thead th {\n        text-align: right;\n    }\n</style>\n<table border=\"1\" class=\"dataframe\">\n  <thead>\n    <tr style=\"text-align: right;\">\n      <th></th>\n      <th>year</th>\n      <th>state</th>\n      <th>pop</th>\n      <th>debt</th>\n    </tr>\n  </thead>\n  <tbody>\n    <tr>\n      <th>one</th>\n      <td>2000</td>\n      <td>Ohio</td>\n      <td>1.5</td>\n      <td>19</td>\n    </tr>\n    <tr>\n      <th>two</th>\n      <td>2001</td>\n      <td>Ohio</td>\n      <td>1.7</td>\n      <td>19</td>\n    </tr>\n    <tr>\n      <th>three</th>\n      <td>2002</td>\n      <td>Ohio</td>\n      <td>3.6</td>\n      <td>19</td>\n    </tr>\n    <tr>\n      <th>four</th>\n      <td>2001</td>\n      <td>Nevada</td>\n      <td>2.4</td>\n      <td>19</td>\n    </tr>\n    <tr>\n      <th>five</th>\n      <td>2002</td>\n      <td>Nevada</td>\n      <td>2.9</td>\n      <td>19</td>\n    </tr>\n    <tr>\n      <th>six</th>\n      <td>2003</td>\n      <td>Nevada</td>\n      <td>3.2</td>\n      <td>19</td>\n    </tr>\n  </tbody>\n</table>\n</div>"
     },
     "execution_count": 3,
     "metadata": {},
     "output_type": "execute_result"
    }
   ],
   "source": [
    "\n",
    "obj4 = pandas.Series(sdata, index=states)  # Utah is left out\n",
    "\n",
    "# print(obj2[['a', 'c']])\n",
    "# print(obj2[obj2 > 2])\n",
    "# print(pandas.isnull(obj4))\n",
    "# print(pandas.notnull(obj4))\n",
    "# print('\\n\\n')\n",
    "\n",
    "data = {'state': ['Ohio', 'Ohio', 'Ohio', 'Nevada', 'Nevada', 'Nevada'],\n",
    "        'year': [2000, 2001, 2002, 2001, 2002, 2003],\n",
    "        'pop': [1.5, 1.7, 3.6, 2.4, 2.9, 3.2]}\n",
    "new_column_order = ['year', 'state', 'pop']\n",
    "frame1 = pandas.DataFrame(data)\n",
    "frame2 = pandas.DataFrame(data, columns=['year', 'state', 'pop', 'debt'],\n",
    "                          index=['one', 'two', 'three', 'four', 'five', 'six'])\n",
    "# print(frame)\n",
    "# simple to swap columns\n",
    "frame = pandas.DataFrame(data, columns=new_column_order)\n",
    "# print(frame)\n",
    "states = frame['state']\n",
    "# print('\\nstates: \\n', states)\n",
    "# print('\\n', frame2)\n",
    "\n",
    "frame2['debt'] = 19\n",
    "frame2"
   ],
   "metadata": {
    "collapsed": false,
    "pycharm": {
     "name": "#%%\n"
    }
   }
  },
  {
   "cell_type": "code",
   "metadata": {
    "pycharm": {
     "name": "#%%\n"
    }
   },
   "source": [
    "frame2['debt'] = np.arange(6.)\n",
    "frame2"
   ],
   "execution_count": 4,
   "outputs": [
    {
     "data": {
      "text/plain": "       year   state  pop  debt\none    2000    Ohio  1.5   0.0\ntwo    2001    Ohio  1.7   1.0\nthree  2002    Ohio  3.6   2.0\nfour   2001  Nevada  2.4   3.0\nfive   2002  Nevada  2.9   4.0\nsix    2003  Nevada  3.2   5.0",
      "text/html": "<div>\n<style scoped>\n    .dataframe tbody tr th:only-of-type {\n        vertical-align: middle;\n    }\n\n    .dataframe tbody tr th {\n        vertical-align: top;\n    }\n\n    .dataframe thead th {\n        text-align: right;\n    }\n</style>\n<table border=\"1\" class=\"dataframe\">\n  <thead>\n    <tr style=\"text-align: right;\">\n      <th></th>\n      <th>year</th>\n      <th>state</th>\n      <th>pop</th>\n      <th>debt</th>\n    </tr>\n  </thead>\n  <tbody>\n    <tr>\n      <th>one</th>\n      <td>2000</td>\n      <td>Ohio</td>\n      <td>1.5</td>\n      <td>0.0</td>\n    </tr>\n    <tr>\n      <th>two</th>\n      <td>2001</td>\n      <td>Ohio</td>\n      <td>1.7</td>\n      <td>1.0</td>\n    </tr>\n    <tr>\n      <th>three</th>\n      <td>2002</td>\n      <td>Ohio</td>\n      <td>3.6</td>\n      <td>2.0</td>\n    </tr>\n    <tr>\n      <th>four</th>\n      <td>2001</td>\n      <td>Nevada</td>\n      <td>2.4</td>\n      <td>3.0</td>\n    </tr>\n    <tr>\n      <th>five</th>\n      <td>2002</td>\n      <td>Nevada</td>\n      <td>2.9</td>\n      <td>4.0</td>\n    </tr>\n    <tr>\n      <th>six</th>\n      <td>2003</td>\n      <td>Nevada</td>\n      <td>3.2</td>\n      <td>5.0</td>\n    </tr>\n  </tbody>\n</table>\n</div>"
     },
     "execution_count": 4,
     "metadata": {},
     "output_type": "execute_result"
    }
   ]
  },
  {
   "cell_type": "code",
   "execution_count": 5,
   "metadata": {
    "pycharm": {
     "name": "#%%\n"
    }
   },
   "outputs": [
    {
     "data": {
      "text/plain": "       year   state  pop  debt\none    2000    Ohio  1.5  -2.0\ntwo    2001    Ohio  1.7   NaN\nthree  2002    Ohio  3.6   NaN\nfour   2001  Nevada  2.4   5.0\nfive   2002  Nevada  2.9   NaN\nsix    2003  Nevada  3.2  77.0",
      "text/html": "<div>\n<style scoped>\n    .dataframe tbody tr th:only-of-type {\n        vertical-align: middle;\n    }\n\n    .dataframe tbody tr th {\n        vertical-align: top;\n    }\n\n    .dataframe thead th {\n        text-align: right;\n    }\n</style>\n<table border=\"1\" class=\"dataframe\">\n  <thead>\n    <tr style=\"text-align: right;\">\n      <th></th>\n      <th>year</th>\n      <th>state</th>\n      <th>pop</th>\n      <th>debt</th>\n    </tr>\n  </thead>\n  <tbody>\n    <tr>\n      <th>one</th>\n      <td>2000</td>\n      <td>Ohio</td>\n      <td>1.5</td>\n      <td>-2.0</td>\n    </tr>\n    <tr>\n      <th>two</th>\n      <td>2001</td>\n      <td>Ohio</td>\n      <td>1.7</td>\n      <td>NaN</td>\n    </tr>\n    <tr>\n      <th>three</th>\n      <td>2002</td>\n      <td>Ohio</td>\n      <td>3.6</td>\n      <td>NaN</td>\n    </tr>\n    <tr>\n      <th>four</th>\n      <td>2001</td>\n      <td>Nevada</td>\n      <td>2.4</td>\n      <td>5.0</td>\n    </tr>\n    <tr>\n      <th>five</th>\n      <td>2002</td>\n      <td>Nevada</td>\n      <td>2.9</td>\n      <td>NaN</td>\n    </tr>\n    <tr>\n      <th>six</th>\n      <td>2003</td>\n      <td>Nevada</td>\n      <td>3.2</td>\n      <td>77.0</td>\n    </tr>\n  </tbody>\n</table>\n</div>"
     },
     "execution_count": 5,
     "metadata": {},
     "output_type": "execute_result"
    }
   ],
   "source": [
    "v = pandas.Series([-2,5,77], index=['one', 'four', 'six'])\n",
    "frame2['debt'] = v\n",
    "frame2"
   ]
  },
  {
   "cell_type": "code",
   "execution_count": 6,
   "metadata": {
    "pycharm": {
     "name": "#%%\n"
    }
   },
   "outputs": [
    {
     "data": {
      "text/plain": "       year   state  pop  debt  eastern\none    2000    Ohio  1.5  -2.0     True\ntwo    2001    Ohio  1.7   NaN     True\nthree  2002    Ohio  3.6   NaN     True\nfour   2001  Nevada  2.4   5.0    False\nfive   2002  Nevada  2.9   NaN    False\nsix    2003  Nevada  3.2  77.0    False",
      "text/html": "<div>\n<style scoped>\n    .dataframe tbody tr th:only-of-type {\n        vertical-align: middle;\n    }\n\n    .dataframe tbody tr th {\n        vertical-align: top;\n    }\n\n    .dataframe thead th {\n        text-align: right;\n    }\n</style>\n<table border=\"1\" class=\"dataframe\">\n  <thead>\n    <tr style=\"text-align: right;\">\n      <th></th>\n      <th>year</th>\n      <th>state</th>\n      <th>pop</th>\n      <th>debt</th>\n      <th>eastern</th>\n    </tr>\n  </thead>\n  <tbody>\n    <tr>\n      <th>one</th>\n      <td>2000</td>\n      <td>Ohio</td>\n      <td>1.5</td>\n      <td>-2.0</td>\n      <td>True</td>\n    </tr>\n    <tr>\n      <th>two</th>\n      <td>2001</td>\n      <td>Ohio</td>\n      <td>1.7</td>\n      <td>NaN</td>\n      <td>True</td>\n    </tr>\n    <tr>\n      <th>three</th>\n      <td>2002</td>\n      <td>Ohio</td>\n      <td>3.6</td>\n      <td>NaN</td>\n      <td>True</td>\n    </tr>\n    <tr>\n      <th>four</th>\n      <td>2001</td>\n      <td>Nevada</td>\n      <td>2.4</td>\n      <td>5.0</td>\n      <td>False</td>\n    </tr>\n    <tr>\n      <th>five</th>\n      <td>2002</td>\n      <td>Nevada</td>\n      <td>2.9</td>\n      <td>NaN</td>\n      <td>False</td>\n    </tr>\n    <tr>\n      <th>six</th>\n      <td>2003</td>\n      <td>Nevada</td>\n      <td>3.2</td>\n      <td>77.0</td>\n      <td>False</td>\n    </tr>\n  </tbody>\n</table>\n</div>"
     },
     "execution_count": 6,
     "metadata": {},
     "output_type": "execute_result"
    }
   ],
   "source": [
    "# dynamically craete a new column using an expression to do vectorization <3\n",
    "frame2['eastern'] = frame2['state'] == 'Ohio'\n",
    "frame2"
   ]
  },
  {
   "cell_type": "code",
   "execution_count": 7,
   "metadata": {
    "pycharm": {
     "name": "#%%\n"
    }
   },
   "outputs": [
    {
     "data": {
      "text/plain": "Index(['year', 'state', 'pop', 'debt'], dtype='object')"
     },
     "execution_count": 7,
     "metadata": {},
     "output_type": "execute_result"
    }
   ],
   "source": [
    "# delete the previously created column\n",
    "del frame2['eastern']\n",
    "frame2.columns"
   ]
  },
  {
   "cell_type": "code",
   "execution_count": 8,
   "metadata": {
    "pycharm": {
     "name": "#%%\n"
    }
   },
   "outputs": [
    {
     "data": {
      "text/plain": "        2001  2002  2000\nNevada   2.4   2.9   NaN\nOhio     1.7   3.6   1.5",
      "text/html": "<div>\n<style scoped>\n    .dataframe tbody tr th:only-of-type {\n        vertical-align: middle;\n    }\n\n    .dataframe tbody tr th {\n        vertical-align: top;\n    }\n\n    .dataframe thead th {\n        text-align: right;\n    }\n</style>\n<table border=\"1\" class=\"dataframe\">\n  <thead>\n    <tr style=\"text-align: right;\">\n      <th></th>\n      <th>2001</th>\n      <th>2002</th>\n      <th>2000</th>\n    </tr>\n  </thead>\n  <tbody>\n    <tr>\n      <th>Nevada</th>\n      <td>2.4</td>\n      <td>2.9</td>\n      <td>NaN</td>\n    </tr>\n    <tr>\n      <th>Ohio</th>\n      <td>1.7</td>\n      <td>3.6</td>\n      <td>1.5</td>\n    </tr>\n  </tbody>\n</table>\n</div>"
     },
     "execution_count": 8,
     "metadata": {},
     "output_type": "execute_result"
    }
   ],
   "source": [
    "pop = {\n",
    "    'Nevada': {2001: 2.4, 2002: 2.9},\n",
    "    'Ohio': {2000: 1.5, 2001: 1.7, 2002: 3.6}\n",
    "}\n",
    "frame3 = pandas.DataFrame(pop)\n",
    "# Transpose\n",
    "frame3.T"
   ]
  },
  {
   "cell_type": "code",
   "execution_count": 9,
   "metadata": {
    "pycharm": {
     "name": "#%%\n"
    }
   },
   "outputs": [
    {
     "data": {
      "text/plain": "      Nevada  Ohio\n2001     2.4   1.7\n2002     2.9   3.6\n2000     NaN   1.5",
      "text/html": "<div>\n<style scoped>\n    .dataframe tbody tr th:only-of-type {\n        vertical-align: middle;\n    }\n\n    .dataframe tbody tr th {\n        vertical-align: top;\n    }\n\n    .dataframe thead th {\n        text-align: right;\n    }\n</style>\n<table border=\"1\" class=\"dataframe\">\n  <thead>\n    <tr style=\"text-align: right;\">\n      <th></th>\n      <th>Nevada</th>\n      <th>Ohio</th>\n    </tr>\n  </thead>\n  <tbody>\n    <tr>\n      <th>2001</th>\n      <td>2.4</td>\n      <td>1.7</td>\n    </tr>\n    <tr>\n      <th>2002</th>\n      <td>2.9</td>\n      <td>3.6</td>\n    </tr>\n    <tr>\n      <th>2000</th>\n      <td>NaN</td>\n      <td>1.5</td>\n    </tr>\n  </tbody>\n</table>\n</div>"
     },
     "execution_count": 9,
     "metadata": {},
     "output_type": "execute_result"
    }
   ],
   "source": [
    "frame3"
   ]
  },
  {
   "cell_type": "code",
   "execution_count": 10,
   "metadata": {
    "pycharm": {
     "name": "#%%\n"
    }
   },
   "outputs": [
    {
     "data": {
      "text/plain": "      Ohio  Nevada\n2001   1.7     2.4\n2002   3.6     2.9",
      "text/html": "<div>\n<style scoped>\n    .dataframe tbody tr th:only-of-type {\n        vertical-align: middle;\n    }\n\n    .dataframe tbody tr th {\n        vertical-align: top;\n    }\n\n    .dataframe thead th {\n        text-align: right;\n    }\n</style>\n<table border=\"1\" class=\"dataframe\">\n  <thead>\n    <tr style=\"text-align: right;\">\n      <th></th>\n      <th>Ohio</th>\n      <th>Nevada</th>\n    </tr>\n  </thead>\n  <tbody>\n    <tr>\n      <th>2001</th>\n      <td>1.7</td>\n      <td>2.4</td>\n    </tr>\n    <tr>\n      <th>2002</th>\n      <td>3.6</td>\n      <td>2.9</td>\n    </tr>\n  </tbody>\n</table>\n</div>"
     },
     "execution_count": 10,
     "metadata": {},
     "output_type": "execute_result"
    }
   ],
   "source": [
    "pdata = {\n",
    "    'Ohio': frame3['Ohio'][:2],\n",
    "    'Nevada': frame3['Nevada'][:-1]\n",
    "}\n",
    "\n",
    "pandas.DataFrame(pdata)"
   ]
  },
  {
   "cell_type": "code",
   "execution_count": 11,
   "metadata": {
    "pycharm": {
     "name": "#%%\n"
    }
   },
   "outputs": [
    {
     "data": {
      "text/plain": "state  Nevada  Ohio\nyear               \n2001      2.4   1.7\n2002      2.9   3.6\n2000      NaN   1.5",
      "text/html": "<div>\n<style scoped>\n    .dataframe tbody tr th:only-of-type {\n        vertical-align: middle;\n    }\n\n    .dataframe tbody tr th {\n        vertical-align: top;\n    }\n\n    .dataframe thead th {\n        text-align: right;\n    }\n</style>\n<table border=\"1\" class=\"dataframe\">\n  <thead>\n    <tr style=\"text-align: right;\">\n      <th>state</th>\n      <th>Nevada</th>\n      <th>Ohio</th>\n    </tr>\n    <tr>\n      <th>year</th>\n      <th></th>\n      <th></th>\n    </tr>\n  </thead>\n  <tbody>\n    <tr>\n      <th>2001</th>\n      <td>2.4</td>\n      <td>1.7</td>\n    </tr>\n    <tr>\n      <th>2002</th>\n      <td>2.9</td>\n      <td>3.6</td>\n    </tr>\n    <tr>\n      <th>2000</th>\n      <td>NaN</td>\n      <td>1.5</td>\n    </tr>\n  </tbody>\n</table>\n</div>"
     },
     "execution_count": 11,
     "metadata": {},
     "output_type": "execute_result"
    }
   ],
   "source": [
    "# we can set the index and column names\n",
    "frame3.index.name = 'year'; frame3.columns.name = 'state'\n",
    "frame3"
   ]
  },
  {
   "cell_type": "code",
   "execution_count": 12,
   "metadata": {
    "pycharm": {
     "name": "#%%\n"
    }
   },
   "outputs": [
    {
     "data": {
      "text/plain": "array([[2.4, 1.7],\n       [2.9, 3.6],\n       [nan, 1.5]])"
     },
     "execution_count": 12,
     "metadata": {},
     "output_type": "execute_result"
    }
   ],
   "source": [
    "# .values works w/dataframes and series\n",
    "frame3.values"
   ]
  },
  {
   "cell_type": "markdown",
   "source": [],
   "metadata": {
    "collapsed": false
   }
  },
  {
   "cell_type": "code",
   "execution_count": 13,
   "metadata": {
    "pycharm": {
     "name": "#%%\n"
    }
   },
   "outputs": [
    {
     "data": {
      "text/plain": "[True, True, False, False]"
     },
     "execution_count": 13,
     "metadata": {},
     "output_type": "execute_result"
    }
   ],
   "source": [
    "checks = [\n",
    "    'Ohio' in frame3.columns, 2002 in frame3.index,\n",
    "    'California' in frame3.columns, 2021 in frame3.index\n",
    "]\n",
    "checks"
   ]
  },
  {
   "cell_type": "code",
   "execution_count": 14,
   "metadata": {
    "pycharm": {
     "name": "#%%\n"
    }
   },
   "outputs": [
    {
     "data": {
      "text/plain": "[Index(['foo', 'foo', 'bar', 'bar', 'tro'], dtype='object'),\n Index(['per', 'cep', 'bar', 'per'], dtype='object'),\n Index(['foo', 'foo', 'bar', 'bar', 'tro', 'per', 'cep', 'bar', 'per'], dtype='object'),\n Index(['foo', 'tro'], dtype='object'),\n Index(['bar'], dtype='object'),\n Index(['bar', 'bar', 'cep', 'foo', 'foo', 'per', 'per', 'tro'], dtype='object'),\n array([False, False,  True,  True, False]),\n Index(['foo', 'foo', 'bar', 'tro'], dtype='object'),\n Index(['bar', 'bar', 'tro'], dtype='object'),\n False,\n False,\n Index(['foo', 'bar', 'tro'], dtype='object')]"
     },
     "execution_count": 14,
     "metadata": {},
     "output_type": "execute_result"
    }
   ],
   "source": [
    "# pandas indexes are like fixed-width python sets, but allow dupes\n",
    "idx = pandas.Index(['foo', 'foo', 'bar', 'bar', 'tro'])\n",
    "idx2 = pandas.Index(['per', 'cep', 'bar', 'per'])\n",
    "\n",
    "ops = [\n",
    "    idx, idx2,\n",
    "    # set like ops\n",
    "    idx.append(idx2),\n",
    "    idx.difference(idx2),\n",
    "    idx.intersection(idx2),\n",
    "    idx.union(idx2),\n",
    "    idx.isin(idx2),\n",
    "    idx.delete(2),\n",
    "    idx.drop('foo'),\n",
    "    #idx.insert('tro', 2), # not sure how to do this one\n",
    "    idx.is_monotonic,\n",
    "    idx.is_unique,\n",
    "    idx.unique()\n",
    "]\n",
    "ops"
   ]
  },
  {
   "cell_type": "code",
   "execution_count": 15,
   "metadata": {
    "pycharm": {
     "name": "#%%\n"
    }
   },
   "outputs": [
    {
     "data": {
      "text/plain": "d    4.5\nb    7.2\na   -5.3\nc    3.6\ndtype: float64"
     },
     "execution_count": 15,
     "metadata": {},
     "output_type": "execute_result"
    }
   ],
   "source": [
    "obj = pandas.Series([4.5, 7.2, -5.3, 3.6], index=['d', 'b', 'a', 'c'])\n",
    "obj"
   ]
  },
  {
   "cell_type": "code",
   "execution_count": 16,
   "metadata": {
    "pycharm": {
     "name": "#%%\n"
    }
   },
   "outputs": [
    {
     "data": {
      "text/plain": "a   -5.3\nb    7.2\nc    3.6\nd    4.5\ne    NaN\ndtype: float64"
     },
     "execution_count": 16,
     "metadata": {},
     "output_type": "execute_result"
    }
   ],
   "source": [
    "# re-index\n",
    "obj2 = obj.reindex(['a', 'b', 'c', 'd', 'e'])\n",
    "obj2"
   ]
  },
  {
   "cell_type": "code",
   "execution_count": 17,
   "metadata": {
    "pycharm": {
     "name": "#%%\n"
    }
   },
   "outputs": [
    {
     "data": {
      "text/plain": "0      blue\n2    purple\n4    yellow\ndtype: object"
     },
     "execution_count": 17,
     "metadata": {},
     "output_type": "execute_result"
    }
   ],
   "source": [
    "obj3 = pandas.Series(['blue', 'purple', 'yellow'], index=[0, 2, 4])\n",
    "obj3"
   ]
  },
  {
   "cell_type": "code",
   "execution_count": 18,
   "metadata": {
    "pycharm": {
     "name": "#%%\n"
    }
   },
   "outputs": [
    {
     "data": {
      "text/plain": "0      blue\n1      blue\n2    purple\n3    purple\n4    yellow\n5    yellow\ndtype: object"
     },
     "execution_count": 18,
     "metadata": {},
     "output_type": "execute_result"
    }
   ],
   "source": [
    "obj3.reindex(range(6), method='ffill')"
   ]
  },
  {
   "cell_type": "code",
   "execution_count": 19,
   "metadata": {
    "pycharm": {
     "name": "#%%\n"
    }
   },
   "outputs": [
    {
     "data": {
      "text/plain": "   Ohio  Texas  California\na     0      1           2\nc     3      4           5\nd     6      7           8",
      "text/html": "<div>\n<style scoped>\n    .dataframe tbody tr th:only-of-type {\n        vertical-align: middle;\n    }\n\n    .dataframe tbody tr th {\n        vertical-align: top;\n    }\n\n    .dataframe thead th {\n        text-align: right;\n    }\n</style>\n<table border=\"1\" class=\"dataframe\">\n  <thead>\n    <tr style=\"text-align: right;\">\n      <th></th>\n      <th>Ohio</th>\n      <th>Texas</th>\n      <th>California</th>\n    </tr>\n  </thead>\n  <tbody>\n    <tr>\n      <th>a</th>\n      <td>0</td>\n      <td>1</td>\n      <td>2</td>\n    </tr>\n    <tr>\n      <th>c</th>\n      <td>3</td>\n      <td>4</td>\n      <td>5</td>\n    </tr>\n    <tr>\n      <th>d</th>\n      <td>6</td>\n      <td>7</td>\n      <td>8</td>\n    </tr>\n  </tbody>\n</table>\n</div>"
     },
     "execution_count": 19,
     "metadata": {},
     "output_type": "execute_result"
    }
   ],
   "source": [
    "ra1 = np.arange(9).reshape(3,3)\n",
    "frame = pandas.DataFrame(\n",
    "    ra1, index=['a', 'c', 'd'], columns=['Ohio', 'Texas', 'California']\n",
    ")\n",
    "frame"
   ]
  },
  {
   "cell_type": "code",
   "execution_count": 20,
   "metadata": {
    "pycharm": {
     "name": "#%%\n"
    }
   },
   "outputs": [
    {
     "data": {
      "text/plain": "   Ohio  Texas  California\na   0.0    1.0         2.0\nb   NaN    NaN         NaN\nc   3.0    4.0         5.0\nd   6.0    7.0         8.0",
      "text/html": "<div>\n<style scoped>\n    .dataframe tbody tr th:only-of-type {\n        vertical-align: middle;\n    }\n\n    .dataframe tbody tr th {\n        vertical-align: top;\n    }\n\n    .dataframe thead th {\n        text-align: right;\n    }\n</style>\n<table border=\"1\" class=\"dataframe\">\n  <thead>\n    <tr style=\"text-align: right;\">\n      <th></th>\n      <th>Ohio</th>\n      <th>Texas</th>\n      <th>California</th>\n    </tr>\n  </thead>\n  <tbody>\n    <tr>\n      <th>a</th>\n      <td>0.0</td>\n      <td>1.0</td>\n      <td>2.0</td>\n    </tr>\n    <tr>\n      <th>b</th>\n      <td>NaN</td>\n      <td>NaN</td>\n      <td>NaN</td>\n    </tr>\n    <tr>\n      <th>c</th>\n      <td>3.0</td>\n      <td>4.0</td>\n      <td>5.0</td>\n    </tr>\n    <tr>\n      <th>d</th>\n      <td>6.0</td>\n      <td>7.0</td>\n      <td>8.0</td>\n    </tr>\n  </tbody>\n</table>\n</div>"
     },
     "execution_count": 20,
     "metadata": {},
     "output_type": "execute_result"
    }
   ],
   "source": [
    "frame2 = frame.reindex(['a', 'b', 'c', 'd'])\n",
    "frame2"
   ]
  },
  {
   "cell_type": "code",
   "execution_count": 21,
   "metadata": {
    "pycharm": {
     "name": "#%%\n"
    }
   },
   "outputs": [
    {
     "data": {
      "text/plain": "            Ohio  Texas  California\nTexas        NaN    NaN         NaN\nUtah         NaN    NaN         NaN\nCalifornia   NaN    NaN         NaN",
      "text/html": "<div>\n<style scoped>\n    .dataframe tbody tr th:only-of-type {\n        vertical-align: middle;\n    }\n\n    .dataframe tbody tr th {\n        vertical-align: top;\n    }\n\n    .dataframe thead th {\n        text-align: right;\n    }\n</style>\n<table border=\"1\" class=\"dataframe\">\n  <thead>\n    <tr style=\"text-align: right;\">\n      <th></th>\n      <th>Ohio</th>\n      <th>Texas</th>\n      <th>California</th>\n    </tr>\n  </thead>\n  <tbody>\n    <tr>\n      <th>Texas</th>\n      <td>NaN</td>\n      <td>NaN</td>\n      <td>NaN</td>\n    </tr>\n    <tr>\n      <th>Utah</th>\n      <td>NaN</td>\n      <td>NaN</td>\n      <td>NaN</td>\n    </tr>\n    <tr>\n      <th>California</th>\n      <td>NaN</td>\n      <td>NaN</td>\n      <td>NaN</td>\n    </tr>\n  </tbody>\n</table>\n</div>"
     },
     "execution_count": 21,
     "metadata": {},
     "output_type": "execute_result"
    }
   ],
   "source": [
    "states = ['Texas', 'Utah', 'California']\n",
    "frame.reindex(states)"
   ]
  },
  {
   "cell_type": "code",
   "execution_count": 22,
   "metadata": {
    "pycharm": {
     "name": "#%%\n"
    }
   },
   "outputs": [
    {
     "data": {
      "text/plain": "a    0.0\nb    1.0\nc    2.0\nd    3.0\ne    4.0\ndtype: float64"
     },
     "execution_count": 22,
     "metadata": {},
     "output_type": "execute_result"
    }
   ],
   "source": [
    "# frame.loc[['a','b','c','d'], states] # won't work anymore\n",
    "\n",
    "obj = pandas.Series(np.arange(5.), index=['a','b','c','d','e'])\n",
    "obj"
   ]
  },
  {
   "cell_type": "code",
   "execution_count": 23,
   "metadata": {
    "pycharm": {
     "name": "#%%\n"
    }
   },
   "outputs": [
    {
     "data": {
      "text/plain": "a    0.0\nb    1.0\nd    3.0\ne    4.0\ndtype: float64"
     },
     "execution_count": 23,
     "metadata": {},
     "output_type": "execute_result"
    }
   ],
   "source": [
    "new_obj = obj.drop('c')\n",
    "new_obj"
   ]
  },
  {
   "cell_type": "code",
   "execution_count": 24,
   "metadata": {
    "pycharm": {
     "name": "#%%\n"
    }
   },
   "outputs": [
    {
     "data": {
      "text/plain": "          one  two  three  four\nOhio        0    1      2     3\nColorado    4    5      6     7\nNew York   12   13     14    15",
      "text/html": "<div>\n<style scoped>\n    .dataframe tbody tr th:only-of-type {\n        vertical-align: middle;\n    }\n\n    .dataframe tbody tr th {\n        vertical-align: top;\n    }\n\n    .dataframe thead th {\n        text-align: right;\n    }\n</style>\n<table border=\"1\" class=\"dataframe\">\n  <thead>\n    <tr style=\"text-align: right;\">\n      <th></th>\n      <th>one</th>\n      <th>two</th>\n      <th>three</th>\n      <th>four</th>\n    </tr>\n  </thead>\n  <tbody>\n    <tr>\n      <th>Ohio</th>\n      <td>0</td>\n      <td>1</td>\n      <td>2</td>\n      <td>3</td>\n    </tr>\n    <tr>\n      <th>Colorado</th>\n      <td>4</td>\n      <td>5</td>\n      <td>6</td>\n      <td>7</td>\n    </tr>\n    <tr>\n      <th>New York</th>\n      <td>12</td>\n      <td>13</td>\n      <td>14</td>\n      <td>15</td>\n    </tr>\n  </tbody>\n</table>\n</div>"
     },
     "execution_count": 24,
     "metadata": {},
     "output_type": "execute_result"
    }
   ],
   "source": [
    "obj.drop(['d', 'c'])\n",
    "data = pandas.DataFrame(np.arange(16).reshape((4, 4)),\n",
    "                index=['Ohio', 'Colorado', 'Utah', 'New York'],\n",
    "                columns=['one', 'two', 'three', 'four'])\n",
    "cdata = data.copy()\n",
    "drop1 = data.drop('Utah')\n",
    "# axis=1 means columns\n",
    "drop2 = data.drop(['three', 'four'], axis=1)\n",
    "drop3 = data.drop(['two'], axis=1)\n",
    "# drop in place\n",
    "data.drop(['Utah'], axis=0, inplace=True)\n",
    "drop_set = [data, cdata, drop1, drop2, drop3, data]\n",
    "# drop_set\n",
    "data\n",
    "cdata\n",
    "drop1"
   ]
  },
  {
   "cell_type": "markdown",
   "metadata": {
    "pycharm": {
     "name": "#%% md\n"
    }
   },
   "source": [
    "# Indexing, Selection, & Filtering for DataFrames and Series"
   ]
  },
  {
   "cell_type": "code",
   "execution_count": 25,
   "metadata": {
    "pycharm": {
     "name": "#%%\n"
    }
   },
   "outputs": [
    {
     "data": {
      "text/plain": "[a     5.00\n b     5.00\n c     5.00\n d    17.25\n e    23.00\n f    28.75\n g    34.50\n h    40.25\n i    46.00\n j    51.75\n dtype: float64,\n 5.75,\n b    5.75\n dtype: float64,\n a     0.00\n e    23.00\n j    51.75\n dtype: float64,\n c     5.00\n d    17.25\n e    23.00\n dtype: float64,\n b     5.75\n c    11.50\n d    17.25\n e    23.00\n f    28.75\n g    34.50\n h    40.25\n i    46.00\n j    51.75\n dtype: float64,\n h    40.25\n i    46.00\n j    51.75\n dtype: float64]"
     },
     "execution_count": 25,
     "metadata": {},
     "output_type": "execute_result"
    }
   ],
   "source": [
    "obj = pandas.Series(np.arange(10) * 5.75, index=['a','b','c','d','e','f','g','h','i','j'])\n",
    "index_select_filter = [\n",
    "    obj, obj[1], obj[['b']],\n",
    "    obj[['a','e','j']],\n",
    "    obj[2:5],\n",
    "    obj[obj > 5],\n",
    "    obj['h':'j'],\n",
    "]\n",
    "obj['a':'c'] = 5\n",
    "index_select_filter"
   ]
  },
  {
   "cell_type": "code",
   "execution_count": 26,
   "metadata": {
    "pycharm": {
     "name": "#%%\n"
    }
   },
   "outputs": [
    {
     "data": {
      "text/plain": "[          one  two  three  four\n Ohio        0    1      2     3\n Colorado    4    5      6     7\n Utah        8    9     10    11\n New York   12   13     14    15,\n           two\n Ohio        1\n Colorado    5\n Utah        9\n New York   13,\n           three  four\n Ohio          2     3\n Colorado      6     7\n Utah         10    11\n New York     14    15,\n           one  two  three  four\n Ohio        0    1      2     3\n Colorado    4    5      6     7,\n           one  two  three  four\n Colorado    4    5      6     7\n Utah        8    9     10    11\n New York   12   13     14    15]"
     },
     "execution_count": 26,
     "metadata": {},
     "output_type": "execute_result"
    }
   ],
   "source": [
    "data = pandas.DataFrame(np.arange(16).reshape(4,4),\n",
    "                     index=['Ohio', 'Colorado', 'Utah', 'New York'],\n",
    "                     columns=['one', 'two', 'three', 'four'])\n",
    "index_select_filter = [\n",
    "    data,\n",
    "    # select columns\n",
    "    data[['two']],\n",
    "    data[['three', 'four']],\n",
    "    # a few special cases that'll select rows\n",
    "    data[:2], # select 1st two rows\n",
    "    data[data['three'] > 4], # boolean array\n",
    "]\n",
    "index_select_filter"
   ]
  },
  {
   "cell_type": "code",
   "execution_count": 42,
   "metadata": {
    "pycharm": {
     "name": "#%%\n"
    }
   },
   "outputs": [
    {
     "data": {
      "text/plain": "    Qu1   Qu2   Qu3\n0  True  True  True\n1  True  True  True\n2  True  True  True\n3  True  True  True\n4  True  True  True",
      "text/html": "<div>\n<style scoped>\n    .dataframe tbody tr th:only-of-type {\n        vertical-align: middle;\n    }\n\n    .dataframe tbody tr th {\n        vertical-align: top;\n    }\n\n    .dataframe thead th {\n        text-align: right;\n    }\n</style>\n<table border=\"1\" class=\"dataframe\">\n  <thead>\n    <tr style=\"text-align: right;\">\n      <th></th>\n      <th>Qu1</th>\n      <th>Qu2</th>\n      <th>Qu3</th>\n    </tr>\n  </thead>\n  <tbody>\n    <tr>\n      <th>0</th>\n      <td>True</td>\n      <td>True</td>\n      <td>True</td>\n    </tr>\n    <tr>\n      <th>1</th>\n      <td>True</td>\n      <td>True</td>\n      <td>True</td>\n    </tr>\n    <tr>\n      <th>2</th>\n      <td>True</td>\n      <td>True</td>\n      <td>True</td>\n    </tr>\n    <tr>\n      <th>3</th>\n      <td>True</td>\n      <td>True</td>\n      <td>True</td>\n    </tr>\n    <tr>\n      <th>4</th>\n      <td>True</td>\n      <td>True</td>\n      <td>True</td>\n    </tr>\n  </tbody>\n</table>\n</div>"
     },
     "execution_count": 42,
     "metadata": {},
     "output_type": "execute_result"
    }
   ],
   "source": [
    "# boolean DataFrame\n",
    "data < 10"
   ]
  },
  {
   "cell_type": "code",
   "metadata": {
    "pycharm": {
     "name": "#%%\n"
    }
   },
   "source": [
    "# set all vals < 5 to 0\n",
    "data[data < 5] = 0\n",
    "data"
   ],
   "execution_count": 43,
   "outputs": [
    {
     "data": {
      "text/plain": "   Qu1  Qu2  Qu3\n0    0    0    0\n1    0    0    5\n2    0    0    0\n3    0    0    0\n4    0    0    0",
      "text/html": "<div>\n<style scoped>\n    .dataframe tbody tr th:only-of-type {\n        vertical-align: middle;\n    }\n\n    .dataframe tbody tr th {\n        vertical-align: top;\n    }\n\n    .dataframe thead th {\n        text-align: right;\n    }\n</style>\n<table border=\"1\" class=\"dataframe\">\n  <thead>\n    <tr style=\"text-align: right;\">\n      <th></th>\n      <th>Qu1</th>\n      <th>Qu2</th>\n      <th>Qu3</th>\n    </tr>\n  </thead>\n  <tbody>\n    <tr>\n      <th>0</th>\n      <td>0</td>\n      <td>0</td>\n      <td>0</td>\n    </tr>\n    <tr>\n      <th>1</th>\n      <td>0</td>\n      <td>0</td>\n      <td>5</td>\n    </tr>\n    <tr>\n      <th>2</th>\n      <td>0</td>\n      <td>0</td>\n      <td>0</td>\n    </tr>\n    <tr>\n      <th>3</th>\n      <td>0</td>\n      <td>0</td>\n      <td>0</td>\n    </tr>\n    <tr>\n      <th>4</th>\n      <td>0</td>\n      <td>0</td>\n      <td>0</td>\n    </tr>\n  </tbody>\n</table>\n</div>"
     },
     "execution_count": 43,
     "metadata": {},
     "output_type": "execute_result"
    }
   ]
  },
  {
   "cell_type": "markdown",
   "metadata": {
    "pycharm": {
     "name": "#%% md\n"
    }
   },
   "source": []
  },
  {
   "cell_type": "code",
   "execution_count": 29,
   "metadata": {
    "pycharm": {
     "name": "#%%\n"
    }
   },
   "outputs": [
    {
     "data": {
      "text/plain": "[          one  two  three  four\n Ohio        0   22      0     0\n Colorado    0    5      6     7\n Utah        8    9     10    11\n New York   12   13     14    15,\n two      5\n three    6\n Name: Colorado, dtype: int64,\n four    11\n one      8\n two      9\n Name: Utah, dtype: int64,\n one       8\n two       9\n three    10\n four     11\n Name: Utah, dtype: int64,\n           four  one  two\n Colorado     7    0    5\n Utah        11    8    9,\n           one  two  three\n Ohio        0   22      0\n Colorado    0    5      6\n Utah        8    9     10,\n Ohio        22\n Colorado     5\n Utah         9\n Name: two, dtype: int64,\n           one  two  three\n Colorado    0    5      6\n Utah        8    9     10\n New York   12   13     14]"
     },
     "execution_count": 29,
     "metadata": {},
     "output_type": "execute_result"
    }
   ],
   "source": [
    "data.loc['Ohio', 'two'] = 22\n",
    "# select column `two` and `three` from the Colorado column index\n",
    "loc_iloc = [\n",
    "    data,\n",
    "    data.loc['Colorado', ['two', 'three']],\n",
    "    data.iloc[2, [3,0,1]],\n",
    "    # select Utah row\n",
    "    data.iloc[2],\n",
    "    # select rows [Colorado, Utah] col [four, one, two]\n",
    "    data.iloc[[1,2], [3,0,1]],\n",
    "    data.loc[:'Utah', 'one':'three'],\n",
    "    data.loc[:'Utah', 'two'],\n",
    "    data.iloc[:, :3][data['three'] > 5]\n",
    "]\n",
    "loc_iloc"
   ]
  },
  {
   "cell_type": "markdown",
   "metadata": {
    "pycharm": {
     "name": "#%% md\n"
    }
   },
   "source": [
    "### Using pandas.DataFrame.add()"
   ]
  },
  {
   "cell_type": "code",
   "execution_count": 30,
   "metadata": {
    "pycharm": {
     "name": "#%%\n"
    }
   },
   "outputs": [
    {
     "data": {
      "text/plain": "      a     b     c     d     e\n0   0.0   2.0   4.0   6.0   4.0\n1   9.0  11.0  13.0  15.0   9.0\n2  18.0  20.0  22.0  24.0  14.0\n3  15.0  16.0  17.0  18.0  19.0",
      "text/html": "<div>\n<style scoped>\n    .dataframe tbody tr th:only-of-type {\n        vertical-align: middle;\n    }\n\n    .dataframe tbody tr th {\n        vertical-align: top;\n    }\n\n    .dataframe thead th {\n        text-align: right;\n    }\n</style>\n<table border=\"1\" class=\"dataframe\">\n  <thead>\n    <tr style=\"text-align: right;\">\n      <th></th>\n      <th>a</th>\n      <th>b</th>\n      <th>c</th>\n      <th>d</th>\n      <th>e</th>\n    </tr>\n  </thead>\n  <tbody>\n    <tr>\n      <th>0</th>\n      <td>0.0</td>\n      <td>2.0</td>\n      <td>4.0</td>\n      <td>6.0</td>\n      <td>4.0</td>\n    </tr>\n    <tr>\n      <th>1</th>\n      <td>9.0</td>\n      <td>11.0</td>\n      <td>13.0</td>\n      <td>15.0</td>\n      <td>9.0</td>\n    </tr>\n    <tr>\n      <th>2</th>\n      <td>18.0</td>\n      <td>20.0</td>\n      <td>22.0</td>\n      <td>24.0</td>\n      <td>14.0</td>\n    </tr>\n    <tr>\n      <th>3</th>\n      <td>15.0</td>\n      <td>16.0</td>\n      <td>17.0</td>\n      <td>18.0</td>\n      <td>19.0</td>\n    </tr>\n  </tbody>\n</table>\n</div>"
     },
     "execution_count": 30,
     "metadata": {},
     "output_type": "execute_result"
    }
   ],
   "source": [
    "df1 = pandas.DataFrame(np.arange(12.).reshape((3, 4)), columns=list('abcd'))\n",
    "df2 = pandas.DataFrame(np.arange(20.).reshape((4, 5)), columns=list('abcde'))\n",
    "df1.add(df2, fill_value=0)"
   ]
  },
  {
   "cell_type": "code",
   "execution_count": 31,
   "metadata": {
    "pycharm": {
     "name": "#%%\n"
    }
   },
   "outputs": [
    {
     "data": {
      "text/plain": "[       a         b         c         d\n 0    inf  1.000000  0.500000  0.333333\n 1  0.250  0.200000  0.166667  0.142857\n 2  0.125  0.111111  0.100000  0.090909,\n        a         b         c         d\n 0    inf  1.000000  0.500000  0.333333\n 1  0.250  0.200000  0.166667  0.142857\n 2  0.125  0.111111  0.100000  0.090909]"
     },
     "execution_count": 31,
     "metadata": {},
     "output_type": "execute_result"
    }
   ],
   "source": [
    "equivalents = [\n",
    "    1 / df1,\n",
    "    df1.rdiv(1)\n",
    "]\n",
    "equivalents"
   ]
  },
  {
   "cell_type": "markdown",
   "metadata": {
    "pycharm": {
     "name": "#%% md\n"
    }
   },
   "source": [
    "### Operations between DataFrame and Series"
   ]
  },
  {
   "cell_type": "code",
   "execution_count": 32,
   "metadata": {
    "pycharm": {
     "name": "#%%\n"
    }
   },
   "outputs": [
    {
     "data": {
      "text/plain": "[array([[ 0.,  1.,  2.,  3.],\n        [ 4.,  5.,  6.,  7.],\n        [ 8.,  9., 10., 11.]]),\n array([0., 1., 2., 3.]),\n array([[0., 0., 0., 0.],\n        [4., 4., 4., 4.],\n        [8., 8., 8., 8.]])]"
     },
     "execution_count": 32,
     "metadata": {},
     "output_type": "execute_result"
    }
   ],
   "source": [
    "arr = np.arange(12.).reshape(3,4)\n",
    "np_broadcasting = [\n",
    "    arr,\n",
    "    arr[0],\n",
    "    # broadcasting operation\n",
    "    arr - arr[0]\n",
    "]\n",
    "np_broadcasting"
   ]
  },
  {
   "cell_type": "code",
   "execution_count": 33,
   "metadata": {
    "pycharm": {
     "name": "#%%\n"
    }
   },
   "outputs": [
    {
     "data": {
      "text/plain": "[          b     d     e\n Utah    0.0   1.0   2.0\n Ohio    3.0   4.0   5.0\n Texas   6.0   7.0   8.0\n Oregon  9.0  10.0  11.0,\n '',\n '',\n b    0.0\n d    1.0\n e    2.0\n Name: Utah, dtype: float64,\n '',\n '',\n           b    d    e\n Utah    0.0  0.0  0.0\n Ohio    3.0  3.0  3.0\n Texas   6.0  6.0  6.0\n Oregon  9.0  9.0  9.0,\n '',\n '',\n           b   d     e   f\n Utah    0.0 NaN   3.0 NaN\n Ohio    3.0 NaN   6.0 NaN\n Texas   6.0 NaN   9.0 NaN\n Oregon  9.0 NaN  12.0 NaN,\n '',\n '',\n           b    d    e\n Utah   -1.0  0.0  1.0\n Ohio   -1.0  0.0  1.0\n Texas  -1.0  0.0  1.0\n Oregon -1.0  0.0  1.0]"
     },
     "execution_count": 33,
     "metadata": {},
     "output_type": "execute_result"
    }
   ],
   "source": [
    "# broadcasting is similar with dataframes and series\n",
    "frame = pandas.DataFrame(np.arange(12.).reshape((4, 3)),\n",
    "                         columns=list('bde'),\n",
    "                         index=['Utah', 'Ohio', 'Texas', 'Oregon'])\n",
    "series = frame.iloc[0]\n",
    "series2 = pandas.Series(range(3), index=list('bef'))\n",
    "series3 = frame['d']\n",
    "frame_series_broadcasting = [\n",
    "    frame, '','',\n",
    "    series, '','',\n",
    "    frame - series, '','',\n",
    "    # will re-index and union\n",
    "    frame + series2, '','',\n",
    "    frame.sub(series3, axis='index')\n",
    "]\n",
    "frame_series_broadcasting"
   ]
  },
  {
   "cell_type": "markdown",
   "metadata": {
    "pycharm": {
     "name": "#%% md\n"
    }
   },
   "source": [
    "## Function Application and Mapping"
   ]
  },
  {
   "cell_type": "code",
   "execution_count": 34,
   "metadata": {
    "pycharm": {
     "name": "#%%\n"
    }
   },
   "outputs": [
    {
     "data": {
      "text/plain": "[               b         d         e\n Utah    0.045656  0.823883 -0.805217\n Ohio   -1.705230  0.523225 -0.435102\n Texas  -0.746488  1.833214  0.860381\n Oregon  0.594310 -2.361818  1.736737,\n '',\n '',\n b    2.299540\n d    4.195031\n e    2.541953\n dtype: float64,\n '',\n '',\n Utah      1.629099\n Ohio      2.228455\n Texas     2.579702\n Oregon    4.098555\n dtype: float64,\n '',\n '',\n            b         d         e\n min -1.70523 -2.361818 -0.805217\n max  0.59431  1.833214  1.736737,\n '',\n 'frame.applymap(lambda_format)',\n             b      d      e\n Utah     0.05   0.82  -0.81\n Ohio    -1.71   0.52  -0.44\n Texas   -0.75   1.83   0.86\n Oregon   0.59  -2.36   1.74,\n '',\n '',\n Utah      -0.81\n Ohio      -0.44\n Texas      0.86\n Oregon     1.74\n Name: e, dtype: object]"
     },
     "execution_count": 34,
     "metadata": {},
     "output_type": "execute_result"
    }
   ],
   "source": [
    "def max_minus_min(x):\n",
    "    debug = 1\n",
    "    return x.max() - x.min()\n",
    "\n",
    "def min_max_series(x):\n",
    "    debug = 1\n",
    "    return pandas.Series([x.min(), x.max()], index=['min', 'max'])\n",
    "\n",
    "lambda_format = lambda x: '%.2f' % x\n",
    "\n",
    "frame = pandas.DataFrame(np.random.randn(4, 3), columns=list('bde'),\n",
    "                         index=['Utah', 'Ohio', 'Texas', 'Oregon'])\n",
    "function_maps = [\n",
    "    frame, '','',\n",
    "    # np.abs() will make all the values positive\n",
    "    #np.abs(frame), '','',\n",
    "    # apply a function to each column of $frame\n",
    "    frame.apply(max_minus_min, axis='index'), '','',\n",
    "    # apply a function to each row of $frame\n",
    "    frame.apply(max_minus_min, axis='columns'), '','',\n",
    "    # apply a function that returns a series\n",
    "    frame.apply(min_max_series), '','frame.applymap(lambda_format)',\n",
    "    # using .applymap(), this functions works on all cells in the df\n",
    "    frame.applymap(lambda_format), '','',\n",
    "    # compare the difference to .map(), this gets called on a single column\n",
    "    frame['e'].map(lambda_format)\n",
    "]\n",
    "function_maps"
   ]
  },
  {
   "cell_type": "markdown",
   "metadata": {
    "pycharm": {
     "name": "#%% md\n"
    }
   },
   "source": [
    "## Sorting & Ranking"
   ]
  },
  {
   "cell_type": "code",
   "execution_count": 35,
   "metadata": {
    "pycharm": {
     "name": "#%%\n"
    }
   },
   "outputs": [
    {
     "data": {
      "text/plain": "[d    0\n a    1\n b    2\n c    3\n dtype: int64,\n '',\n '',\n a    1\n b    2\n c    3\n d    0\n dtype: int64,\n '',\n '',\n        d  a  b  c\n three  0  1  2  3\n one    4  5  6  7,\n '',\n '',\n        d  a  b  c\n one    4  5  6  7\n three  0  1  2  3,\n '',\n '',\n        d  c  b  a\n three  0  3  2  1\n one    4  7  6  5]"
     },
     "execution_count": 35,
     "metadata": {},
     "output_type": "execute_result"
    }
   ],
   "source": [
    "# sort by index\n",
    "obj = pandas.Series(range(4), index=['d', 'a', 'b', 'c'])\n",
    "frame = pandas.DataFrame(np.arange(8).reshape((2, 4)), index=['three', 'one'],\n",
    "                         columns=['d', 'a', 'b', 'c'])\n",
    "sorts = [\n",
    "    obj, '','',\n",
    "    obj.sort_index(), '','',\n",
    "    frame, '','',\n",
    "    frame.sort_index(), '','',\n",
    "    # sort by columns\n",
    "    frame.sort_index(axis='columns', ascending=False)\n",
    "]\n",
    "sorts"
   ]
  },
  {
   "cell_type": "code",
   "execution_count": 36,
   "metadata": {
    "pycharm": {
     "name": "#%%\n"
    }
   },
   "outputs": [
    {
     "data": {
      "text/plain": "[0    4\n 1    7\n 2   -3\n 3    2\n dtype: int64,\n '',\n '',\n 2   -3\n 3    2\n 0    4\n 1    7\n dtype: int64,\n '',\n '',\n    b  a\n 0  4  0\n 1  7  1\n 2 -3  0\n 3  2  1,\n '',\n '',\n    b  a\n 2 -3  0\n 3  2  1\n 0  4  0\n 1  7  1,\n '',\n \"frame.sort_values(by=['a','b'])\",\n    b  a\n 2 -3  0\n 0  4  0\n 3  2  1\n 1  7  1]"
     },
     "execution_count": 36,
     "metadata": {},
     "output_type": "execute_result"
    }
   ],
   "source": [
    "# sort by value\n",
    "obj = pandas.Series([4, 7, -3, 2])\n",
    "frame = pandas.DataFrame({'b': [4, 7, -3, 2], 'a': [0, 1, 0, 1]})\n",
    "sorts = [\n",
    "    obj, '','',\n",
    "    obj.sort_values(), '','',\n",
    "    frame, '','',\n",
    "    frame.sort_values(by='b'), '',\"frame.sort_values(by=['a','b'])\",\n",
    "    frame.sort_values(by=['a','b']),\n",
    "]\n",
    "sorts"
   ]
  },
  {
   "cell_type": "code",
   "execution_count": 37,
   "metadata": {
    "pycharm": {
     "name": "#%%\n"
    }
   },
   "outputs": [
    {
     "data": {
      "text/plain": "[1   -5\n 5    0\n 4    2\n 3    4\n 6    4\n 0    7\n 2    7\n dtype: int64,\n '',\n '',\n 1    1.0\n 5    2.0\n 4    3.0\n 3    4.5\n 6    4.5\n 0    6.5\n 2    6.5\n dtype: float64,\n '',\n '',\n 1    1.0\n 5    2.0\n 4    3.0\n 3    4.0\n 6    5.0\n 0    6.0\n 2    7.0\n dtype: float64,\n '',\n '',\n 0    2.0\n 2    2.0\n 3    4.0\n 6    4.0\n 4    5.0\n 5    6.0\n 1    7.0\n dtype: float64,\n '',\n '',\n      b  a    c\n 0  4.3  0 -2.0\n 1  7.0  1  5.0\n 2 -3.0  0  8.0\n 3  2.0  1 -2.5,\n '',\n '',\n      b    a    c\n 0  3.0  2.0  1.0\n 1  3.0  1.0  2.0\n 2  1.0  2.0  3.0\n 3  3.0  2.0  1.0]"
     },
     "execution_count": 37,
     "metadata": {},
     "output_type": "execute_result"
    }
   ],
   "source": [
    "# ranking\n",
    "obj = pandas.Series([7, -5, 7, 4, 2, 0, 4])\n",
    "frame = pandas.DataFrame({'b': [4.3, 7, -3, 2], 'a': [0, 1, 0, 1],'c': [-2, 5, 8, -2.5]})\n",
    "ranks = [\n",
    "    #obj.shape, '','',\n",
    "    #obj, '','',\n",
    "    obj.sort_values(), '','',\n",
    "    #obj.rank(), '','',\n",
    "    obj.rank().sort_values(), '','',\n",
    "    obj.rank(method='first').sort_values(), '','',\n",
    "    obj.rank(ascending=False, method='max').sort_values(), '','',\n",
    "    frame, '','',\n",
    "    frame.rank(axis='columns')\n",
    "]\n",
    "ranks"
   ]
  },
  {
   "cell_type": "markdown",
   "metadata": {
    "pycharm": {
     "name": "#%% md\n"
    }
   },
   "source": [
    "## Axis Indexes with Duplicate Labels"
   ]
  },
  {
   "cell_type": "code",
   "execution_count": 38,
   "metadata": {
    "pycharm": {
     "name": "#%%\n"
    }
   },
   "outputs": [
    {
     "data": {
      "text/plain": "[a    0\n a    1\n b    2\n b    3\n c    4\n dtype: int64,\n False,\n a    0\n a    1\n dtype: int64,\n 4,\n           0         1         2\n b -0.746801 -0.262503 -0.135886\n b  1.534053 -0.434873  0.036667]"
     },
     "execution_count": 38,
     "metadata": {},
     "output_type": "execute_result"
    }
   ],
   "source": [
    "obj = pandas.Series(range(5), index=['a', 'a', 'b', 'b', 'c'])\n",
    "df = pandas.DataFrame(np.random.randn(4, 3), index=['a', 'a', 'b', 'b'])\n",
    "\n",
    "arr = [\n",
    "    obj,\n",
    "    obj.index.is_unique,\n",
    "    obj['a'],\n",
    "    obj['c'],\n",
    "    df.loc['b']\n",
    "]\n",
    "arr"
   ]
  },
  {
   "cell_type": "markdown",
   "metadata": {
    "pycharm": {
     "name": "#%% md\n"
    }
   },
   "source": [
    "# Summarizing and Computing Descriptive Statistics"
   ]
  },
  {
   "cell_type": "code",
   "execution_count": 39,
   "metadata": {
    "pycharm": {
     "name": "#%%\n"
    }
   },
   "outputs": [
    {
     "data": {
      "text/plain": "[    one  two\n a  1.40  NaN\n b  7.10 -4.5\n c   NaN  NaN\n d  0.75 -1.3,\n '',\n '',\n one    9.25\n two   -5.80\n dtype: float64,\n '',\n \"df.sum(axis='columns'\",\n a    1.40\n b    2.60\n c    0.00\n d   -0.55\n dtype: float64,\n '',\n '',\n a      NaN\n b    1.300\n c      NaN\n d   -0.275\n dtype: float64,\n '',\n '',\n one    b\n two    d\n dtype: object,\n '',\n '',\n     one  two\n a  1.40  NaN\n b  8.50 -4.5\n c   NaN  NaN\n d  9.25 -5.8,\n '',\n '',\n             one       two\n count  3.000000  2.000000\n mean   3.083333 -2.900000\n std    3.493685  2.262742\n min    0.750000 -4.500000\n 25%    1.075000 -3.700000\n 50%    1.400000 -2.900000\n 75%    4.250000 -2.100000\n max    7.100000 -1.300000]"
     },
     "execution_count": 39,
     "metadata": {},
     "output_type": "execute_result"
    }
   ],
   "source": [
    "df = pandas.DataFrame([[1.4, np.nan], [7.1, -4.5], [np.nan, np.nan], [0.75, -1.3]],\n",
    "                      index=['a', 'b', 'c', 'd'], columns=['one', 'two'])\n",
    "reductions = [\n",
    "    df,'','',\n",
    "    df.sum(), '',\"df.sum(axis='columns'\",\n",
    "    df.sum(axis='columns'), '','',\n",
    "    df.mean(skipna=False, axis='columns'), '','',\n",
    "    # will return the max index from each column\n",
    "    df.idxmax(), '','',\n",
    "    # accumulations\n",
    "    df.cumsum(), '','',\n",
    "    df.describe()\n",
    "]\n",
    "reductions"
   ]
  },
  {
   "cell_type": "markdown",
   "metadata": {
    "pycharm": {
     "name": "#%% md\n"
    }
   },
   "source": [
    "### Unique Values, Values Counts, & Membership"
   ]
  },
  {
   "cell_type": "code",
   "execution_count": 40,
   "metadata": {
    "pycharm": {
     "name": "#%%\n"
    }
   },
   "outputs": [
    {
     "data": {
      "text/plain": "[0    c\n 1    a\n 2    d\n 3    a\n 4    a\n 5    b\n 6    b\n 7    c\n 8    c\n dtype: object,\n '',\n 'obj.unique()',\n array(['c', 'a', 'd', 'b'], dtype=object),\n '',\n 'obj.value_counts()',\n a    3\n c    3\n b    2\n d    1\n dtype: int64,\n '',\n '',\n b    2\n d    1\n a    3\n c    3\n dtype: int64,\n '',\n 'series.isin()',\n 0     True\n 1    False\n 2    False\n 3    False\n 4    False\n 5     True\n 6     True\n 7     True\n 8     True\n dtype: bool,\n 'obj[objd.is`in([\"b\",\"c\"])]',\n 0    c\n 5    b\n 6    b\n 7    c\n 8    c\n dtype: object,\n '.get_indexer()',\n 0    c\n 1    a\n 2    b\n 3    b\n 4    c\n 5    a\n dtype: object,\n '',\n 'pandas.Index(unique_vals).get_indexer(to_match)',\n array([0, 2, 1, 1, 0, 2]),\n '',\n '.apply(pandas.value_counts).fillna(0)',\n    Qu1  Qu2  Qu3\n 1  1.0  1.0  1.0\n 2  0.0  2.0  1.0\n 3  2.0  2.0  0.0\n 4  2.0  0.0  2.0\n 5  0.0  0.0  1.0]"
     },
     "execution_count": 40,
     "metadata": {},
     "output_type": "execute_result"
    }
   ],
   "source": [
    "obj = pandas.Series(['c', 'a', 'd', 'a', 'a', 'b', 'b', 'c', 'c'])\n",
    "to_match = pandas.Series(['c', 'a', 'b', 'b', 'c', 'a'])\n",
    "unique_vals = pandas.Series(list('cba'))\n",
    "data = pandas.DataFrame({'Qu1': [1, 3, 4, 3, 4], 'Qu2': [2, 3, 1, 2, 3],\n",
    "                     'Qu3': [1, 5, 2, 4, 4]})\n",
    "v = [\n",
    "    obj, '',\"obj.unique()\",\n",
    "    obj.unique(), '',\"obj.value_counts()\",\n",
    "    obj.value_counts(), '','',\n",
    "    pandas.value_counts(obj.values, sort=False), '',\"series.isin()\",\n",
    "    # .isin() practice\n",
    "    obj.isin(['b','c']), 'obj[objd.is`in([\"b\",\"c\"])]',\n",
    "    obj[obj.isin(['b','c'])], \".get_indexer()\",\n",
    "    # .get_indexer() practice\n",
    "    to_match, '', 'pandas.Index(unique_vals).get_indexer(to_match)',\n",
    "    pandas.Index(unique_vals).get_indexer(to_match), '', '.apply(pandas.value_counts).fillna(0)',\n",
    "\n",
    "    # <3 <3 use pandas.value_counts inside frame.apply().fillna(0) <3 <3\n",
    "    data.apply(pandas.value_counts).fillna(0)\n",
    "]\n",
    "v"
   ]
  },
  {
   "cell_type": "code",
   "execution_count": 40,
   "metadata": {
    "pycharm": {
     "name": "#%%\n"
    }
   },
   "outputs": [],
   "source": []
  }
 ],
 "metadata": {
  "kernelspec": {
   "display_name": "Python 3",
   "language": "python",
   "name": "python3"
  },
  "language_info": {
   "codemirror_mode": {
    "name": "ipython",
    "version": 3
   },
   "file_extension": ".py",
   "mimetype": "text/x-python",
   "name": "python",
   "nbconvert_exporter": "python",
   "pygments_lexer": "ipython3",
   "version": "3.9.1"
  }
 },
 "nbformat": 4,
 "nbformat_minor": 1
}