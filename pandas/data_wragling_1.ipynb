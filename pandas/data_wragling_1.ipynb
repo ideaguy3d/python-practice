{
 "cells": [
  {
   "cell_type": "code",
   "execution_count": 1,
   "outputs": [],
   "source": [
    "import numpy as np\n",
    "import pandas"
   ],
   "metadata": {
    "collapsed": false,
    "pycharm": {
     "name": "#%%\n"
    }
   }
  },
  {
   "cell_type": "markdown",
   "metadata": {
    "collapsed": true,
    "pycharm": {
     "name": "#%% md\n"
    }
   },
   "source": [
    "# Hierarchical Indexing"
   ]
  },
  {
   "cell_type": "code",
   "execution_count": 9,
   "outputs": [
    {
     "data": {
      "text/plain": "[a  1    0\n    2    1\n    3    2\n b  1    3\n    3    4\n c  1    5\n    2    6\n d  2    7\n    3    8\n dtype: int64,\n '',\n 'data.index',\n MultiIndex([('a', 1),\n             ('a', 2),\n             ('a', 3),\n             ('b', 1),\n             ('b', 3),\n             ('c', 1),\n             ('c', 2),\n             ('d', 2),\n             ('d', 3)],\n            ),\n '',\n 'data[\"b\"]',\n 1    3\n 3    4\n dtype: int64,\n '',\n 'data[\"b\":\"c\"]',\n b  1    3\n    3    4\n c  1    5\n    2    6\n dtype: int64,\n '',\n 'data.loc[[\"b\",\"d\"]]',\n b  1    3\n    3    4\n d  2    7\n    3    8\n dtype: int64,\n '',\n 'data.loc[:, 2]',\n a    1\n c    6\n d    7\n dtype: int64,\n '',\n 'data.unstack',\n      1    2    3\n a  0.0  1.0  2.0\n b  3.0  NaN  4.0\n c  5.0  6.0  NaN\n d  NaN  7.0  8.0,\n '',\n '']"
     },
     "execution_count": 9,
     "metadata": {},
     "output_type": "execute_result"
    }
   ],
   "source": [
    "# code\n",
    "data = pandas.Series(\n",
    "    np.arange(9),\n",
    "    index=[['a', 'a', 'a', 'b', 'b', 'c', 'c', 'd', 'd'],\n",
    "           [1, 2, 3, 1, 3, 1, 2, 2, 3]]\n",
    ")\n",
    "\n",
    "o = [\n",
    "    data, '','data.index',\n",
    "    data.index, '','data[\"b\"]',\n",
    "    # can query the multi-index\n",
    "    data['b'], '','data[\"b\":\"c\"]',\n",
    "    data['b':'c'], '','data.loc[[\"b\",\"d\"]]',\n",
    "    data.loc[['b', 'd']], '','data.loc[:, 2]',\n",
    "    data.loc[:, 2], '','data.unstack',\n",
    "    data.unstack(), '',''\n",
    "]\n",
    "o"
   ],
   "metadata": {
    "collapsed": false,
    "pycharm": {
     "name": "#%%\n"
    }
   }
  },
  {
   "cell_type": "code",
   "execution_count": 15,
   "outputs": [
    {
     "data": {
      "text/plain": "[state        Ohio     Colorado\n color       Green Red    Green\n phase group                   \n 1     1         0   1        2\n       2         3   4        5\n 2     1         6   7        8\n       2         9  10       11,\n '',\n 'frame[\"Ohio\"]',\n color        Green  Red\n phase group            \n 1     1          0    1\n       2          3    4\n 2     1          6    7\n       2          9   10]"
     },
     "execution_count": 15,
     "metadata": {},
     "output_type": "execute_result"
    }
   ],
   "source": [
    "# dataframes\n",
    "frame = pandas.DataFrame(np.arange(12).reshape(4,3),\n",
    "                         # ['a', 'a', 'b', 'b']\n",
    "                        index=[[1,1,2,2], [1, 2, 1, 2]],\n",
    "                        columns=[['Ohio', 'Ohio', 'Colorado'],\n",
    "                                ['Green', 'Red', 'Green']])\n",
    "frame.index.names = ['phase', 'group']\n",
    "frame.columns.names = ['state', 'color']\n",
    "o = [\n",
    "    frame, '','frame[\"Ohio\"]',\n",
    "    frame['Ohio'], '','',\n",
    "]\n",
    "o"
   ],
   "metadata": {
    "collapsed": false,
    "pycharm": {
     "name": "#%%\n"
    }
   }
  },
  {
   "cell_type": "code",
   "execution_count": 14,
   "outputs": [
    {
     "data": {
      "text/plain": "state        Ohio     Colorado\ncolor       Green Red    Green\nphase group                   \n1     1         0   1        2\n      2         3   4        5\n2     1         6   7        8\n      2         9  10       11",
      "text/html": "<div>\n<style scoped>\n    .dataframe tbody tr th:only-of-type {\n        vertical-align: middle;\n    }\n\n    .dataframe tbody tr th {\n        vertical-align: top;\n    }\n\n    .dataframe thead tr th {\n        text-align: left;\n    }\n\n    .dataframe thead tr:last-of-type th {\n        text-align: right;\n    }\n</style>\n<table border=\"1\" class=\"dataframe\">\n  <thead>\n    <tr>\n      <th></th>\n      <th>state</th>\n      <th colspan=\"2\" halign=\"left\">Ohio</th>\n      <th>Colorado</th>\n    </tr>\n    <tr>\n      <th></th>\n      <th>color</th>\n      <th>Green</th>\n      <th>Red</th>\n      <th>Green</th>\n    </tr>\n    <tr>\n      <th>phase</th>\n      <th>group</th>\n      <th></th>\n      <th></th>\n      <th></th>\n    </tr>\n  </thead>\n  <tbody>\n    <tr>\n      <th rowspan=\"2\" valign=\"top\">1</th>\n      <th>1</th>\n      <td>0</td>\n      <td>1</td>\n      <td>2</td>\n    </tr>\n    <tr>\n      <th>2</th>\n      <td>3</td>\n      <td>4</td>\n      <td>5</td>\n    </tr>\n    <tr>\n      <th rowspan=\"2\" valign=\"top\">2</th>\n      <th>1</th>\n      <td>6</td>\n      <td>7</td>\n      <td>8</td>\n    </tr>\n    <tr>\n      <th>2</th>\n      <td>9</td>\n      <td>10</td>\n      <td>11</td>\n    </tr>\n  </tbody>\n</table>\n</div>"
     },
     "execution_count": 14,
     "metadata": {},
     "output_type": "execute_result"
    }
   ],
   "source": [
    "frame"
   ],
   "metadata": {
    "collapsed": false,
    "pycharm": {
     "name": "#%%\n"
    }
   }
  },
  {
   "cell_type": "markdown",
   "source": [
    "## Reordering and Sorting Levels"
   ],
   "metadata": {
    "collapsed": false
   }
  },
  {
   "cell_type": "code",
   "execution_count": 19,
   "outputs": [
    {
     "data": {
      "text/plain": "[state        Ohio     Colorado\n color       Green Red    Green\n phase group                   \n 1     1         0   1        2\n       2         3   4        5\n 2     1         6   7        8\n       2         9  10       11,\n '',\n \"frame.swaplevel('group', 'phase')\",\n state        Ohio     Colorado\n color       Green Red    Green\n group phase                   \n 1     1         0   1        2\n 2     1         3   4        5\n 1     2         6   7        8\n 2     2         9  10       11,\n '',\n 'frame.sort_index(level=1)',\n state        Ohio     Colorado\n color       Green Red    Green\n phase group                   \n 1     1         0   1        2\n 2     1         6   7        8\n 1     2         3   4        5\n 2     2         9  10       11,\n '',\n \"frame.swaplevel('phase','group').sort_index(level=0)\",\n state        Ohio     Colorado\n color       Green Red    Green\n group phase                   \n 1     1         0   1        2\n       2         6   7        8\n 2     1         3   4        5\n       2         9  10       11]"
     },
     "execution_count": 19,
     "metadata": {},
     "output_type": "execute_result"
    }
   ],
   "source": [
    "# methods to rem\n",
    "\"\"\"\n",
    ".swaplevel()\n",
    ".sortindex()\n",
    "\"\"\"\n",
    "\n",
    "# code\n",
    "o = [\n",
    "    frame, '',\"frame.swaplevel('group', 'phase')\",\n",
    "    frame.swaplevel('group', 'phase'), '','frame.sort_index(level=1)',\n",
    "    frame.sort_index(level=1), '',\"frame.swaplevel('phase','group').sort_index(level=0)\",\n",
    "    frame.swaplevel('phase','group').sort_index(level=0)\n",
    "]\n",
    "o"
   ],
   "metadata": {
    "collapsed": false,
    "pycharm": {
     "name": "#%%\n"
    }
   }
  },
  {
   "cell_type": "code",
   "execution_count": null,
   "outputs": [],
   "source": [],
   "metadata": {
    "collapsed": false,
    "pycharm": {
     "name": "#%%\n"
    }
   }
  },
  {
   "cell_type": "markdown",
   "source": [
    "## Summary Statistics by Level"
   ],
   "metadata": {
    "collapsed": false
   }
  },
  {
   "cell_type": "code",
   "execution_count": null,
   "outputs": [],
   "source": [
    "# code"
   ],
   "metadata": {
    "collapsed": false,
    "pycharm": {
     "name": "#%%\n"
    }
   }
  },
  {
   "cell_type": "markdown",
   "source": [
    "## Indexing with a Dataframes columns"
   ],
   "metadata": {
    "collapsed": false
   }
  },
  {
   "cell_type": "code",
   "execution_count": null,
   "outputs": [],
   "source": [
    "# code"
   ],
   "metadata": {
    "collapsed": false,
    "pycharm": {
     "name": "#%%\n"
    }
   }
  },
  {
   "cell_type": "markdown",
   "source": [
    "# Combining and Merging Datasets\n",
    "## Database-Style DataFrame Joins"
   ],
   "metadata": {
    "collapsed": false
   }
  },
  {
   "cell_type": "code",
   "execution_count": null,
   "outputs": [],
   "source": [
    "df1 = pandas.DataFrame({'key': ['b', 'b', 'a', 'c', 'a', 'a', 'b'], 'data1': range(7)})\n",
    "df2 = pandas.DataFrame({'key': ['a', 'b', 'd'], 'data2': np.arange(3) + 100})\n",
    "df3 = pandas.DataFrame({'lkey': ['b', 'b', 'a', 'c', 'a', 'a', 'b'], 'data1': range(7)})\n",
    "df4 = pandas.DataFrame({'rkey': ['a', 'b', 'd'], 'data2': range(3)})\n",
    "\n",
    "o = [\n",
    "    '','',\n",
    "    df1, '','',\n",
    "    df2, '','pandas.merge(df1, df2, on=\"key\")',\n",
    "    pandas.merge(df1, df2, on='key'), '','pandas.merge(df3, df4, left_on=\"lkey\", right_on=\"rkey\")',\n",
    "    pandas.merge(df3, df4, left_on='lkey', right_on='rkey'), '','.merge(..., how=\"outer\")',\n",
    "    pandas.merge(df1, df2, how='outer')\n",
    "]\n",
    "o"
   ],
   "metadata": {
    "collapsed": false,
    "pycharm": {
     "name": "#%%\n"
    }
   }
  },
  {
   "cell_type": "code",
   "execution_count": null,
   "outputs": [],
   "source": [
    "# many-to-many joins, form the cartesian product of the rows\n",
    "df1 = pandas.DataFrame({'key': ['b', 'b', 'a', 'c', 'a', 'b'], 'data1': range(6)})\n",
    "df2 = pandas.DataFrame({'key': ['a', 'b', 'a', 'b', 'd'], 'data2': range(5)})\n",
    "left = pandas.DataFrame({'key1': ['foo', 'foo', 'bar'],\n",
    "                         'key2': ['one', 'two', 'one'],\n",
    "                         'lval': [1, 2, 3]})\n",
    "right = pandas.DataFrame({'key1': ['foo', 'foo', 'bar', 'bar'],\n",
    "                          'key2': ['one', 'one', 'one', 'two'],\n",
    "                          'rval': [4, 5, 6, 7]})\n",
    "left1 = pandas.DataFrame({'key': ['a', 'b', 'a', 'a', 'b', 'c'], 'value': range(6)})\n",
    "right1 = pandas.DataFrame({'group_val': [10.5, 20.5]}, index=['a', 'b'])\n",
    "\n",
    "o = [\n",
    "    '','pandas.merge(df1, df2, on=\"key\", how=\"left\")',\n",
    "    pandas.merge(df1, df2, on='key', how='left'), '','pandas.merge(df1, df2, how=\"inner\")',\n",
    "    pandas.merge(df1, df2, on='key', how='inner'), '','left',\n",
    "    left, '','right',\n",
    "    right, '','pandas.merge(left, right, on=[\"key1\",\"key2\"], how=\"outer\")',\n",
    "    pandas.merge(left, right, on=['key1', 'key2'], how='outer'), '','pandas.merge(left, right, on=\"key1\", suffixes=(\"_left\",\"_right\"))',\n",
    "    pandas.merge(left, right, on='key1', suffixes=('_left', '_right')), '','left1',\n",
    "    left1, '','right1',\n",
    "    right1, '','pandas.merge(left1, right1, left_on=\"key\", right_index=True)',\n",
    "    pandas.merge(left1, right1, left_on='key', right_index=True), '','.merge(L, R, left_key=\"key\", right_index=True, how=\"outer\"',\n",
    "    pandas.merge(left1, right1, left_on='key', right_index=True, how='outer'),\n",
    "\n",
    "]\n",
    "o"
   ],
   "metadata": {
    "collapsed": false,
    "pycharm": {
     "name": "#%%\n"
    }
   }
  },
  {
   "cell_type": "markdown",
   "source": [
    "## Merging on Index"
   ],
   "metadata": {
    "collapsed": false
   }
  },
  {
   "cell_type": "code",
   "execution_count": null,
   "outputs": [],
   "source": [
    "lefth = pandas.DataFrame({'key1': ['Ohio', 'Ohio', 'Ohio', 'Nevada', 'Nevada'],\n",
    "                          'key2': [2000, 2001, 2002, 2001, 2002],\n",
    "                          'data': np.arange(5.)})\n",
    "righth = pandas.DataFrame(np.arange(12.).reshape((6, 2)),\n",
    "                          index=[['Nevada', 'Nevada', 'Ohio', 'Ohio', 'Ohio', 'Ohio'],\n",
    "                                 [2001, 2000, 2000, 2000, 2001, 2002]],\n",
    "                          columns=['event1', 'event2'])\n",
    "left2 = pandas.DataFrame([[1., 2.], [3., 4.], [5., 6.]], index=['a', 'c', 'e'], columns=['Ohio', 'Nevada'])\n",
    "right2 = pandas.DataFrame([[7., 8.], [9., 10.], [11., 12.], [13, 14]], index=['b', 'c', 'd', 'e'], columns=['Missouri', 'Alabama'])\n",
    "o = [\n",
    "    '','lefth',\n",
    "    lefth, '','righth',\n",
    "    righth, '','.merge(L, R, left_on=[\"key1\",\"key2\"], right_index=True, how=\"outer\")',\n",
    "    pandas.merge(lefth, righth, left_on=['key1', 'key2'], right_index=True, how='outer'), '','left2',\n",
    "    left2, '','right2',\n",
    "    right2, '','.merge(L, R, how=\"outer\", left_index=True, right_index=True)',\n",
    "    pandas.merge(left2, right2, how='outer', left_index=True, right_index=True), '','',\n",
    "]\n",
    "o"
   ],
   "metadata": {
    "collapsed": false,
    "pycharm": {
     "name": "#%%\n"
    }
   }
  },
  {
   "cell_type": "markdown",
   "source": [
    "## Concatenating Along an Axis"
   ],
   "metadata": {
    "collapsed": false
   }
  },
  {
   "cell_type": "code",
   "execution_count": null,
   "outputs": [],
   "source": [
    "# code"
   ],
   "metadata": {
    "collapsed": false,
    "pycharm": {
     "name": "#%%\n"
    }
   }
  },
  {
   "cell_type": "markdown",
   "source": [
    "## Combining Data w/Overlap"
   ],
   "metadata": {
    "collapsed": false
   }
  },
  {
   "cell_type": "code",
   "execution_count": null,
   "outputs": [],
   "source": [
    "# code"
   ],
   "metadata": {
    "collapsed": false,
    "pycharm": {
     "name": "#%%\n"
    }
   }
  },
  {
   "cell_type": "markdown",
   "source": [
    "# Reshaping and Pivoting"
   ],
   "metadata": {
    "collapsed": false
   }
  },
  {
   "cell_type": "code",
   "execution_count": null,
   "outputs": [],
   "source": [
    "# code"
   ],
   "metadata": {
    "collapsed": false,
    "pycharm": {
     "name": "#%%\n"
    }
   }
  },
  {
   "cell_type": "markdown",
   "source": [
    "## Reshaping with Hierarchical Indexing"
   ],
   "metadata": {
    "collapsed": false
   }
  },
  {
   "cell_type": "code",
   "execution_count": null,
   "outputs": [],
   "source": [
    "# code"
   ],
   "metadata": {
    "collapsed": false,
    "pycharm": {
     "name": "#%%\n"
    }
   }
  },
  {
   "cell_type": "markdown",
   "source": [
    "## Pivoting \"Long\" to \"Wide\" Format"
   ],
   "metadata": {
    "collapsed": false
   }
  },
  {
   "cell_type": "code",
   "execution_count": null,
   "outputs": [],
   "source": [
    "# code"
   ],
   "metadata": {
    "collapsed": false,
    "pycharm": {
     "name": "#%%\n"
    }
   }
  },
  {
   "cell_type": "markdown",
   "source": [
    "## Pivoting \"Wide\" to \"Long\" Format"
   ],
   "metadata": {
    "collapsed": false
   }
  },
  {
   "cell_type": "code",
   "execution_count": null,
   "outputs": [],
   "source": [
    "# code\n"
   ],
   "metadata": {
    "collapsed": false,
    "pycharm": {
     "name": "#%%\n"
    }
   }
  }
 ],
 "metadata": {
  "kernelspec": {
   "display_name": "Python 3",
   "language": "python",
   "name": "python3"
  },
  "language_info": {
   "codemirror_mode": {
    "name": "ipython",
    "version": 2
   },
   "file_extension": ".py",
   "mimetype": "text/x-python",
   "name": "python",
   "nbconvert_exporter": "python",
   "pygments_lexer": "ipython2",
   "version": "2.7.6"
  }
 },
 "nbformat": 4,
 "nbformat_minor": 0
}