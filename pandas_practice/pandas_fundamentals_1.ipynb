{
 "cells": [
  {
   "cell_type": "code",
   "execution_count": 1,
   "outputs": [],
   "source": [
    "import numpy as np\n",
    "import pandas"
   ],
   "metadata": {
    "collapsed": false,
    "pycharm": {
     "name": "#%%\n"
    }
   }
  },
  {
   "cell_type": "markdown",
   "source": [
    "## Re-indexing"
   ],
   "metadata": {
    "collapsed": false,
    "pycharm": {
     "name": "#%% md\n"
    }
   }
  },
  {
   "cell_type": "code",
   "metadata": {
    "collapsed": true,
    "pycharm": {
     "name": "#%%\n"
    }
   },
   "source": [
    "# Series Objects\n",
    "\"\"\"\n",
    ".reindex(index, method)\n",
    "\"\"\"\n",
    "\n",
    "obj = pandas.Series(np.arange(4), index=['d', 'b', 'a', 'c'])\n",
    "obj_reindex = obj.reindex(['d', 'b', 'a', 'c', 'e'])\n",
    "o = [\n",
    "    '','obj',\n",
    "    obj, '','obj.reindex(index)',\n",
    "    obj_reindex, '', 'obj.sort_index()',\n",
    "    obj_reindex.sort_index(), '','',  # from the next section\n",
    "]\n",
    "o"
   ],
   "execution_count": 2,
   "outputs": [
    {
     "data": {
      "text/plain": "['',\n 'obj',\n d    0\n b    1\n a    2\n c    3\n dtype: int64,\n '',\n 'obj.reindex(index)',\n d    0.0\n b    1.0\n a    2.0\n c    3.0\n e    NaN\n dtype: float64,\n '',\n 'obj.sort_index()',\n a    2.0\n b    1.0\n c    3.0\n d    0.0\n e    NaN\n dtype: float64,\n '',\n '']"
     },
     "execution_count": 2,
     "metadata": {},
     "output_type": "execute_result"
    }
   ]
  },
  {
   "cell_type": "markdown",
   "source": [
    "## Sorting & Ranking\n",
    "#### Sorting"
   ],
   "metadata": {
    "collapsed": false,
    "pycharm": {
     "name": "#%% md\n"
    }
   }
  },
  {
   "cell_type": "code",
   "execution_count": 6,
   "outputs": [
    {
     "data": {
      "text/plain": "['',\n 'frame',\n        d  a  b  c\n three  1  2  3  4\n one    5  6  7  8,\n '',\n 'frame.sort_index()',\n        d  a  b  c\n one    5  6  7  8\n three  1  2  3  4,\n '',\n 'frame.sort_index(axis=1)',\n        a  b  c  d\n three  2  3  4  1\n one    6  7  8  5,\n '',\n 'obj',\n 0    4\n 1    7\n 2   -3\n 3    2\n dtype: int64,\n '',\n 'obj.sort_values()',\n 2   -3\n 3    2\n 0    4\n 1    7\n dtype: int64,\n '',\n 'frame2',\n    b  a\n 0  4  0\n 1  7  1\n 2 -3  0\n 3  2  1,\n '',\n 'frame2.sort_values(by=\"b\")',\n    b  a\n 2 -3  0\n 3  2  1\n 0  4  0\n 1  7  1,\n '',\n 'frame2.sort_values(by=[\"a\",\"b\"])',\n    b  a\n 2 -3  0\n 0  4  0\n 3  2  1\n 1  7  1,\n '',\n 'frame2.sort_values(b=[\"b\",\"a\"])',\n    b  a\n 2 -3  0\n 3  2  1\n 0  4  0\n 1  7  1,\n '',\n '']"
     },
     "execution_count": 6,
     "metadata": {},
     "output_type": "execute_result"
    }
   ],
   "source": [
    "\"\"\"\n",
    "_mem:\n",
    ".sort_index(axis)\n",
    ".sort_values()\n",
    "\"\"\"\n",
    "frame = pandas.DataFrame(np.arange(8).reshape(2, 4) + 1,\n",
    "                         index=['three', 'one'],\n",
    "                         columns=['d', 'a', 'b', 'c'])\n",
    "frame2 = pandas.DataFrame({'b': [4,7,-3,2], 'a': [0,1,0,1]})\n",
    "obj = pandas.Series([4,7,-3,2])\n",
    "o = [\n",
    "    '', 'frame',\n",
    "    frame, '','frame.sort_index()',\n",
    "    frame.sort_index(), '','frame.sort_index(axis=1)',\n",
    "    frame.sort_index(axis=1), '','obj',\n",
    "    obj, '','obj.sort_values()',\n",
    "    obj.sort_values(), '','frame2',\n",
    "    frame2, '','frame2.sort_values(by=\"b\")',\n",
    "    frame2.sort_values(by='b'), '','frame2.sort_values(by=[\"a\",\"b\"])  # good',\n",
    "    frame2.sort_values(by=['a','b']), '','frame2.sort_values(b=[\"b\",\"a\"])  # bad',\n",
    "    frame2.sort_values(by=[\"b\",\"a\"]), '','',\n",
    "]\n",
    "o"
   ],
   "metadata": {
    "collapsed": false,
    "pycharm": {
     "name": "#%%\n"
    }
   }
  },
  {
   "cell_type": "markdown",
   "source": [
    "#### Ranking"
   ],
   "metadata": {
    "collapsed": false,
    "pycharm": {
     "name": "#%% md\n"
    }
   }
  },
  {
   "cell_type": "code",
   "execution_count": 8,
   "outputs": [
    {
     "data": {
      "text/plain": "['',\n 'obj',\n 0    7\n 1   -5\n 2    7\n 3    4\n 4    2\n 5    0\n 6    4\n dtype: int64,\n '',\n 'obj.rank()',\n 0    6.5\n 1    1.0\n 2    6.5\n 3    4.5\n 4    3.0\n 5    2.0\n 6    4.5\n dtype: float64,\n '',\n 'obj.rank(method=\"first\")',\n 0    6.0\n 1    1.0\n 2    7.0\n 3    4.0\n 4    3.0\n 5    2.0\n 6    5.0\n dtype: float64,\n '',\n 'obj.rank(ascending=False, method=\"max\")',\n 0    2.0\n 1    7.0\n 2    2.0\n 3    4.0\n 4    5.0\n 5    6.0\n 6    4.0\n dtype: float64,\n '',\n 'frame',\n      b  a    c\n 0  4.3  0 -2.0\n 1  7.0  1  5.0\n 2 -3.0  0  8.0\n 3  2.0  1 -2.5,\n '',\n 'frame.rank(axis=\"columns\")',\n      b    a    c\n 0  3.0  2.0  1.0\n 1  3.0  1.0  2.0\n 2  1.0  2.0  3.0\n 3  3.0  2.0  1.0]"
     },
     "execution_count": 8,
     "metadata": {},
     "output_type": "execute_result"
    }
   ],
   "source": [
    "\"\"\"\n",
    "_mem:\n",
    "Frame.rank(method, axis)\n",
    "Series.rank(method)\n",
    "\"\"\"\n",
    "obj = pandas.Series([7, -5, 7, 4, 2, 0, 4])\n",
    "frame = pandas.DataFrame({'b': [4.3, 7, -3, 2], 'a': [0, 1, 0, 1], 'c': [-2, 5, 8, -2.5]})\n",
    "o = [\n",
    "    '','obj',\n",
    "    obj, '','obj.rank()',\n",
    "    obj.rank(), '','obj.rank(method=\"first\")',\n",
    "    obj.rank(method=\"first\"), '','obj.rank(ascending=False, method=\"max\")',\n",
    "    obj.rank(ascending=False, method='max'), '','frame',\n",
    "    frame, '','frame.rank(axis=\"columns\")',\n",
    "    frame.rank(axis='columns')\n",
    "]\n",
    "o"
   ],
   "metadata": {
    "collapsed": false,
    "pycharm": {
     "name": "#%%\n"
    }
   }
  },
  {
   "cell_type": "markdown",
   "source": [
    "## Axis Indexes with Duplicate Labels"
   ],
   "metadata": {
    "collapsed": false,
    "pycharm": {
     "name": "#%% md\n"
    }
   }
  },
  {
   "cell_type": "code",
   "execution_count": null,
   "outputs": [],
   "source": [
    "\"\"\"\n",
    "_mem: \n",
    "\n",
    "\"\"\""
   ],
   "metadata": {
    "collapsed": false,
    "pycharm": {
     "name": "#%%\n"
    }
   }
  }
 ],
 "metadata": {
  "kernelspec": {
   "display_name": "Python 3",
   "language": "python",
   "name": "python3"
  },
  "language_info": {
   "codemirror_mode": {
    "name": "ipython",
    "version": 2
   },
   "file_extension": ".py",
   "mimetype": "text/x-python",
   "name": "python",
   "nbconvert_exporter": "python",
   "pygments_lexer": "ipython2",
   "version": "2.7.6"
  }
 },
 "nbformat": 4,
 "nbformat_minor": 0
}