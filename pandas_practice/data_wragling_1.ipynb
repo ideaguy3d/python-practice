{
 "cells": [
  {
   "cell_type": "code",
   "execution_count": 19,
   "outputs": [],
   "source": [
    "import numpy as np\n",
    "import pandas"
   ],
   "metadata": {
    "collapsed": false,
    "pycharm": {
     "name": "#%%\n"
    }
   }
  },
  {
   "cell_type": "markdown",
   "metadata": {
    "collapsed": true,
    "pycharm": {
     "name": "#%% md\n"
    }
   },
   "source": [
    "# Hierarchical Indexing"
   ]
  },
  {
   "cell_type": "code",
   "execution_count": 20,
   "outputs": [
    {
     "data": {
      "text/plain": "[state        Ohio     Colorado\n color       Green Red    Green\n phase group                   \n 1     1         1   2        3\n       2         4   5        6\n 2     1         7   8        9\n       2        10  11       12,\n '',\n 'frame[\"Ohio\"]',\n color        Green  Red\n phase group            \n 1     1          1    2\n       2          4    5\n 2     1          7    8\n       2         10   11,\n '',\n '']"
     },
     "execution_count": 20,
     "metadata": {},
     "output_type": "execute_result"
    }
   ],
   "source": [
    "# code\n",
    "data = pandas.Series(\n",
    "    np.arange(9),\n",
    "    index=[['a', 'a', 'a', 'b', 'b', 'c', 'c', 'd', 'd'],\n",
    "           [1, 2, 3, 1, 3, 1, 2, 2, 3]]\n",
    ")\n",
    "\n",
    "o = [\n",
    "    data, '','data.index',\n",
    "    data.index, '','data[\"b\"]',\n",
    "    # can query the multi-index\n",
    "    data['b'], '','data[\"b\":\"c\"]',\n",
    "    data['b':'c'], '','data.loc[[\"b\",\"d\"]]',\n",
    "    data.loc[['b', 'd']], '','data.loc[:, 2]',\n",
    "    data.loc[:, 2], '','data.unstack',\n",
    "    data.unstack(), '',''\n",
    "]\n",
    "o\n",
    "\n",
    "# dataframes\n",
    "frame = pandas.DataFrame(np.arange(12).reshape(4,3) + 1,\n",
    "                         # ['a', 'a', 'b', 'b']\n",
    "                        index=[[1,1,2,2], [1, 2, 1, 2]],\n",
    "                        columns=[['Ohio', 'Ohio', 'Colorado'],\n",
    "                                ['Green', 'Red', 'Green']])\n",
    "frame.index.names = ['phase', 'group']\n",
    "frame.columns.names = ['state', 'color']\n",
    "o = [\n",
    "    frame, '','frame[\"Ohio\"]',\n",
    "    frame['Ohio'], '','',\n",
    "]\n",
    "o"
   ],
   "metadata": {
    "collapsed": false,
    "pycharm": {
     "name": "#%%\n"
    }
   }
  },
  {
   "cell_type": "code",
   "execution_count": 21,
   "outputs": [
    {
     "data": {
      "text/plain": "state        Ohio     Colorado\ncolor       Green Red    Green\nphase group                   \n1     1         1   2        3\n      2         4   5        6\n2     1         7   8        9\n      2        10  11       12",
      "text/html": "<div>\n<style scoped>\n    .dataframe tbody tr th:only-of-type {\n        vertical-align: middle;\n    }\n\n    .dataframe tbody tr th {\n        vertical-align: top;\n    }\n\n    .dataframe thead tr th {\n        text-align: left;\n    }\n\n    .dataframe thead tr:last-of-type th {\n        text-align: right;\n    }\n</style>\n<table border=\"1\" class=\"dataframe\">\n  <thead>\n    <tr>\n      <th></th>\n      <th>state</th>\n      <th colspan=\"2\" halign=\"left\">Ohio</th>\n      <th>Colorado</th>\n    </tr>\n    <tr>\n      <th></th>\n      <th>color</th>\n      <th>Green</th>\n      <th>Red</th>\n      <th>Green</th>\n    </tr>\n    <tr>\n      <th>phase</th>\n      <th>group</th>\n      <th></th>\n      <th></th>\n      <th></th>\n    </tr>\n  </thead>\n  <tbody>\n    <tr>\n      <th rowspan=\"2\" valign=\"top\">1</th>\n      <th>1</th>\n      <td>1</td>\n      <td>2</td>\n      <td>3</td>\n    </tr>\n    <tr>\n      <th>2</th>\n      <td>4</td>\n      <td>5</td>\n      <td>6</td>\n    </tr>\n    <tr>\n      <th rowspan=\"2\" valign=\"top\">2</th>\n      <th>1</th>\n      <td>7</td>\n      <td>8</td>\n      <td>9</td>\n    </tr>\n    <tr>\n      <th>2</th>\n      <td>10</td>\n      <td>11</td>\n      <td>12</td>\n    </tr>\n  </tbody>\n</table>\n</div>"
     },
     "execution_count": 21,
     "metadata": {},
     "output_type": "execute_result"
    }
   ],
   "source": [
    "frame  # hierarchical index"
   ],
   "metadata": {
    "collapsed": false,
    "pycharm": {
     "name": "#%%\n"
    }
   }
  },
  {
   "cell_type": "markdown",
   "source": [
    "## Reordering and Sorting Levels"
   ],
   "metadata": {
    "collapsed": false
   }
  },
  {
   "cell_type": "code",
   "execution_count": 22,
   "outputs": [
    {
     "data": {
      "text/plain": "[state        Ohio     Colorado\n color       Green Red    Green\n phase group                   \n 1     1         1   2        3\n       2         4   5        6\n 2     1         7   8        9\n       2        10  11       12,\n '',\n \"frame.swaplevel('group', 'phase')\",\n state        Ohio     Colorado\n color       Green Red    Green\n group phase                   \n 1     1         1   2        3\n 2     1         4   5        6\n 1     2         7   8        9\n 2     2        10  11       12,\n '',\n 'frame.sort_index(level=1)',\n state        Ohio     Colorado\n color       Green Red    Green\n phase group                   \n 1     1         1   2        3\n 2     1         7   8        9\n 1     2         4   5        6\n 2     2        10  11       12,\n '',\n \"frame.swaplevel('phase','group').sort_index(level=0)\",\n state        Ohio     Colorado\n color       Green Red    Green\n group phase                   \n 1     1         1   2        3\n       2         7   8        9\n 2     1         4   5        6\n       2        10  11       12]"
     },
     "execution_count": 22,
     "metadata": {},
     "output_type": "execute_result"
    }
   ],
   "source": [
    "# methods to rem\n",
    "\"\"\"\n",
    ".swaplevel()\n",
    ".sortindex()\n",
    "\"\"\"\n",
    "\n",
    "# code\n",
    "o = [\n",
    "    frame, '',\"frame.swaplevel('group', 'phase')\",\n",
    "    frame.swaplevel('group', 'phase'), '','frame.sort_index(level=1)',\n",
    "    frame.sort_index(level=1), '',\"frame.swaplevel('phase','group').sort_index(level=0)\",\n",
    "    frame.swaplevel('phase','group').sort_index(level=0)\n",
    "]\n",
    "o"
   ],
   "metadata": {
    "collapsed": false,
    "pycharm": {
     "name": "#%%\n"
    }
   }
  },
  {
   "cell_type": "markdown",
   "source": [
    "## Summary Statistics by Level"
   ],
   "metadata": {
    "collapsed": false
   }
  },
  {
   "cell_type": "code",
   "execution_count": 23,
   "outputs": [
    {
     "data": {
      "text/plain": "['',\n 'frame.sum(level=\"group\")',\n state  Ohio     Colorado\n color Green Red    Green\n group                   \n 1         8  10       12\n 2        14  16       18,\n '',\n 'frame.sum(level=\"color\", axis=1)',\n color        Green  Red\n phase group            \n 1     1          4    2\n       2         10    5\n 2     1         16    8\n       2         22   11,\n '',\n '']"
     },
     "execution_count": 23,
     "metadata": {},
     "output_type": "execute_result"
    }
   ],
   "source": [
    "\"\"\"\n",
    ".sum(level, axis)\n",
    "\"\"\"\n",
    "\n",
    "# code\n",
    "o = [\n",
    "    '', 'frame.sum(level=\"group\")',\n",
    "    frame.sum(level='group'), '','frame.sum(level=\"color\", axis=1)',\n",
    "    frame.sum(level=\"color\", axis=1), '','',\n",
    "]\n",
    "o"
   ],
   "metadata": {
    "collapsed": false,
    "pycharm": {
     "name": "#%%\n"
    }
   }
  },
  {
   "cell_type": "markdown",
   "source": [
    "## Indexing with a Dataframes columns"
   ],
   "metadata": {
    "collapsed": false
   }
  },
  {
   "cell_type": "code",
   "execution_count": 24,
   "outputs": [],
   "source": [
    "# code"
   ],
   "metadata": {
    "collapsed": false,
    "pycharm": {
     "name": "#%%\n"
    }
   }
  },
  {
   "cell_type": "markdown",
   "source": [
    "# Combining and Merging Datasets\n",
    "## Database-Style DataFrame Joins"
   ],
   "metadata": {
    "collapsed": false
   }
  },
  {
   "cell_type": "code",
   "execution_count": 25,
   "outputs": [
    {
     "data": {
      "text/plain": "['',\n '',\n   key  data1\n 0   b      0\n 1   b      1\n 2   a      2\n 3   c      3\n 4   a      4\n 5   a      5\n 6   b      6,\n '',\n '',\n   key  data2\n 0   a    100\n 1   b    101\n 2   d    102,\n '',\n 'pandas.merge(df1, df2, on=\"key\")',\n   key  data1  data2\n 0   b      0    101\n 1   b      1    101\n 2   b      6    101\n 3   a      2    100\n 4   a      4    100\n 5   a      5    100,\n '',\n 'pandas.merge(df3, df4, left_on=\"lkey\", right_on=\"rkey\")',\n   lkey  data1 rkey  data2\n 0    b      0    b      1\n 1    b      1    b      1\n 2    b      6    b      1\n 3    a      2    a      0\n 4    a      4    a      0\n 5    a      5    a      0,\n '',\n '.merge(..., how=\"outer\")',\n   key  data1  data2\n 0   b    0.0  101.0\n 1   b    1.0  101.0\n 2   b    6.0  101.0\n 3   a    2.0  100.0\n 4   a    4.0  100.0\n 5   a    5.0  100.0\n 6   c    3.0    NaN\n 7   d    NaN  102.0]"
     },
     "execution_count": 25,
     "metadata": {},
     "output_type": "execute_result"
    }
   ],
   "source": [
    "df1 = pandas.DataFrame({'key': ['b', 'b', 'a', 'c', 'a', 'a', 'b'], 'data1': range(7)})\n",
    "df2 = pandas.DataFrame({'key': ['a', 'b', 'd'], 'data2': np.arange(3) + 100})\n",
    "df3 = pandas.DataFrame({'lkey': ['b', 'b', 'a', 'c', 'a', 'a', 'b'], 'data1': range(7)})\n",
    "df4 = pandas.DataFrame({'rkey': ['a', 'b', 'd'], 'data2': range(3)})\n",
    "\n",
    "o = [\n",
    "    '','',\n",
    "    df1, '','',\n",
    "    df2, '','pandas.merge(df1, df2, on=\"key\")',\n",
    "    pandas.merge(df1, df2, on='key'), '','pandas.merge(df3, df4, left_on=\"lkey\", right_on=\"rkey\")',\n",
    "    pandas.merge(df3, df4, left_on='lkey', right_on='rkey'), '','.merge(..., how=\"outer\")',\n",
    "    pandas.merge(df1, df2, how='outer')\n",
    "]\n",
    "o"
   ],
   "metadata": {
    "collapsed": false,
    "pycharm": {
     "name": "#%%\n"
    }
   }
  },
  {
   "cell_type": "code",
   "execution_count": 26,
   "outputs": [
    {
     "data": {
      "text/plain": "['',\n 'pandas.merge(df1, df2, on=\"key\", how=\"left\")',\n    key  data1  data2\n 0    b      0    1.0\n 1    b      0    3.0\n 2    b      1    1.0\n 3    b      1    3.0\n 4    a      2    0.0\n 5    a      2    2.0\n 6    c      3    NaN\n 7    a      4    0.0\n 8    a      4    2.0\n 9    b      5    1.0\n 10   b      5    3.0,\n '',\n 'pandas.merge(df1, df2, how=\"inner\")',\n   key  data1  data2\n 0   b      0      1\n 1   b      0      3\n 2   b      1      1\n 3   b      1      3\n 4   b      5      1\n 5   b      5      3\n 6   a      2      0\n 7   a      2      2\n 8   a      4      0\n 9   a      4      2,\n '',\n 'left',\n   key1 key2  lval\n 0  foo  one     1\n 1  foo  two     2\n 2  bar  one     3,\n '',\n 'right',\n   key1 key2  rval\n 0  foo  one     4\n 1  foo  one     5\n 2  bar  one     6\n 3  bar  two     7,\n '',\n 'pandas.merge(left, right, on=[\"key1\",\"key2\"], how=\"outer\")',\n   key1 key2  lval  rval\n 0  foo  one   1.0   4.0\n 1  foo  one   1.0   5.0\n 2  foo  two   2.0   NaN\n 3  bar  one   3.0   6.0\n 4  bar  two   NaN   7.0,\n '',\n 'pandas.merge(left, right, on=\"key1\", suffixes=(\"_left\",\"_right\"))',\n   key1 key2_left  lval key2_right  rval\n 0  foo       one     1        one     4\n 1  foo       one     1        one     5\n 2  foo       two     2        one     4\n 3  foo       two     2        one     5\n 4  bar       one     3        one     6\n 5  bar       one     3        two     7,\n '',\n 'left1',\n   key  value\n 0   a      0\n 1   b      1\n 2   a      2\n 3   a      3\n 4   b      4\n 5   c      5,\n '',\n 'right1',\n    group_val\n a       10.5\n b       20.5,\n '',\n 'pandas.merge(left1, right1, left_on=\"key\", right_index=True)',\n   key  value  group_val\n 0   a      0       10.5\n 2   a      2       10.5\n 3   a      3       10.5\n 1   b      1       20.5\n 4   b      4       20.5,\n '',\n '.merge(L, R, left_key=\"key\", right_index=True, how=\"outer\"',\n   key  value  group_val\n 0   a      0       10.5\n 2   a      2       10.5\n 3   a      3       10.5\n 1   b      1       20.5\n 4   b      4       20.5\n 5   c      5        NaN]"
     },
     "execution_count": 26,
     "metadata": {},
     "output_type": "execute_result"
    }
   ],
   "source": [
    "# many-to-many joins, form the cartesian product of the rows\n",
    "df1 = pandas.DataFrame({'key': ['b', 'b', 'a', 'c', 'a', 'b'], 'data1': range(6)})\n",
    "df2 = pandas.DataFrame({'key': ['a', 'b', 'a', 'b', 'd'], 'data2': range(5)})\n",
    "left = pandas.DataFrame({'key1': ['foo', 'foo', 'bar'],\n",
    "                         'key2': ['one', 'two', 'one'],\n",
    "                         'lval': [1, 2, 3]})\n",
    "right = pandas.DataFrame({'key1': ['foo', 'foo', 'bar', 'bar'],\n",
    "                          'key2': ['one', 'one', 'one', 'two'],\n",
    "                          'rval': [4, 5, 6, 7]})\n",
    "left1 = pandas.DataFrame({'key': ['a', 'b', 'a', 'a', 'b', 'c'], 'value': range(6)})\n",
    "right1 = pandas.DataFrame({'group_val': [10.5, 20.5]}, index=['a', 'b'])\n",
    "\n",
    "o = [\n",
    "    '','pandas.merge(df1, df2, on=\"key\", how=\"left\")',\n",
    "    pandas.merge(df1, df2, on='key', how='left'), '','pandas.merge(df1, df2, how=\"inner\")',\n",
    "    pandas.merge(df1, df2, on='key', how='inner'), '','left',\n",
    "    left, '','right',\n",
    "    right, '','pandas.merge(left, right, on=[\"key1\",\"key2\"], how=\"outer\")',\n",
    "    pandas.merge(left, right, on=['key1', 'key2'], how='outer'), '','pandas.merge(left, right, on=\"key1\", suffixes=(\"_left\",\"_right\"))',\n",
    "    pandas.merge(left, right, on='key1', suffixes=('_left', '_right')), '','left1',\n",
    "    left1, '','right1',\n",
    "    right1, '','pandas.merge(left1, right1, left_on=\"key\", right_index=True)',\n",
    "    pandas.merge(left1, right1, left_on='key', right_index=True), '','.merge(L, R, left_key=\"key\", right_index=True, how=\"outer\"',\n",
    "    pandas.merge(left1, right1, left_on='key', right_index=True, how='outer'),\n",
    "\n",
    "]\n",
    "o"
   ],
   "metadata": {
    "collapsed": false,
    "pycharm": {
     "name": "#%%\n"
    }
   }
  },
  {
   "cell_type": "markdown",
   "source": [
    "## Merging on Index"
   ],
   "metadata": {
    "collapsed": false
   }
  },
  {
   "cell_type": "code",
   "execution_count": 27,
   "outputs": [
    {
     "data": {
      "text/plain": "['',\n 'lefth',\n      key1  key2  data\n 0    Ohio  2000   0.0\n 1    Ohio  2001   1.0\n 2    Ohio  2002   2.0\n 3  Nevada  2001   3.0\n 4  Nevada  2002   4.0,\n '',\n 'righth',\n              event1  event2\n Nevada 2001     0.0     1.0\n        2000     2.0     3.0\n Ohio   2000     4.0     5.0\n        2000     6.0     7.0\n        2001     8.0     9.0\n        2002    10.0    11.0,\n '',\n '.merge(L, R, left_on=[\"key1\",\"key2\"], right_index=True, how=\"outer\")',\n      key1  key2  data  event1  event2\n 0    Ohio  2000   0.0     4.0     5.0\n 0    Ohio  2000   0.0     6.0     7.0\n 1    Ohio  2001   1.0     8.0     9.0\n 2    Ohio  2002   2.0    10.0    11.0\n 3  Nevada  2001   3.0     0.0     1.0\n 4  Nevada  2002   4.0     NaN     NaN\n 4  Nevada  2000   NaN     2.0     3.0,\n '',\n 'left2',\n    Ohio  Nevada\n a   1.0     2.0\n c   3.0     4.0\n e   5.0     6.0,\n '',\n 'right2',\n    Missouri  Alabama\n b       7.0      8.0\n c       9.0     10.0\n d      11.0     12.0\n e      13.0     14.0,\n '',\n '.merge(L, R, how=\"outer\", left_index=True, right_index=True)',\n    Ohio  Nevada  Missouri  Alabama\n a   1.0     2.0       NaN      NaN\n b   NaN     NaN       7.0      8.0\n c   3.0     4.0       9.0     10.0\n d   NaN     NaN      11.0     12.0\n e   5.0     6.0      13.0     14.0,\n '',\n '']"
     },
     "execution_count": 27,
     "metadata": {},
     "output_type": "execute_result"
    }
   ],
   "source": [
    "lefth = pandas.DataFrame({'key1': ['Ohio', 'Ohio', 'Ohio', 'Nevada', 'Nevada'],\n",
    "                          'key2': [2000, 2001, 2002, 2001, 2002],\n",
    "                          'data': np.arange(5.)})\n",
    "righth = pandas.DataFrame(np.arange(12.).reshape((6, 2)),\n",
    "                          index=[['Nevada', 'Nevada', 'Ohio', 'Ohio', 'Ohio', 'Ohio'],\n",
    "                                 [2001, 2000, 2000, 2000, 2001, 2002]],\n",
    "                          columns=['event1', 'event2'])\n",
    "left2 = pandas.DataFrame([[1., 2.], [3., 4.], [5., 6.]], index=['a', 'c', 'e'], columns=['Ohio', 'Nevada'])\n",
    "right2 = pandas.DataFrame([[7., 8.], [9., 10.], [11., 12.], [13, 14]], index=['b', 'c', 'd', 'e'], columns=['Missouri', 'Alabama'])\n",
    "o = [\n",
    "    '','lefth',\n",
    "    lefth, '','righth',\n",
    "    righth, '','.merge(L, R, left_on=[\"key1\",\"key2\"], right_index=True, how=\"outer\")',\n",
    "    pandas.merge(lefth, righth, left_on=['key1', 'key2'], right_index=True, how='outer'), '','left2',\n",
    "    left2, '','right2',\n",
    "    right2, '','.merge(L, R, how=\"outer\", left_index=True, right_index=True)',\n",
    "    pandas.merge(left2, right2, how='outer', left_index=True, right_index=True), '','',\n",
    "]\n",
    "o"
   ],
   "metadata": {
    "collapsed": false,
    "pycharm": {
     "name": "#%%\n"
    }
   }
  },
  {
   "cell_type": "markdown",
   "source": [
    "## Concatenating Along an Axis"
   ],
   "metadata": {
    "collapsed": false
   }
  },
  {
   "cell_type": "code",
   "execution_count": 28,
   "outputs": [],
   "source": [
    "# code"
   ],
   "metadata": {
    "collapsed": false,
    "pycharm": {
     "name": "#%%\n"
    }
   }
  },
  {
   "cell_type": "markdown",
   "source": [
    "## Combining Data w/Overlap"
   ],
   "metadata": {
    "collapsed": false
   }
  },
  {
   "cell_type": "code",
   "execution_count": 29,
   "outputs": [],
   "source": [
    "# code"
   ],
   "metadata": {
    "collapsed": false,
    "pycharm": {
     "name": "#%%\n"
    }
   }
  },
  {
   "cell_type": "markdown",
   "source": [
    "# Reshaping and Pivoting"
   ],
   "metadata": {
    "collapsed": false
   }
  },
  {
   "cell_type": "code",
   "execution_count": 30,
   "outputs": [],
   "source": [
    "# code"
   ],
   "metadata": {
    "collapsed": false,
    "pycharm": {
     "name": "#%%\n"
    }
   }
  },
  {
   "cell_type": "markdown",
   "source": [
    "## Reshaping with Hierarchical Indexing"
   ],
   "metadata": {
    "collapsed": false
   }
  },
  {
   "cell_type": "code",
   "execution_count": 31,
   "outputs": [],
   "source": [
    "# code"
   ],
   "metadata": {
    "collapsed": false,
    "pycharm": {
     "name": "#%%\n"
    }
   }
  },
  {
   "cell_type": "markdown",
   "source": [
    "## Pivoting \"Long\" to \"Wide\" Format"
   ],
   "metadata": {
    "collapsed": false
   }
  },
  {
   "cell_type": "code",
   "execution_count": 32,
   "outputs": [],
   "source": [
    "# code"
   ],
   "metadata": {
    "collapsed": false,
    "pycharm": {
     "name": "#%%\n"
    }
   }
  },
  {
   "cell_type": "markdown",
   "source": [
    "## Pivoting \"Wide\" to \"Long\" Format"
   ],
   "metadata": {
    "collapsed": false
   }
  },
  {
   "cell_type": "code",
   "execution_count": 33,
   "outputs": [],
   "source": [
    "# code\n"
   ],
   "metadata": {
    "collapsed": false,
    "pycharm": {
     "name": "#%%\n"
    }
   }
  }
 ],
 "metadata": {
  "kernelspec": {
   "display_name": "Python 3",
   "language": "python",
   "name": "python3"
  },
  "language_info": {
   "codemirror_mode": {
    "name": "ipython",
    "version": 2
   },
   "file_extension": ".py",
   "mimetype": "text/x-python",
   "name": "python",
   "nbconvert_exporter": "python",
   "pygments_lexer": "ipython2",
   "version": "2.7.6"
  }
 },
 "nbformat": 4,
 "nbformat_minor": 0
}