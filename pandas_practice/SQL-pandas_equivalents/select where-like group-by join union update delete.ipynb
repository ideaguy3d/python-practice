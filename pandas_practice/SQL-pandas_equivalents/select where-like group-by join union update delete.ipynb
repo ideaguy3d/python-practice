{
 "cells": [
  {
   "cell_type": "code",
   "execution_count": 2,
   "metadata": {
    "collapsed": true
   },
   "outputs": [
    {
     "data": {
      "text/plain": "'\\n\\npandas docs itself:\\nhttps://pandas.pydata.org/docs/getting_started/comparison/comparison_with_sql.html#pandas-equivalents-for-some-sql-analytic-and-aggregate-functions\\n\\n'"
     },
     "execution_count": 2,
     "metadata": {},
     "output_type": "execute_result"
    }
   ],
   "source": [
    "import pandas\n",
    "import numpy as np"
   ]
  },
  {
   "cell_type": "markdown",
   "source": [
    "# pandas documentation itself:\n",
    "https://pandas.pydata.org/docs/getting_started/comparison/comparison_with_sql.html#pandas-equivalents-for-some-sql-analytic-and-aggregate-functions\n"
   ],
   "metadata": {
    "collapsed": false,
    "pycharm": {
     "name": "#%% md\n"
    }
   }
  },
  {
   "cell_type": "markdown",
   "source": [
    "# ...WHERE column LIKE '%%'\n",
    "from:\n",
    "https://blog.softhints.com/how-to-use-like-operator-in-pandas-dataframe/\n",
    "\n",
    "*code:*\n",
    "\n",
    "`df[df['class'].str.contains('a', na=False)]`"
   ],
   "metadata": {
    "collapsed": false,
    "pycharm": {
     "name": "#%% md\n"
    }
   }
  },
  {
   "cell_type": "code",
   "execution_count": 5,
   "outputs": [
    {
     "data": {
      "text/plain": "       num_legs  num_wings   class\ndog           4          0  mammal\nhawk          2          2    bird\nshark         0          0    fish\ncat           4          0  mammal\ncrow          2          2    None\nhuman         2          2  mammal",
      "text/html": "<div>\n<style scoped>\n    .dataframe tbody tr th:only-of-type {\n        vertical-align: middle;\n    }\n\n    .dataframe tbody tr th {\n        vertical-align: top;\n    }\n\n    .dataframe thead th {\n        text-align: right;\n    }\n</style>\n<table border=\"1\" class=\"dataframe\">\n  <thead>\n    <tr style=\"text-align: right;\">\n      <th></th>\n      <th>num_legs</th>\n      <th>num_wings</th>\n      <th>class</th>\n    </tr>\n  </thead>\n  <tbody>\n    <tr>\n      <th>dog</th>\n      <td>4</td>\n      <td>0</td>\n      <td>mammal</td>\n    </tr>\n    <tr>\n      <th>hawk</th>\n      <td>2</td>\n      <td>2</td>\n      <td>bird</td>\n    </tr>\n    <tr>\n      <th>shark</th>\n      <td>0</td>\n      <td>0</td>\n      <td>fish</td>\n    </tr>\n    <tr>\n      <th>cat</th>\n      <td>4</td>\n      <td>0</td>\n      <td>mammal</td>\n    </tr>\n    <tr>\n      <th>crow</th>\n      <td>2</td>\n      <td>2</td>\n      <td>None</td>\n    </tr>\n    <tr>\n      <th>human</th>\n      <td>2</td>\n      <td>2</td>\n      <td>mammal</td>\n    </tr>\n  </tbody>\n</table>\n</div>"
     },
     "execution_count": 5,
     "metadata": {},
     "output_type": "execute_result"
    }
   ],
   "source": [
    "data = {'num_legs': [4, 2, 0, 4, 2, 2],\n",
    "        'num_wings': [0, 2, 0, 0, 2, 2],\n",
    "         'class':['mammal', 'bird', 'fish', 'mammal', None,'mammal']}\n",
    "df = pandas.DataFrame(data, index=['dog', 'hawk', 'shark', 'cat', 'crow', 'human'])\n",
    "# sql like:\n",
    "df"
   ],
   "metadata": {
    "collapsed": false,
    "pycharm": {
     "name": "#%%\n"
    }
   }
  },
  {
   "cell_type": "code",
   "execution_count": 6,
   "outputs": [
    {
     "data": {
      "text/plain": "       num_legs  num_wings   class\ndog           4          0  mammal\ncat           4          0  mammal\nhuman         2          2  mammal",
      "text/html": "<div>\n<style scoped>\n    .dataframe tbody tr th:only-of-type {\n        vertical-align: middle;\n    }\n\n    .dataframe tbody tr th {\n        vertical-align: top;\n    }\n\n    .dataframe thead th {\n        text-align: right;\n    }\n</style>\n<table border=\"1\" class=\"dataframe\">\n  <thead>\n    <tr style=\"text-align: right;\">\n      <th></th>\n      <th>num_legs</th>\n      <th>num_wings</th>\n      <th>class</th>\n    </tr>\n  </thead>\n  <tbody>\n    <tr>\n      <th>dog</th>\n      <td>4</td>\n      <td>0</td>\n      <td>mammal</td>\n    </tr>\n    <tr>\n      <th>cat</th>\n      <td>4</td>\n      <td>0</td>\n      <td>mammal</td>\n    </tr>\n    <tr>\n      <th>human</th>\n      <td>2</td>\n      <td>2</td>\n      <td>mammal</td>\n    </tr>\n  </tbody>\n</table>\n</div>"
     },
     "execution_count": 6,
     "metadata": {},
     "output_type": "execute_result"
    }
   ],
   "source": [
    "df[df['class'].str.contains('a', na=False)]"
   ],
   "metadata": {
    "collapsed": false,
    "pycharm": {
     "name": "#%%\n"
    }
   }
  },
  {
   "cell_type": "markdown",
   "source": [
    "# Another article:\n",
    "\n",
    "https://towardsdatascience.com/pandas-equivalent-of-10-useful-sql-queries-f79428e60bd9"
   ],
   "metadata": {
    "collapsed": false,
    "pycharm": {
     "name": "#%% md\n"
    }
   }
  }
 ],
 "metadata": {
  "kernelspec": {
   "display_name": "Python 3",
   "language": "python",
   "name": "python3"
  },
  "language_info": {
   "codemirror_mode": {
    "name": "ipython",
    "version": 2
   },
   "file_extension": ".py",
   "mimetype": "text/x-python",
   "name": "python",
   "nbconvert_exporter": "python",
   "pygments_lexer": "ipython2",
   "version": "2.7.6"
  }
 },
 "nbformat": 4,
 "nbformat_minor": 0
}